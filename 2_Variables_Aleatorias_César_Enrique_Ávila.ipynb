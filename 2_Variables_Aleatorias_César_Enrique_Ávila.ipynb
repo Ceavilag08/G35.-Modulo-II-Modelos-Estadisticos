{
  "nbformat": 4,
  "nbformat_minor": 0,
  "metadata": {
    "colab": {
      "provenance": []
    },
    "kernelspec": {
      "name": "python3",
      "display_name": "Python 3"
    },
    "language_info": {
      "name": "python"
    }
  },
  "cells": [
    {
      "cell_type": "code",
      "execution_count": 3,
      "metadata": {
        "id": "ipcNMgJZzr4g"
      },
      "outputs": [],
      "source": [
        "# Librerías\n",
        "\n",
        "# Todos\n",
        "import numpy as np # Importar la liberia\n",
        "\n",
        "# Variables Aleatorias\n",
        "#usamos itertools\n",
        "from itertools import product\n",
        "from fractions import Fraction\n",
        "\n",
        "# Importamos la libreria Pandas\n",
        "import pandas as pd\n",
        "\n",
        "#Variables Aleatorias Discretas\n",
        "import numpy.random as npr # Para generar números aleatorios\n",
        "import scipy.stats as sps # Paqueterías estadísticas\n",
        "from scipy.stats import randint #Para trabajar una uniforme discreta en un rango de enteros\n",
        "\n",
        "# Para visualizar\n",
        "import matplotlib.pyplot as plt # Para visualizar datos\n",
        "\n",
        "import random #para generar números aleatorios\n",
        "\n",
        "# V.A. Discretas\n",
        "from scipy.stats import poisson\n",
        "from scipy.stats import hypergeom\n",
        "from math import comb\n",
        "\n",
        "# V.A. Continuas\n",
        "\n",
        "import numpy as np # Importamos Numpy\n",
        "import numpy.random as npr # para generar numeros aleatorios\n",
        "\n",
        "import scipy.stats as sps # Importamos el modulo SciPy\n",
        "from scipy.stats import randint # para trabajar una uniforme discreta en un rango de enteros\n",
        "\n",
        "import matplotlib.pyplot as plt #Visualizar datos\n",
        "\n",
        "import random # para generar numeros aleatorios\n"
      ]
    },
    {
      "cell_type": "markdown",
      "source": [
        "## 1. Variables Aleatorias Discretas"
      ],
      "metadata": {
        "id": "bqdgew1nzuK8"
      }
    },
    {
      "cell_type": "markdown",
      "source": [
        "### 1.1 Variable aleatoria uniforme discreta"
      ],
      "metadata": {
        "id": "6F_FADXp6ki8"
      }
    },
    {
      "cell_type": "markdown",
      "source": [
        "\n",
        "\n",
        "Una variable aleatoria $X$ tiene distribución uniforme discreta en el conjunto $\\{x_1,...,x_n\\}$ si su función de densidad está dada por\n",
        "$$ f_X(x) = \\mathbb{P}(X=x) = \\begin{cases} \\frac{1}{n},\\quad \\text{si } x\\in \\{x_1,...,x_n\\} \\\\\n",
        "0, \\quad \\text{en otro caso} \\end{cases}$$\n",
        "\n",
        "Se llama uniforme porque cada uno de sus posibles resultados de $X$ tiene la misma probabilidad.\n",
        "\n",
        "**Notación:** $X\\sim Unif(x_1,...,x_n)$\n",
        "\n",
        "La esperanza y varianza de $X$, están dadas por:\n",
        "$$\\mathbb{E}[X]= \\sum_{x} xf_X(x) = \\frac{x_n + x_1}{2}$$\n",
        "y\n",
        "$$ \\text{Var}(X) = \\mathbb{E}\\left[ (X-\\mathbb{E}[X])^2\\right] = \\frac{(x_n - x_1 + 1)^2 -1}{12}$$\n",
        "\n",
        "\\\\\n",
        "\n",
        "Supongamos que $\\mathbb{X}$ es una v.a. discreta con distribución uniforme en el conjunto $\\{x_1,...,x_n\\} \\in \\mathbb{Z}_{+}$ y ${x_1 \\leq x_n}$.\n",
        "\n",
        "Entonces, la esperanza y varianza de $X$ están dados por:\n",
        "\\begin{align*}\n",
        "\\mathbb{E}[X]& = \\sum_{k=x_1}^{x_n}k\\left(\\mathbb{P}{(X=k)}\\right) \\\\\n",
        "             & = \\sum_{k=x_1}^{x_n}k\\left(\\frac{1}{n}\\right) \\\\\n",
        "             & = \\frac{1}{n} \\sum_{k=x_1}^{x_n}k\\\\\n",
        "\\end{align*}\n",
        "\n",
        "dado a que $\\sum_{k=x_1}^{x_n}k = \\frac{n}{2} (x_n+x_1)$\n",
        "\n",
        "sustituyendo en la expresión $\\mathbb{E}[X]:$\n",
        "\n",
        "\\begin{align*}\n",
        "\\mathbb{E}[X]& = \\frac{1}{n} (\\frac{n}{2} (x_n+x_1))\\\\\n",
        "             & = \\frac{x_n+x_1}{2} \\\\\n",
        "\\end{align*}\n",
        "\n",
        "La varianza se define como:\n",
        "\\begin{equation}\n",
        "    \\text{Var}(X) = E[X^2] - (E[X])^2\n",
        "\\end{equation}\n",
        "\n",
        "Primero, calculamos $E[X^2]$:\n",
        "\\begin{equation}\n",
        "    E[X^2] = \\sum_{k=x_1}^{x_n} k^2 P(X = k)\n",
        "\\end{equation}\n",
        "\n",
        "Sustituyendo $P(X = k)$:\n",
        "\\begin{equation}\n",
        "    E[X^2] = \\sum_{k=x_1}^{x_n} k^2 \\frac{1}{x_n-x_1+1}\n",
        "\\end{equation}\n",
        "\n",
        "Factorizando la constante:\n",
        "\\begin{equation}\n",
        "    E[X^2] = \\frac{1}{x_n-x_1+1} \\sum_{k=x_1}^{x_n} k^2\n",
        "\\end{equation}\n",
        "\n",
        "La suma de cuadrados de una secuencia aritmética se expresa como:\n",
        "\\begin{equation}\n",
        "    \\sum_{k=x_1}^{x_n} k^2 = \\frac{(x_n-x_1+1)(x_n+x_1)(2x_n+2x_1+1)}{6}\n",
        "\\end{equation}\n",
        "\n",
        "Sustituyendo en la ecuación de $E[X^2]$:\n",
        "\\begin{equation}\n",
        "    E[X^2] = \\frac{1}{x_n-x_1+1} \\times \\frac{(x_n-x_1+1)(x_n+x_1)(2x_n+2x_1+1)}{6}\n",
        "\\end{equation}\n",
        "\n",
        "Cancelando términos:\n",
        "\\begin{equation}\n",
        "    E[X^2] = \\frac{(x_n+x_1)(2x_n+2x_1+1)}{6}\n",
        "\\end{equation}\n",
        "\n",
        "Ahora calculamos la varianza:\n",
        "\\begin{equation}\n",
        "    \\text{Var}(X) = \\frac{(x_n+x_1)(2x_n+2x_1+1)}{6} - \\left(\\frac{x_1+x_n}{2}\\right)^2\n",
        "\\end{equation}\n",
        "\n",
        "Desarrollando el cuadrado:\n",
        "\\begin{equation}\n",
        "    \\left(\\frac{x_1+x_n}{2}\\right)^2 = \\frac{(x_1+x_n)^2}{4}\n",
        "\\end{equation}\n",
        "\n",
        "Sustituyendo en la ecuación de varianza:\n",
        "\\begin{equation}\n",
        "    \\text{Var}(X) = \\frac{(x_n+x_1)(2x_n+2x_1+1)}{6} - \\frac{(x_1+x_n)^2}{4}\n",
        "\\end{equation}\n",
        "\n",
        "Tomando un denominador común de 12:\n",
        "\\begin{equation}\n",
        "    \\text{Var}(X) = \\frac{2(x_n+x_1)(2x_n+2x_1+1)}{12} - \\frac{3(x_1+x_n)^2}{12}\n",
        "\\end{equation}\n",
        "\n",
        "Expandiendo términos:\n",
        "\\begin{equation}\n",
        "    \\text{Var}(X) = \\frac{4x_n^2 + 8x_nx_1 + 4x_1^2 + 2x_n + 2x_1 - 3x_1^2 - 6x_nx_1 - 3x_n^2}{12}\n",
        "\\end{equation}\n",
        "\n",
        "Simplificando:\n",
        "\\begin{equation}\n",
        "    \\text{Var}(X) = \\frac{x_n^2 - 2x_nx_1 + x_1^2 + x_n + x_1}{12}\n",
        "\\end{equation}\n",
        "\n",
        "Factorizando:\n",
        "\\begin{equation}\n",
        "    \\text{Var}(X) = \\frac{(x_n-x_1+1)^2 - 1}{12}\n",
        "\\end{equation}\n",
        "\n",
        "La función de distribución de una v.a. uniforme es:\n",
        "$$ F_X(x) = \\mathbb{P}(X\\le x) = \\begin{cases} 0, \\quad \\text{si } x < x_1 \\\\ \\frac{x}{n}, \\quad \\text{si } x\\in \\{x_1,...,x_n\\} \\\\\n",
        "1, \\quad \\text{si } x > x_n \\end{cases}$$\n",
        "\n",
        "**Ejemplo** Se lleva a cabo una rifa donde los boletos están enumerados del $00$ al $99$. Si $Y$ es la variable aleatoria definida como el número del boleto ganador, entonces:  \n",
        "$$\\mathbb{P}(Y=k)=\\begin{cases}\n",
        "\\frac{1}{100} &\\quad \\text{si } k=00,01,\\dots,99 \\\\\n",
        "\t0 &\\quad \\text{eoc}\n",
        "\\end{cases}$$\n",
        "Consideremos que el premio de la rifa se determina a partir del número premiado de la siguiente forma: $X=Y+1$, donde $X$ es el monto del premio en pesos y $Y$ es el número premiado, entonces $X$ es una variable aleatoria, pues es una función de $Y$, y además se tiene\n",
        "\t$$f_{X}(k)=\\begin{cases}\n",
        "\t\t\\frac{1}{100} &\\quad \\text{si } x=1,2,\\dots,100 \\\\\n",
        "\t\t0 &\\quad \\text{eoc}\n",
        "\t\\end{cases}$$\n",
        "    \n",
        "\n",
        "Entonces, la esperanza y varianza de $X$ están dados por:\n",
        "$$\\mathbb{E}[X] = \\sum_{k=1}^{100}k\\left(\\frac{1}{100}\\right) = \\frac{1}{100}\\sum_{k=1}^{100}k = \\frac{1}{100}\\left[\\frac{100(100+1)}{2}\\right] = 50.5$$\n",
        "\ty\n",
        "\t$$\\text{Var}(X) = \\mathbb{E}[X^{2}]-(\\mathbb{E}[X])^{2} = \\sum_{k=1}^{100}k^{2}\\left(\\frac{1}{100}\\right)-(50.5)^{2} = 833.25$$   \n",
        "\n",
        "\n",
        "    \n",
        "Supongamos que nos interesa calcular la probabilidad de que el premio sea mayor a $\\$80$, entonces\n",
        "\t$$\\mathbb{P}(X>80) = \\sum_{k=81}^{100}\\frac{1}{100} = \\frac{20}{100} = 0.2$$\n",
        "\tSu función de distribución esta dada por:\n",
        "\t$$F_{X}(x)=\\mathbb{P}(X\\le x)=\\begin{cases}\n",
        "\t\t0 &\\quad \\text{si } x<1 \\\\\n",
        "\t\t\\frac{x}{100} &\\quad \\text{si } x=1,2,\\dots,100\\\\ 1 &\\quad \\text{si } x>100\n",
        "\t\\end{cases}$$"
      ],
      "metadata": {
        "id": "mSyVo7z41FMG"
      }
    },
    {
      "cell_type": "code",
      "source": [
        "#   Gráfica de la distribución Uniforme Discreta\n",
        "\n",
        "# Definir el rango de la distribución uniforme discreta [low,high)\n",
        "low = 0 # límite inferior\n",
        "high = 20 # límite superior\n",
        "\n",
        "# Vamos a crear los valores posibles dentro del rango, mediante un arrange\n",
        "x = np.arange(low,high)\n",
        "\n",
        "# Calcular la función de masa de probabilidad (o función de densidad) de\n",
        "# una distribución uniforme discreta.\n",
        "# (Probability mass function)\n",
        "# Va a asignar una probabilidad entre cada valor entre el límite inferior\n",
        "# y superior de manera que la suma de las probabilidades sea 1\n",
        "pmf = np.full_like(x,1/(high-low), dtype = float)\n",
        "\n",
        "# Para crear una figura más grande\n",
        "#plt.figure(figsize=(12,6))\n",
        "\n",
        "# Graficar pmf\n",
        "plt.bar(x,pmf, width=0.2 ,color='purple',edgecolor='black')\n",
        "plt.xlabel('Valores')\n",
        "plt.ylabel('Probabilidades')\n",
        "plt.title('Función de densidad de una uniforme discreta')\n",
        "#plt.grid(True)\n",
        "plt.show() # Para mostrar el gráfico\n",
        "\n",
        "# https://matplotlib.org/stable/gallery/color/named_colors.html"
      ],
      "metadata": {
        "colab": {
          "base_uri": "https://localhost:8080/",
          "height": 472
        },
        "id": "-NXWML5F6OHg",
        "outputId": "8b8dcead-6351-4103-d5ff-6da7cecdc8f2"
      },
      "execution_count": 6,
      "outputs": [
        {
          "output_type": "display_data",
          "data": {
            "text/plain": [
              "<Figure size 640x480 with 1 Axes>"
            ],
            "image/png": "[encoded data removed]"
          },
          "metadata": {}
        }
      ]
    },
    {
      "cell_type": "code",
      "source": [],
      "metadata": {
        "id": "SAIW2pMbLzd1"
      },
      "execution_count": null,
      "outputs": []
    },
    {
      "cell_type": "markdown",
      "source": [
        "### 1.2 Variable aleatoria Bernoulli con parámetro $p\\in (0,1)$."
      ],
      "metadata": {
        "id": "RNamfXUT6o50"
      }
    },
    {
      "cell_type": "markdown",
      "source": [
        "El modelo probabilístico Bernoulli se aplica a un experimento cuyo espacio muestral está constituido sólo por dos resultados posibles, éxito y fracaso:\n",
        "\n",
        "Se considerará una v.a $X$ sobre el espacio muestral\n",
        "$$ \\Omega = \\{\\text{exito} , \\text{fracaso}\\} $$\n",
        "de tal forma que\n",
        "- $X(\\{\\text{exito}\\}) =1 $\n",
        "- $ X(\\{\\text{fracaso}\\}) =0 $\n",
        "\n",
        "Las probabilidades asociadas a este modelo son:\n",
        "- $ \\mathbb{P}(\\{\\text{éxito}\\}) = p $\n",
        "- $ \\mathbb{P}(\\{\\text{fracaso}\\}) = 1-p $\n",
        "\n",
        "donde $0<p<1$.\n",
        "\n",
        "La función de densidad, está definida de la siguiente manera:\n",
        "$$ f_X(x) = \\mathbb{P}(X=x) = \\begin{cases}p^x(1-p)^{1-x}, \\quad \\text{si } x\\in \\{0,1\\} \\\\  0, \\quad \\text{e.o.c.} \\end{cases}$$\n",
        "\n",
        "**Notación:** $X\\sim Ber(p)$\n",
        "\n",
        "Esta variable aleatoria es muy importante. En la practica es usada para modelar situaciones en las cuales hay dos posibles resultados como:\n",
        "* el estado de un teléfono en un momento dado: libre u ocupado.\n",
        "* una persona pueda estar enferma o sana de una determinada enfermedad.\n",
        "* la preferencia de una persona, la cual puede estar a favor o en contra de un candidato determinado.\n",
        "\n",
        "Mediante la combinación de v.a. Bernoulli es posible construir otras v.a.\n",
        "\n",
        "**Esperanza y Varianza**\n",
        "\n",
        "La esperanza y varianza de $X\\sim Ber(p)$, está dada por:\n",
        "$$ \\mathbb{E}[X] =\\sum_{x=0}^{1} x f_{X}(x) = 0\\cdot (1-p) + 1 \\cdot p = p $$\n",
        "y\n",
        "$$ \\mathbb{E}[X^2] =\\sum_{x=0}^{1} x^2 f_{X}(x) = 0^2\\cdot (1-p) + 1^2 \\cdot p = p $$\n",
        "\n",
        "entonces\n",
        "\n",
        "$$ \\text{Var}(X) = \\mathbb{E}[X^2] - (\\mathbb{E}[X])^2 = p - p^2 = p(1-p)$$\n",
        "\n",
        "Para más información, ver [Bernoulli](https://docs.scipy.org/doc/scipy/reference/generated/scipy.stats.bernoulli.html)"
      ],
      "metadata": {
        "id": "IKYbd98f6rxi"
      }
    },
    {
      "cell_type": "code",
      "source": [
        "# Gráfica de la distribución Bernoulli\n",
        "# Importamos Bernoulli\n",
        "from scipy.stats import bernoulli\n",
        "\n",
        "# Definimos nuestra probabilidad de éxito\n",
        "p=0.3\n",
        "\n",
        "# Definiendo los posibles valores\n",
        "x=[0,1]\n",
        "\n",
        "# Calcular la función de masa de probabilidad (o función de densidad).\n",
        "# (Probability mass function)\n",
        "# Va a asignar una probabilidad entre cada valor entre el límite inferior\n",
        "# y superior de manera que la suma de las probabilidades sea 1\n",
        "pmf = bernoulli.pmf(x,p)\n",
        "\n",
        "print(\"La función de densidad = \", pmf)\n",
        "\n",
        "# Graficamos la función de densidad\n",
        "#plt.figure(figsize=(12,6))\n",
        "plt.bar(x,pmf, width=0.2 ,color='pink',edgecolor='black')\n",
        "plt.xlabel('Valores')\n",
        "plt.ylabel('Probabilidades')\n",
        "plt.title('Función de densidad de una bernoulli con p=0.3')\n",
        "#plt.grid(True)\n",
        "plt.show() # Para mostrar el gráfico\n",
        "\n",
        "# https://matplotlib.org/stable/gallery/color/named_colors.html\n",
        "\n",
        "# Cálculo de la esperanza\n",
        "print(\"La esperanza = \",bernoulli.mean(p))\n",
        "\n",
        "# Cálculo de la varianza\n",
        "print(\"La varianza = \",bernoulli.var(p))"
      ],
      "metadata": {
        "id": "aj_kiLI-68o5"
      },
      "execution_count": null,
      "outputs": []
    },
    {
      "cell_type": "markdown",
      "source": [
        "### 1.3 Variable aleatoria Binomial con parámetros $ n $ y $p \\in (0,1)$"
      ],
      "metadata": {
        "id": "lBhNco2M69zp"
      }
    },
    {
      "cell_type": "markdown",
      "source": [
        "Decimos que una v.a. $X$ tiene distribución binomial con parámetros $n$ y $p$, si su función de densidad está dada por:\n",
        "$$ f_X(x) = \\mathbb{P}(X=x) = \\begin{cases} \\binom{n}{x} p^x (1-p)^{n-x}, \\quad \\text{si } x\\in \\{0,1,...n\\} \\\\ 0, \\quad \\text{e.o.c.} \\end{cases} $$\n",
        "donde $ n\\in \\mathbb{Z}_{+}$ y ${0<p<1}$.\n",
        "\n",
        "**Obs:** Los ensayos deben ser independientes.\n",
        "\n",
        "La esperanza de $X$ es:\n",
        "\\begin{align*}\n",
        "\\mathbb{E}[X]&= \\sum_{k \\mathop = 0}^n k \\binom n k p^k (1-p)^{n - k}\\\\\n",
        "&=\\sum_{k \\mathop = 1}^n k \\binom n k p^k (1-p)^{n - k}\\\\\n",
        "&= \\sum_{k \\mathop = 1}^n n \\binom {n - 1} {k - 1} p^k (1-p)^{n - k}\\\\\n",
        "&= n p \\sum_{k \\mathop = 1}^n \\binom {n - 1} {k - 1} p^{k - 1} (1-p)^{( {n - 1}) - ( {k - 1}) }\\\\\n",
        "&=n p \\sum_{j \\mathop = 0}^m \\binom m j p^j (1-p)^{m - j}\\\\\n",
        "&=np\n",
        "\\end{align*}\n",
        "\n",
        "Ahora,\n",
        "\\begin{align*}\n",
        "\\mathbb{E}[X^2]&= \\sum_{k \\mathop = 0}^n k^2 \\binom n k p^k (1-p)^{n - k}\\\\\n",
        "&=\\sum_{k \\mathop = 0}^n k n \\binom {n - 1} {k - 1} p^k (1-p)^{n - k}\\\\\n",
        "&= n p \\sum_{k \\mathop = 1}^n k \\binom {n - 1} {k - 1} p^{k - 1} (1-p)^{({n - 1}) - ({k - 1}) }\\\\\n",
        "&= n p \\sum_{j \\mathop = 0}^m ({j + 1}) \\binom m j p^j (1-p)^{m - j}\\\\\n",
        "&=n p \\left( {\\sum_{j \\mathop = 0}^m j \\binom m j p^j (1-p)^{m - j} + \\sum_{j \\mathop = 0}^m \\binom m j p^j (1-p)^{m - j} }\\right)\\\\\n",
        "&=n p \\left( {\\sum_{j \\mathop = 0}^m m \\binom {m - 1} {j - 1} p^j (1-p)^{m - j} + \\sum_{j \\mathop = 0}^m \\binom m j p^j (1-p)^{m - j} }\\right)\\\\\n",
        "&= n p \\left( (n - 1) p \\sum_{j \\mathop = 1}^m \\binom {m - 1}{j - 1} p^{j - 1} (1-p)^{( {m - 1}) - ({j - 1}) } + \\sum_{j \\mathop = 0}^m \\binom m j p^j (1-p)^{m - j}\\right) \\\\\n",
        "&= n p \\left( (n - 1) p (p + (1-p))^{m - 1} + (p + (1-p))^m\\right)\\\\\n",
        "&= n p ((n - 1) p + 1)\\\\\n",
        "&= (np)^2 +np(1-p),\n",
        "\\end{align*}\n",
        "\n",
        "por lo que la varianza de $X$ es:\n",
        "$$\\text{Var}(X)=np(1-p).$$\n",
        "\n",
        "**Ejemplo** Una moneda justa se tira seis veces, donde la probabilidad de obtener sol es de $0.3$. Sea $X$ el número de veces que cael sol, entonces\n",
        "sabemos que $X$ tiene una distribución binomial con parámetros $n=6$ y $p=0.3$. Calcular:\n",
        "- $ \\mathbb {P}(X=2) = \\binom{6}{2}(0.3)^2 (1-p)^{6-2} = 0.3241 $\n",
        "- $ \\mathbb {P}(X=3) = \\binom{6}{3}(0.3)^3 (1-p)^{6-3} = 0.1852 $\n",
        "- $$ \\begin{align*} \\mathbb{P}(1<X \\le 5) &= \\mathbb{P}(X=2) + \\mathbb{P}(X=3) + \\mathbb{P}(X=4) + \\mathbb{P}(X=5) \\\\\n",
        "    &=0.3241 + 0.1852 + \\binom{6}{4}(0.3)^4 (1-p)^{6-4} + \\binom{6}{5}(0.3)^5 (1-p)^{6-5} \\\\\n",
        "    &=0.579 \\end{align*}$$\n",
        "    \n",
        " Para más información, ver [Binomial](https://docs.scipy.org/doc/scipy/reference/generated/scipy.stats.binom.html)\n",
        "\n",
        "Notemos que $\\mathbb{P}(1<X\\le 5) = F_X(5)-F_X(1)$\n",
        "\n",
        "Usamos el atributo `.cdf` para calcular estas probabilidades"
      ],
      "metadata": {
        "id": "FfLUS1WK7CW0"
      }
    },
    {
      "cell_type": "code",
      "source": [
        "from scipy.stats import binom\n",
        "a = binom.cdf(5,6,0.3) # Calcula la probabilidad acumulada de que haya 5 o menos éxitos en 6 ensayos\n",
        "b = binom.cdf(1,6,0.3) # Calcula la probabilidad acumulada de que haya 1 o menos éxitos en 6 ensayos\n",
        "a-b\n",
        "\n",
        "# **Gráfica de la distribución binomial**\n",
        "\n",
        "# Número de ensallos bernoulli\n",
        "n = 25\n",
        "\n",
        "# Probabilidad de éxito\n",
        "p=0.3\n",
        "\n",
        "# Número de muestras\n",
        "s= 1000\n",
        "\n",
        "# Vamos a generar números aleatorios que siguen una distribución binomial\n",
        "binom_numeros = sps.binom.rvs(n, p, size = s)\n",
        "\n",
        "# Creamos histograma\n",
        "plt.figure(figsize=(10,6))\n",
        "plt.hist(\n",
        "    binom_numeros,\n",
        "    density=True, #normaliza el área para que sea 1\n",
        "    bins = len(np.unique(binom_numeros)), # número de barras del histograma\n",
        "    color = \"indigo\",\n",
        "    edgecolor = \"grey\"\n",
        "    )\n",
        "plt.xlabel('Valores')\n",
        "plt.ylabel('Probabilidades')\n",
        "plt.title('Función de densidad de una binomial')\n",
        "plt.show() # Para mostrar el gráfico\n",
        "\n"
      ],
      "metadata": {
        "id": "qeM9VdvkMI-f"
      },
      "execution_count": null,
      "outputs": []
    },
    {
      "cell_type": "markdown",
      "source": [
        "### 1.4 Variable Aleatoria Poisson"
      ],
      "metadata": {
        "id": "teTW1HNPMa8J"
      }
    },
    {
      "cell_type": "markdown",
      "source": [
        "\n",
        "Es una distribución de probabilidad discreta que sirve para calcular la probabilidad de que ocuirra un determinado número de eventos raros durante un intervalo dado (puede ser tiempo, longitud, área, etc.).\n",
        "\n",
        "Esta v.a. toma valores sobre el conjjunto $ \\{0,1,2...\\} $ y tiene un parámetro $\\lambda>0$, el cual representa el número de veces que se **espera** que ocurra un evento durante un intervalo dado.\n",
        "\n",
        "Su función de densidad, está dado como sigue:\n",
        "\n",
        "$$ f_X(x) = \\mathbb{P}(X=x) = \\begin{cases} e^{-\\lambda}\\frac{\\lambda^x}{x!}, \\quad \\text{si } x\\in \\{0,1,...\\} \\\\\n",
        "0, \\quad \\text{e.o.c.} \\end{cases}$$\n",
        "\n",
        "En efecto, es una función de masa de probabilidades debido a que\n",
        "$$\\begin{align*}\n",
        "\\sum_{k=0}^{\\infty}e^{-\\lambda}\\frac{\\lambda^{k}}{k!} &= e^{-\\lambda}\\sum_{k=0}^{\\infty}\\frac{\\lambda^{k}}{k!} \\\\ &= e^{-\\lambda}\\underbrace{\\left(1+\\lambda+\\frac{\\lambda^{2}}{2!}+\\frac{\\lambda^{3}}{3!}+\\cdots\\right)}_{\\text{desarrollo de Taylor de }e^{\\lambda}} \\\\ &= e^{-\\lambda}e^{\\lambda}=1.\n",
        "\\end{align*}$$\n",
        "\n",
        "Notemos que $\\mathbb{E}{X}=\\lambda$ y que $\\text{Var}(X)=\\lambda$.\n",
        "\n",
        "**Ejemplo** Supongamos que el número de accidentes que ocurre en un punto en un día tiene distribución Poisson con parámetro $\\lambda=2$,\n",
        "- ¿Cuál es la probabilidad de que en un día ocurran más de dos accidentes?\n",
        "$$ \\begin{align*} \\mathbb{P}(X>2) & = 1-\\mathbb{P}(X\\le 2) \\\\\n",
        "    &= 1-[\\mathbb{P}(X=0) + \\mathbb{P}(X=1) + \\mathbb{P}(X=2)] \\\\\n",
        "    &= 1-\\left[e^{-2}\\frac{2^0}{0!} + e^{-2}\\frac{2^1}{1!} + e^{-2}\\frac{2^2}{2!} \\right] \\\\\n",
        "    &= 1 - e^{-2}[1+2+2] = 1-5e^{-2} = 0.3233\n",
        "    \\end{align*}$$\n",
        "    \n",
        "- ¿Cuál es la probabilidad de que ocurran más de dos accidentes sabiendo que por lo menos ocurre uno?\n",
        "$$\\begin{align*}\n",
        "\\mathbb{P}(X>2 \\mid X\\ge 1) = \\frac{\\mathbb{P}(X>2 \\cap X\\ge 1)}{\\mathbb{P}(X\\ge 1)} = \\frac{\\mathbb{P}(X>2)}{\\mathbb{P}(X\\ge 1)} = \\frac{1-\\mathbb{P}(X\\leq 2)}{1-\\mathbb{P}(X<1)} = \\frac{1-5e^{-2}}{1-e^{-2}} = \\frac{0.3233}{0.8646} = 0.3739\n",
        "\\end{align*}$$\n",
        "ya que $\\mathbb{P}(X\\ge 1)=1-\\mathbb{P}(X<1)=1-\\mathbb{P}(X=0)=1-e^{-2}$\n",
        "\n"
      ],
      "metadata": {
        "id": "Z_9vLPyRMhKG"
      }
    },
    {
      "cell_type": "markdown",
      "source": [
        "### 1.5 Aproximación de Poisson a la Binomial"
      ],
      "metadata": {
        "id": "Iwv6_yGvM0we"
      }
    },
    {
      "cell_type": "markdown",
      "source": [
        "La distribución de Poisson es una forma límite de la distribución binomial, es decir, es una buena aproximación cuando $n$ es suficientemente grande y $p$ suficientemente pequeña.\n",
        "\n",
        "$\\textbf{Teorema (Poisson).-}$ Sean $S_{n}\\sim Bin(n,p_{n})$ bajo el regimen $$\\lim_{n\\to \\infty}np_{n}=\\lambda>0.$$\n",
        "Consideremos la siguiente sucesión de números reales:\n",
        "$$a_{j}(n,p_n)=\\begin{cases}\\binom{n}{j}(p_n)^{j}(1-p_{n})^{n-j} & j\\leq n\\\\\n",
        "0 & j\\geq n+1\\end{cases}$$\n",
        "\n",
        " Entonces,\n",
        " $$\\lim_{n\\to \\infty}a_{j}(n,p_n)=a_{j}=e^{-\\lambda}\\frac{\\lambda^{j}}{j!} \\ \\ \\forall j\\in \\mathbb{N}.$$\n",
        "\n",
        " El teorema anterior implica que la distribución de Poisson ofrece un modelo probabilístico adecuado para todos aquellos experimentos aleatorios \ten los que las repeticiones son independientes unas de otras y en los \tque sólo hay dos posibles resultados: éxito o fracaso, con probabilidad de \téxito pequeña, y en los que el interés se centra en conocer el número de éxitos obtenidos al realizar el experimento un número suficientemente grande de veces.\n",
        "\n",
        "Empíricamente se ha establecido, que la aproximación se puede aplicar con seguridad si $n\\ge100$, $p\\le 0.01$ y $np \\le20$.\n",
        "\n",
        "**Ejemplo** Supongamos que la probabilidad de que un producto producido por cierta máquina es defectuoso es de $0.1$. ¿Cuál es la probabilidad de que un lote de 10 productos contenga a lo más un producto defectuoso?\n",
        "\n",
        "Sea $X$ el número de productos defectuosos, y sabemos que $X$ tiene una distribución binomial con parámetros $n=10$ y $p=0.1$, entonces\n",
        "\\begin{align*}\n",
        "\\mathbb{P}(X\\le 1) &= \\mathbb{P}(X=0)+\\mathbb{P}(X=1) \\\\ &= \\binom{10}{0}(0.1)^{0}(0.9)^{10-0}+\\binom{10}{1}(0.1)^{1}(0.9)^{10-1} \\\\ &= 0.7361\n",
        "\t\\end{align*}\n",
        "\n",
        "Ahora, con la distribución Poisson, tenemos que $\\lambda=10(0.1)=1$, por lo que\n",
        "$$\\mathbb{P}(X\\le 1) = \\mathbb{P}(X=0)+\\mathbb{P}(X=1) = \\frac{e^{-1}1^{0}}{0!}+\\frac{e^{-1}1^{1}}{1!} = e^{-1}+e^{-1} =0.7358$$"
      ],
      "metadata": {
        "id": "MtPufNZ4M54t"
      }
    },
    {
      "cell_type": "code",
      "source": [
        "# Gráfica de la aproximación de la binomial a la Poisson\n",
        "# Simulación de la aproximación de la Bonomial a la Poisson\n",
        "param=3 # Parametro de la Poisson que queremos aproximar\n",
        "n=1000 # Este es el número de ensayos en la distribución binomial\n",
        "N=5000 # Este es el número de simulaciones que realizaremos.\n",
        "\n",
        "# Genera una muestra de N valores aleatorios de una distribución binomial con parámetros:\n",
        "# n = 1000 (número de ensayos), p = param/n = 3/1000\n",
        "X=npr.binomial(n,param/n,N)\n",
        "\n",
        "# Calcular la frecuencia relativa de los valores simulados\n",
        "counts = np.bincount(X) / float(N)\n",
        "\n",
        "# Crear un array de valores posibles\n",
        "x = np.arange(len(counts))\n",
        "\n",
        "# Calcular la función de masa de probabilidad (FMP) de la distribución Poisson teórica\n",
        "f_x = sps.poisson.pmf(x, param)\n",
        "\n",
        "plt.close()\n",
        "plt.bar(x - 0.5, counts, color = \"slateblue\", width=1., label=\"ley empírica\")\n",
        "p2 = plt.stem(x, f_x, \"firebrick\", label=\"ley teórica\")\n",
        "plt.legend()\n",
        "plt.show()"
      ],
      "metadata": {
        "id": "Te93FdqvMaVG"
      },
      "execution_count": null,
      "outputs": []
    },
    {
      "cell_type": "markdown",
      "source": [
        "### 1.6 Variable aleatoria Geométrica con parámetro $p\\in (0,1)$."
      ],
      "metadata": {
        "id": "9IGHnxWFNGEi"
      }
    },
    {
      "cell_type": "markdown",
      "source": [
        "Esta variable aleatoria cuenta el número de fracasos antes del primer éxito en ensayos bernoulli independientes con parámetro $0<p<1$, y su función de masa de probabilidades está dada por:\n",
        "$$f_{X}(k)=\\begin{cases}\n",
        "\tp(1-p)^{k-1} &\\quad \\text{si } k=1,2,\\dots \\\\\n",
        "\t\\qquad 0 &\\quad \\text{en otro caso}  \n",
        "\\end{cases}$$\n",
        "\n",
        "\n",
        "Notación. $X\\sim Geo(p)$\n",
        "\n",
        "La cual es una función de densidad ya que:\n",
        "* $0\\le f_{X}(k)\\le 1$ para toda $x$.\n",
        "* $$\\begin{align*}\n",
        "\t\\sum_{k\\in R_{X}}f_{X}(k) &= \\sum_{k=1}^{\\infty}(1-p)^{k-1}p \\\\\n",
        "\t\t\t&= p\\sum_{y=0}^{\\infty}(1-p)^{y} \\\\\n",
        "\t\t\t&= p\\left(\\frac{1}{1-(1-p)}\\right) = 1\n",
        "\t\t\\end{align*}$$\n",
        "\n",
        "Si por el contrario queremos contar el número de éxitos antes del primer fracaso, tenemos que la función de está dada por:\n",
        "\t$$f_{X}(k)=\\begin{cases}\n",
        "\t\tp^{k}(1-p) &\\quad \\text{si } k=0,1,2,\\dots \\\\\n",
        "\t\t\\qquad 0 &\\quad \\text{en otro caso}  \n",
        "\t\\end{cases}$$\n",
        "\n",
        "Para calcular la Esperanza y Varianza de $X$, necesitamos del siguiente lema:\n",
        "\n",
        "**Lema 1** Sea $x$ un número real tal que $│x│<1$. Entonces,\n",
        "$$\\sum_{k=1}^{\\infty}kx^{k-1}=\\frac{1}{(1-x)^2}.$$\n",
        "**Demostración.** Se tiene que\n",
        "$$\\frac{d}{dx}\\sum_{k=1}^{\\infty}x^{k}=\\sum_{k=1}^{\\infty}kx^{k-1}.$$\n",
        "Además,\n",
        "$$\\sum_{k=1}^{\\infty}x^{k}=\\frac{x}{1-x}.$$\n",
        "Por lo tanto,\n",
        "$$\\frac{d}{dx}\\frac{x}{1-x}=\\frac{1}{(1-x)^2}.$$\n",
        "\n",
        "Como corolario,\n",
        "$$\\sum_{k=1}^{\\infty}k(k+1)x^{k-1}=\\frac{2}{(1-x)^2}.$$\n",
        "En efecto,\n",
        "$$\\frac{d}{dx}\\sum_{k=1}^{\\infty}(k+1)x^{k}=\\sum_{k=1}^{\\infty}k(k+1)x^{k-1}.$$\n",
        "Ahora,\n",
        "$$\\sum_{k=1}^{\\infty}(k+1)x^{k}=\\sum_{m=2}^{\\infty}mx^{m-1}=\\frac{1}{(1-x)^2}-1.$$\n",
        "\n",
        "Usando estos resultados, la esperanza de $X$ es:\n",
        "\\begin{align*}\n",
        "\\mathbb{E}[X]&=  \\sum_{x \\mathop \\ge 1} k p(1-p)^{k - 1}\\\\\n",
        "&= p \\frac 1 {(1 - (1-p))^2}\\\\\n",
        "&=  \\frac p {p^2}\\\\\n",
        "&=\\frac{1}{p}\n",
        "\\end{align*}\n",
        "\n",
        "Calculamos,\n",
        "\\begin{align*}\n",
        "\\mathbb{E}[X^2]&= \\sum_{k=1}^{\\infty} x^{2}p(1-p)^{k-1}\\\\\n",
        "&=\\sum_{k=1}^{\\infty}k(k+1)(1-p)^{k-1}p-\\sum_{k=1}^{\\infty}p(1-p)^{k-1}\n",
        "\\end{align*}\n",
        "\n",
        "Por el Lema 1,\n",
        "$$\\mathbb{E}[X^2]=p\\frac{2}{p^3}-\\frac{1}{p}=\\frac{2}{p^2}-\\frac{1}{p}.$$\n",
        "\n",
        "Por lo tanto,\n",
        "$$\\text{Var}(X)=\\frac{2}{p^2}-\\frac{1}{p}-\\frac{1}{p^2}=\\frac{1-p}{p^2}.$$"
      ],
      "metadata": {
        "id": "v18_M2FNNN9W"
      }
    },
    {
      "cell_type": "code",
      "source": [
        "# Gráfica de la distribución geométrica\n",
        "p = 0.6 # probabilidad de éxito\n",
        "s= 100000 # número de muestras\n",
        "\n",
        "random.seed(3) #fijar una semilla\n",
        "#Vamos a generar numeros aleatorios que siguen una distribución geométrica\n",
        "geom_numeros = sps.geom.rvs(p,size=s)\n",
        "\n",
        "#Creamos un histograma\n",
        "plt.figure(figsize=(10,6))\n",
        "plt.hist(\n",
        "    geom_numeros,\n",
        "    density=True, # Normaliza el area para que sea 1\n",
        "    bins=len(np.unique(geom_numeros)), # número de barras del histograma\n",
        "    color = \"darkcyan\",\n",
        "    edgecolor=\"azure\"\n",
        ")\n",
        "\n",
        "plt.xlabel('Valores')\n",
        "plt.ylabel('Probabilidad')\n",
        "plt.title('Función de densidad de una geométrica')\n",
        "plt.show() #mostrar el gráfica"
      ],
      "metadata": {
        "id": "En6pkPxPNVC-"
      },
      "execution_count": null,
      "outputs": []
    },
    {
      "cell_type": "markdown",
      "source": [
        "### 1.7 Variable aleatoria Binomial Negativa con parámetros $r\\geq 1$ y $p\\in (0,1)$"
      ],
      "metadata": {
        "id": "CQ1VJFI0NWHk"
      }
    },
    {
      "cell_type": "markdown",
      "source": [
        "\n",
        "Supongamos que se realizan ensayos independientes, cada uno con probabilidad $0<p<1$ de ser un éxito, hasta obtener un total de $r$ éxitos acumulados. Sea $X$ el número de ensayos que se requieren, entonces su función de masa de probabilidades está dada por:\n",
        "$$f_{X}(k)=\\begin{cases}\n",
        "\t\\binom{n-1}{r-1}p^{r}(1-p)^{n-r} &\\quad \\text{si } n=r,r+1,\\dots \\\\\n",
        "\t\\qquad 0 &\\quad \\text{en otro caso}  \n",
        "\\end{cases}$$\n",
        "\n",
        "\n",
        "\n",
        "Notación. $X\\sim \\text{BN}(r,p)$.\n",
        "\n",
        "Se tiene que\n",
        "$$\\mathbb{E}[X]=\\frac{r}{p}$$\n",
        "y\n",
        "$$\\text{Var}[X]=\\frac{r(1-p)}{p^2}.$$"
      ],
      "metadata": {
        "id": "lg4rJaKqNkyr"
      }
    },
    {
      "cell_type": "code",
      "source": [
        "# Gráfica de la distribución Binomial Negativa\n",
        "r = 10\n",
        "p = 0.4 # probabilidad de éxito\n",
        "s= 100000 # número de muestras\n",
        "\n",
        "random.seed(3) #fijar una semilla\n",
        "#Vamos a generar numeros aleatorios que siguen una distribución geométrica\n",
        "nbinom_numeros = sps.nbinom.rvs(r,p,size=s)\n",
        "\n",
        "#Creamos un histograma\n",
        "plt.figure(figsize=(10,6))\n",
        "plt.hist(\n",
        "    nbinom_numeros,\n",
        "    density=True, # Normaliza el area para que sea 1\n",
        "    bins=len(np.unique(nbinom_numeros)), # número de barras del histograma\n",
        "    color = \"olive\",\n",
        "    edgecolor=\"khaki\"\n",
        ")\n",
        "\n",
        "plt.xlabel('Valores')\n",
        "plt.ylabel('Probabilidad')\n",
        "plt.title('Función de densidad de una BN con r=10 y p=0.4')\n",
        "plt.show() #mostrar el gráfica"
      ],
      "metadata": {
        "id": "5U6nmDcfN0YP"
      },
      "execution_count": null,
      "outputs": []
    },
    {
      "cell_type": "markdown",
      "source": [
        "### 1.8 Variable aleatoria Hipergeométrica con parámetros $n,N,m$."
      ],
      "metadata": {
        "id": "AibhXiBjSGkN"
      }
    },
    {
      "cell_type": "markdown",
      "source": [
        "Supongamos que se elige, sin reemplazo, una muestra de tamaño $n$ de una urna que contiene $N$ bolas, de las cuales $m$ son rojas y $N-m$ son verdes. Sea $X$ el número de ebolas rojas seleccionadas, entonces su función de masa de probabilidades está dada por:\n",
        "$$f_{X}(k)=\n",
        "\t\\frac{\\binom{m}{i}\\binom{N-m}{n-i}}{\\binom{N}{n}} \\quad \\text{si } i=0,1,\\dots, n  \n",
        "$$\n",
        "\n",
        "\n",
        "\n",
        "Notación. $X\\sim \\text{Hiper}(n,N,m)$.\n",
        "\n",
        "Se tiene que\n",
        "$$\\mathbb{E}[X]=\\frac{nm}{N}$$\n",
        "y\n",
        "$$\\text{Var}[X]=\\frac{nm}{N}\\left[\\frac{(n-1)(m-1)}{N-1}+1-\\frac{nm}{N} \\right].$$\n",
        "\n",
        "**Nota.** Si $i\\leq n$ y $X\\sim \\text{Hiper}(n,N,m)$, cuando $p=\\frac{m}{N}$ y $m,N$ son muy grandes con respecto a $n$ e $i$:\n",
        "$$\\mathbb{P}(X=i)\\approx \\binom{n}{i}p^{i}(1-p)^{n-i}.$$\n",
        "\n",
        "\n"
      ],
      "metadata": {
        "id": "VTmdhLt6SI2z"
      }
    },
    {
      "cell_type": "markdown",
      "source": [
        "**Ejemplo** Se lleva a cabo una rifa donde los boletos están enumerados del $00$ al $99$. Si $Y$ es la variable aleatoria definida como el número del boleto ganador, entonces:  \n",
        "$$\\mathbb{P}(Y=k)=\\begin{cases}\n",
        "\t\\frac{1}{100} &\\quad \\text{si } k=00,01,\\dots,99 \\\\\n",
        "\t0 &\\quad \\text{en otro caso}\n",
        "\\end{cases}$$\n",
        "Consideremos que el premio de la rifa se determina a partir del número premiado de la siguiente forma: $X=Y+1$, donde $X$ es el monto del premio en pesos y $Y$ es el número premiado, entonces $X$ es una variable aleatoria, pues es una función de $Y$, y además se tiene\n",
        "\t$$f_{X}(k)=\\begin{cases}\n",
        "\t\t\\frac{1}{100} &\\quad \\text{si } x=1,2,\\dots,100 \\\\\n",
        "\t\t0 &\\quad \\text{en otro caso}\n",
        "\t\\end{cases}$$\n",
        "  $$ \\mathbb{E}(X) = \\sum_{k=00}^{99} X \\frac {1}{100}$$"
      ],
      "metadata": {
        "id": "-98HZ3BhSnBM"
      }
    },
    {
      "cell_type": "code",
      "source": [
        "xn=100\n",
        "x1=1\n",
        "esperanza=(xn+x1)/2\n",
        "varianza= ((xn-x1+1)^2-1)/12\n",
        "print('La esperanza es =',esperanza)\n",
        "print('La varianza es =',varianza)"
      ],
      "metadata": {
        "id": "gKW3o5QQSp0M"
      },
      "execution_count": null,
      "outputs": []
    },
    {
      "cell_type": "markdown",
      "source": [
        "**Ejemplo** Supongamos que el número de accidentes que ocurre en un punto en un día tiene distribución Poisson con parámetro $\\lambda=2$.  \n",
        "- ¿cuál es la probabilidad de que en un día ocurran más de dos accidentes?\n",
        "- ¿cuál es la probabilidad de que ocurran más de dos accidentes sabiendo que por lo menos ocurre uno?"
      ],
      "metadata": {
        "id": "HMKIE9tbSqW9"
      }
    },
    {
      "cell_type": "code",
      "source": [
        "lambda_p=2\n",
        "\n",
        "#Probabilidad X>2\n",
        "proba1 = 1 - poisson.cdf(2, lambda_p)\n",
        "\n",
        "#Probabilidad de que ocurre por lo menos un accidente\n",
        "proba2 = 1 - poisson.cdf(0, lambda_p)\n",
        "\n",
        "proba3=proba1/proba2\n",
        "\n",
        "print ('La probabilidad de que ocurran mas de dos accidentes es:', proba1)\n",
        "print ('La probabilidad de que ocurran dos accidentes sabiendo que por lo menos ocurre uno', proba3)"
      ],
      "metadata": {
        "id": "5H14jN0lSu_u"
      },
      "execution_count": null,
      "outputs": []
    },
    {
      "cell_type": "markdown",
      "source": [
        "### 1.9 Ejercicios"
      ],
      "metadata": {
        "id": "mIpOPFHfTCsN"
      }
    },
    {
      "cell_type": "markdown",
      "source": [
        "\\\\\n",
        "$\\color{red}{\\text{Ejercicio 1.}}$ Calcular la esperanza y varianza.   \n",
        "\n",
        "Supongamos que $\\mathbb{X}$ es una v.a. discreta con distribución uniforme en el conjunto $\\{x_1,...,x_n\\} \\in \\mathbb{Z}_{+}$ y ${x_1 \\leq x_n}$.\n",
        "\n",
        "Entonces, la esperanza y varianza de $X$ están dados por:\n",
        "\\begin{align*}\n",
        "\\mathbb{E}[X]& = \\sum_{k=x_1}^{x_n}k\\left(\\mathbb{P}{(X=k)}\\right) \\\\\n",
        "             & = \\sum_{k=x_1}^{x_n}k\\left(\\frac{1}{n}\\right) \\\\\n",
        "             & = \\frac{1}{n} \\sum_{k=x_1}^{x_n}k\\\\\n",
        "\\end{align*}\n",
        "\n",
        "dado a que $\\sum_{k=x_1}^{x_n}k = \\frac{n}{2} (x_n+x_1)$\n",
        "\n",
        "sustituyendo en la expresión $\\mathbb{E}[X]:$\n",
        "\n",
        "\\begin{align*}\n",
        "\\mathbb{E}[X]& = \\frac{1}{n} \\frac{n}{2} (x_n+x_1)\\\\\n",
        "             & = \\frac{x_n+x_1}{2} \\\\\n",
        "\\end{align*}\n",
        "\n",
        "La varianza se define como:\n",
        "\\begin{equation}\n",
        "    \\text{Var}(X) = E[X^2] - (E[X])^2\n",
        "\\end{equation}\n",
        "\n",
        "Primero, calculamos $E[X^2]$:\n",
        "\\begin{equation}\n",
        "    E[X^2] = \\sum_{k=x_1}^{x_n} k^2 P(X = k)\n",
        "\\end{equation}\n",
        "\n",
        "Sustituyendo $P(X = k)$:\n",
        "\\begin{equation}\n",
        "    E[X^2] = \\sum_{k=x_1}^{x_n} k^2 \\frac{1}{x_n-x_1+1}\n",
        "\\end{equation}\n",
        "\n",
        "Factorizando la constante:\n",
        "\\begin{equation}\n",
        "    E[X^2] = \\frac{1}{x_n-x_1+1} \\sum_{k=x_1}^{x_n} k^2\n",
        "\\end{equation}\n",
        "\n",
        "La suma de cuadrados de una secuencia aritmética se expresa como:\n",
        "\\begin{equation}\n",
        "    \\sum_{k=x_1}^{x_n} k^2 = \\frac{(x_n-x_1+1)(x_n+x_1)(2x_n+2x_1+1)}{6}\n",
        "\\end{equation}\n",
        "\n",
        "Sustituyendo en la ecuación de $E[X^2]$:\n",
        "\\begin{equation}\n",
        "    E[X^2] = \\frac{1}{x_n-x_1+1} \\times \\frac{(x_n-x_1+1)(x_n+x_1)(2x_n+2x_1+1)}{6}\n",
        "\\end{equation}\n",
        "\n",
        "Cancelando términos:\n",
        "\\begin{equation}\n",
        "    E[X^2] = \\frac{(x_n+x_1)(2x_n+2x_1+1)}{6}\n",
        "\\end{equation}\n",
        "\n",
        "Ahora calculamos la varianza:\n",
        "\\begin{equation}\n",
        "    \\text{Var}(X) = \\frac{(x_n+x_1)(2x_n+2x_1+1)}{6} - \\left(\\frac{x_1+x_n}{2}\\right)^2\n",
        "\\end{equation}\n",
        "\n",
        "Desarrollando el cuadrado:\n",
        "\\begin{equation}\n",
        "    \\left(\\frac{x_1+x_n}{2}\\right)^2 = \\frac{(x_1+x_n)^2}{4}\n",
        "\\end{equation}\n",
        "\n",
        "Sustituyendo en la ecuación de varianza:\n",
        "\\begin{equation}\n",
        "    \\text{Var}(X) = \\frac{(x_n+x_1)(2x_n+2x_1+1)}{6} - \\frac{(x_1+x_n)^2}{4}\n",
        "\\end{equation}\n",
        "\n",
        "Tomando un denominador común de 12:\n",
        "\\begin{equation}\n",
        "    \\text{Var}(X) = \\frac{2(x_n+x_1)(2x_n+2x_1+1)}{12} - \\frac{3(x_1+x_n)^2}{12}\n",
        "\\end{equation}\n",
        "\n",
        "Expandiendo términos:\n",
        "\\begin{equation}\n",
        "    \\text{Var}(X) = \\frac{4x_n^2 + 8x_nx_1 + 4x_1^2 + 2x_n + 2x_1 - 3x_1^2 - 6x_nx_1 - 3x_n^2}{12}\n",
        "\\end{equation}\n",
        "\n",
        "Simplificando:\n",
        "\\begin{equation}\n",
        "    \\text{Var}(X) = \\frac{x_n^2 - 2x_nx_1 + x_1^2 + x_n + x_1}{12}\n",
        "\\end{equation}\n",
        "\n",
        "Factorizando:\n",
        "\\begin{equation}\n",
        "    \\text{Var}(X) = \\frac{(x_n-x_1+1)^2 - 1}{12}\n",
        "\\end{equation}\n"
      ],
      "metadata": {
        "id": "yCMXPBFkTLIN"
      }
    },
    {
      "cell_type": "markdown",
      "source": [
        "$\\color{red}{\\text{Ejercicio 2.}}$ Calcular la esperanza y varianza.   "
      ],
      "metadata": {
        "id": "E7HWm7LvTalu"
      }
    },
    {
      "cell_type": "code",
      "source": [
        "xn=100\n",
        "x1=1\n",
        "esperanza=(xn+x1)/2\n",
        "varianza= ((xn-x1+1)^2-1)/12\n",
        "print('La esperanza es =',esperanza)\n",
        "print('La varianza es =',varianza)"
      ],
      "metadata": {
        "id": "CyIR_EGcTJKa"
      },
      "execution_count": null,
      "outputs": []
    },
    {
      "cell_type": "markdown",
      "source": [
        "$\\color{red}{\\text{Ejercicio 3.}}$ Usando el atributo `.cdf` [Poisson](https://docs.scipy.org/doc/scipy/reference/generated/scipy.stats.poisson.html) calcula las probabilidades anteriores.  "
      ],
      "metadata": {
        "id": "oAog4FeWTe5l"
      }
    },
    {
      "cell_type": "code",
      "source": [
        "lambda_p=2\n",
        "\n",
        "#Probabilidad X>2\n",
        "proba1 = 1 - poisson.cdf(2, lambda_p)\n",
        "\n",
        "#Probabilidad de que ocurre por lo menos un accidente\n",
        "proba2 = 1 - poisson.cdf(0, lambda_p)\n",
        "\n",
        "proba3=proba1/proba2\n",
        "\n",
        "print ('La probabilidad de que ocurran mas de dos accidentes es:', proba1)\n",
        "print ('La probabilidad de que ocurran dos accidentes sabiendo que por lo menos ocurre uno', proba3)"
      ],
      "metadata": {
        "id": "_ISA-uImTzTV"
      },
      "execution_count": null,
      "outputs": []
    },
    {
      "cell_type": "markdown",
      "source": [
        "$\\color{red}{\\text{Ejercicio 4.}}$ Un examen de Estadística consta de 20 preguntas tipo test y se conoce de experiencias\n",
        "anteriores que un alumno tiene probabilidad 0.7 de contestar bien cada pregunta. Obtener:\n",
        "\n",
        "a) La probabilidad de que la primera pregunta que contesta bien sea la cuarta.\n",
        "\n",
        "b) Sabiendo que para aprobar el examen es necesario contestar bien a 10 preguntas, ¿cuál es la probabilidad de que apruebe al contestar la pregunta duodécima?"
      ],
      "metadata": {
        "id": "UXLPSKLGTmzV"
      }
    },
    {
      "cell_type": "code",
      "source": [
        "# Importamos las librerías necesarias\n",
        "import numpy as np\n",
        "import scipy.stats as sps  # Paqueterías estadísticas\n",
        "import matplotlib.pyplot as plt # Para visualizar datos\n",
        "\n",
        "\n",
        "p = 0.7  # Probabilidad de contestar bien una pregunta\n",
        "\n",
        "# a) Probabilidad de que la primera pregunta que contesta bien sea la cuarta.\n",
        "\n",
        "prob_a = p * (1 - p) ** (4 - 1)  # Fórmula de la distribución geométrica\n",
        "\n",
        "print(f\"a) La probabilidad de que la primera pregunta correcta sea la cuarta es: {prob_a:.4f}\")\n",
        "\n",
        "# b) Probabilidad de que apruebe al contestar la pregunta duodécima.\n",
        "\n",
        "r = 10  # Número de preguntas correctas necesarias para aprobar\n",
        "s = 100000  # Número de muestras\n",
        "prob_b = sps.nbinom.pmf(12 - r, r, p)  # Fórmula de la binomial negativa\n",
        "print(f\"b) La probabilidad de aprobar al contestar la pregunta duodécima es: {prob_b:.4f}\")\n",
        "\n",
        "# Generar números aleatorios que siguen una distribución binomial negativa\n",
        "nbinom_numeros = sps.nbinom.rvs(r, p, size=s)\n",
        "\n",
        "# Crear un histograma\n",
        "plt.figure(figsize=(10, 6))\n",
        "plt.hist(\n",
        "    nbinom_numeros,\n",
        "    density=True,  # Normaliza el área para que sea 1\n",
        "    bins=len(np.unique(nbinom_numeros)),  # Número de barras del histograma\n",
        "    color=\"olive\",\n",
        "    edgecolor=\"khaki\"\n",
        ")\n",
        "\n",
        "plt.xlabel('Valores')\n",
        "plt.ylabel('Probabilidad')\n",
        "plt.title('Función de densidad de una Binomial Negativa con r=10 y p=0.7')\n",
        "plt.show()"
      ],
      "metadata": {
        "id": "kcNheLD4TvA0"
      },
      "execution_count": null,
      "outputs": []
    },
    {
      "cell_type": "markdown",
      "source": [
        "$\\color{red}{\\text{Ejercicio 5.}}$ Investigue sobre el problema de la caja de cerillos de Banach y explique su solución.\n",
        "\n",
        "El problema de la caja de cerillos de Banach es un interesante concepto en la teoría de conjuntos y la topología. Se presenta en el contexto de la teoría de la medida y se refiere a la posibilidad de cubrir un conjunto no medible con una colección de conjuntos medibles.\n",
        "\n",
        "En términos simples, imagina que tienes una caja de cerillos (o fósforos) y quieres saber si puedes organizar esos cerillos de tal manera que puedas cubrir un conjunto que no tiene un \"tamaño\" bien definido (es decir, que no se puede medir de manera convencional). El problema se centra en la existencia de conjuntos que son \"raros\" en el sentido de que no se pueden medir con la noción estándar de longitud, área o volumen.\n",
        "\n",
        "La solución a este problema se relaciona con la construcción de conjuntos no medibles, como el conjunto de Vitali, que se forma utilizando la relación de equivalencia en los números reales. Este conjunto se puede construir eligiendo un representante de cada clase de equivalencia de números reales bajo la relación de ser \"diferentes por un número racional\". A través de este proceso, se demuestra que es posible crear un conjunto que no puede ser medido en el sentido tradicional."
      ],
      "metadata": {
        "id": "fCGUz4P7T2IN"
      }
    },
    {
      "cell_type": "markdown",
      "source": [
        "$\\color{red}{\\text{Ejercicio 6.}}$ Replica la gráfica de la funcion de densidad de una distribución hipergeometrica."
      ],
      "metadata": {
        "id": "Sp25euTVT8Ge"
      }
    },
    {
      "cell_type": "code",
      "source": [
        "def plot_hipergeometrica(N, m, n):\n",
        "\n",
        "    #Grafica la función de masa de probabilidad de la distribución Hipergeométrica.\n",
        "\n",
        "    #Parámetros:\n",
        "    #N: Tamaño total de la población\n",
        "    #m: Número total de éxitos en la población\n",
        "    #n: Tamaño de la muestra\n",
        "\n",
        "    x = np.arange(0, min(m, n) + 1)  # Valores posibles de la variable aleatoria\n",
        "    pmf = hypergeom.pmf(x, N, m, n)  # Función de masa de probabilidad\n",
        "\n",
        "    plt.figure(figsize=(8, 5))\n",
        "    plt.stem(x, pmf, basefmt=\"b\")  # Grafica en forma de línea con puntos\n",
        "    plt.xlabel('Número de éxitos en la muestra')\n",
        "    plt.ylabel('Probabilidad')\n",
        "    plt.title(f'Distribución Hipergeométrica (N={N}, m={m}, n={n})')\n",
        "    plt.grid()"
      ],
      "metadata": {
        "id": "Na1BxPUOT-hE"
      },
      "execution_count": null,
      "outputs": []
    },
    {
      "cell_type": "markdown",
      "source": [
        "$\\color{red}{\\text{Ejercicio 7.}}$ Una compañía petrolera realiza un estudio geológico que indica que un pozo petrolero exploratorio debería tener un 20% de posibilidades de encontrar petróleo.\n",
        "\n",
        "- ¿Cuál es la probabilidad de que el primer pozo se produzca en el tercer pozo perforado?\n",
        "\n",
        "- ¿Cuál es la probabilidad de que el tercer pozo se produzca en el séptimo pozo perforado?\n",
        "\n",
        "- ¿Cuál es la media y la varianza del número de pozos que se deben perforar si la compañía petrolera quiere establecer tres pozos productores?"
      ],
      "metadata": {
        "id": "dzN105HdUBPW"
      }
    },
    {
      "cell_type": "code",
      "source": [
        "# Probabilidad de encontrar petróleo\n",
        "p = 0.2\n",
        "q = 1 - p  # Probabilidad de no encontrar petróleo\n",
        "\n",
        "# 1. Probabilidad de que el primer pozo se produzca en el tercer pozo perforado\n",
        "# Fórmula: P(X = k) = q^(k-1) * p (Distribución geométrica)\n",
        "k1 = 3\n",
        "probabilidad_1 = q**(k1 - 1) * p\n",
        "print(f\"Probabilidad de que el primer pozo se produzca en el tercer pozo perforado: {probabilidad_1:.4f}\")\n",
        "\n",
        "# 2. Probabilidad de que el tercer pozo se produzca en el séptimo pozo perforado\n",
        "# Fórmula: P(X = x) = comb(x-1, r-1) * p^r * q^(x-r) (Distribución binomial negativa)\n",
        "k2 = 7  # Número total de pozos perforados\n",
        "r = 3   # Tercer pozo productor\n",
        "probabilidad_2 = comb(k2 - 1, r - 1) * (p*r) * (q*(k2 - r))\n",
        "print(f\"Probabilidad de que el tercer pozo se produzca en el séptimo pozo perforado: {probabilidad_2:.4f}\")\n",
        "\n",
        "# 3. Media y varianza del número de pozos necesarios para establecer tres pozos productores\n",
        "# Media: E(X) = r / p\n",
        "# Varianza: Var(X) = r * (1 - p) / p^2\n",
        "media = r / p\n",
        "varianza = r * q / (p**2)\n",
        "print(f\"Media del número de pozos necesarios: {media}\")\n",
        "print(f\"Varianza del número de pozos necesarios: {varianza}\")"
      ],
      "metadata": {
        "id": "uzk55pVCUFIU"
      },
      "execution_count": null,
      "outputs": []
    },
    {
      "cell_type": "markdown",
      "source": [
        "## 2. Variables Aleatorias Continuas"
      ],
      "metadata": {
        "id": "CPmdiHUk0amk"
      }
    },
    {
      "cell_type": "markdown",
      "source": [
        "\n",
        "$$ F_X(x) = \\mathbb{P}(X\\leq x) = \\int_{-\\infty}^{x}f_X(t)dt$$\n",
        "existe $f_X$ que es la función de densidad.\n",
        "\n",
        "Podemos encontrar $f_X$ de $X$, como sigue:\n",
        "$$ \\frac{dF_X(x)}{dx} =f_X(x)$$"
      ],
      "metadata": {
        "id": "qyZ-cozuUK--"
      }
    },
    {
      "cell_type": "markdown",
      "source": [
        "### 2.1 Variable aleatoria uniforme sobre el intervalo $(a,b)$.\n"
      ],
      "metadata": {
        "id": "LOvlJH4NUMVN"
      }
    },
    {
      "cell_type": "markdown",
      "source": [
        "Una variable aleatoria $X$ se dice que tiene distribución uniforme continua  en el intervalo $(a,b)$ con $a,b\\in\\mathbb{R}$, si su función de densidad esta dada por:\n",
        "$$f_{X}(x)=\\begin{cases}\n",
        "\t\\frac{1}{b-a} &\\quad \\text{si } a< x < b\\\\\n",
        "\t\\qquad 0 &\\quad \\text{en otro caso}  \n",
        "\\end{cases}$$\n",
        "\n",
        "**Notación.** $X\\sim \\text{Unif}(a,b)$ $\\text{Unif}[a,b]$\n",
        "\n",
        "**Obs:**\n",
        "* La distribución uniforme continua en $(a,b)$ es simétrica.\n",
        "* A los intervalos de la misma longitud contenidos en $(a,b)$ se les asigna la misma probabilidad. Esto se representa gráficamente con la probabilidad de que $X$ se encuentre en el intervalo $(s,t)$:\n",
        "\n",
        "\n",
        "La función de distribución de $X\\sim Unif((a,b))$ esta dada por:\n",
        "$$F_{X}(x)=\\begin{cases}\n",
        "\t 0 &\\quad \\text{si } x\\le a \\\\\n",
        "\t\\frac{x-a}{b-a} &\\quad \\text{si } a<x<b\\\\\n",
        "\t 1 &\\quad \\text{si } x\\ge b  \n",
        "\\end{cases}$$\n",
        "\n",
        "La esperanza de una variable aleatoria uniforme es la siguiente,\n",
        "$$\\begin{align*}\n",
        "\\mathbb{E}[X] &= \\int_{a}^{b}xf_{X}(x)dx = \\int_{a}^{b}x\\frac{1}{b-a}dx = \\frac{1}{b-a}\\int_{a}^{b}xdx  = \\frac{1}{b-a}\\left[\\frac{x^{2}}{2}\\right]_{a}^{b} \\\\ &= \\frac{1}{b-a}\\left[\\frac{b^{2}}{2}-\\frac{a^{2}}{2}\\right] =  \\frac{b^{2}-a^{2}}{2(b-a)} = \\frac{(b-a)(b+a)}{2(b-a)} = \\frac{a+b}{2}.\n",
        "\\end{align*}$$\n",
        "\n",
        "Para calcular la varianza, primero vamos a calcular el segundo momento\n",
        "$$\\begin{align*}\n",
        "\\mathbb{E}[X^{2}] &= \\int_{a}^{b}x^{2}f_{X}(x)dx = \\int_{a}^{b}x^{2}\\frac{1}{b-a}dx = \\frac{1}{b-a}\\int_{a}^{b}x^{2}dx \\\\ &= \\frac{1}{b-a}\\left[\\frac{x^{3}}{3}\\right]_{a}^{b} = \\frac{1}{b-a}\\left[\\frac{b^{3}}{3}-\\frac{a^{3}}{3}\\right] =  \\frac{b^{3}-a^{3}}{3(b-a)}.\n",
        "\\end{align*}$$\n",
        "\n",
        "Por lo que se tiene lo siguiente\n",
        "\n",
        "$$Var(X) = \\mathbb{E}[X^{2}]-(\\mathbb{E}[X])^{2} =\\frac{b^{3}-a^{3}}{3(b-a)}-\\left(\\frac{a+b}{2}\\right)^{2} = \\frac{(b-a)^{2}}{12}.$$"
      ],
      "metadata": {
        "id": "NDUicGeWUR9r"
      }
    },
    {
      "cell_type": "code",
      "source": [
        "# Parámetros de la distribución uniforme\n",
        "a = 0  # límite inferior\n",
        "b = 1  # límite superior\n",
        "\n",
        "# Definimos las funciones de densidad y distribución\n",
        "# Función de densidad (pdf) de la distribución uniforme\n",
        "def uniform_pdf(x, a, b):\n",
        "    return np.where((x >= a) & (x <= b), 1 / (b - a), 0)\n",
        "\n",
        "# Función de distribución (cdf) de la distribución uniforme\n",
        "def uniform_cdf(x, a, b):\n",
        "    return np.where(x < a, 0, np.where(x > b, 1, (x - a) / (b - a)))\n",
        "\n",
        "# Generar valores de x\n",
        "x = np.linspace(-0.5, 1.5, 1000)\n",
        "\n",
        "# Calcular la función densidad\n",
        "pdf_values = uniform_pdf(x, a, b)\n",
        "\n",
        "# Calcular la función de distribución\n",
        "cdf_values = uniform_cdf(x, a, b)\n",
        "\n",
        "# Graficar la PDF\n",
        "plt.figure(figsize=(10, 5))\n",
        "\n",
        "plt.subplot(1, 2, 1)\n",
        "plt.plot(x, pdf_values, label='PDF', color='blue')\n",
        "plt.xlabel('x')\n",
        "plt.ylabel('Densidad de probabilidad')\n",
        "plt.title('Función de Densidad (PDF)')\n",
        "plt.grid(True)\n",
        "\n",
        "# Graficar la CDF\n",
        "plt.subplot(1, 2, 2)\n",
        "plt.plot(x, cdf_values, label='CDF', color='orange')\n",
        "plt.xlabel('x')\n",
        "plt.ylabel('Función de distribución acumulada')\n",
        "plt.title('Función de Distribución Acumulada (CDF)')\n",
        "plt.grid(True)\n",
        "\n",
        "plt.tight_layout()\n",
        "plt.show()"
      ],
      "metadata": {
        "id": "Aqdo8NKBUVIc"
      },
      "execution_count": null,
      "outputs": []
    },
    {
      "cell_type": "markdown",
      "metadata": {
        "id": "1ed00a58"
      },
      "source": [
        "**Ejemplo.** \tSea $X\\sim Unif((-3,2))$. Vamos a calcular: $P(X\\ge 0)$ y\n",
        "$P(-5 \\le X \\le 1/2)$.\n",
        "**Solución.** La función de densidad de esta variable aleatoria esta dada por:\n",
        "$$f_{X}(x)=\\begin{cases}\n",
        "\t\\quad \\frac{1}{5} &\\quad \\text{si } -3\\le x \\le 2\\\\\n",
        "\t\\quad 0 &\\quad \\text{e.o.c}  \n",
        "\\end{cases}$$\n",
        "Entonces,\n",
        "\n",
        "$$\\begin{align}\n",
        "\\mathbb{P}(X\\ge 0) &= \\int_{0}^{2}\\frac{1}{5}dx=\\frac{1}{5}x\\Big|_{0}^{2}=\\frac{2}{5} \\\\\n",
        "\\mathbb{P}(-5 \\le X \\le 1/2) &= \\int_{-3}^{1/2}\\frac{1}{5}dx=\\frac{1}{5}x\\Big|_{-3}^{1/2}=\\frac{1}{5}\\left(\\frac{1}{2}+3\\right)=\\frac{7}{10}\n",
        "\\end{align}$$"
      ]
    },
    {
      "cell_type": "markdown",
      "metadata": {
        "id": "36f7a030"
      },
      "source": [
        "$\\color{red}{\\text{Ejercicio 1.}}$ Un alumno se dirige a la biblioteca para solicitar el préstamo de un libro y decide que no puede esperar más de $10$ minutos en ser atendido. Supongamos que el bibliotecario tarda por lo menos $0.5$ minutos en atender a una persona, entonces es razonable proponer una distribución uniforme en el intervalo $[0.5,10]$ para modelar el comportamiento de la variable $X$ que es el tiempo en ser atendido (en  minutos).\n",
        "\n",
        "- Da la función de densidad y gráfica.\n",
        "- ¿Cuál es la probabilidad de que el tiempo en ser atendido sea mayor a $5$ minutos pero menor a $8$ minutos?\n",
        "- ¿Cuál es la esperanza y varianza?\n",
        "- Calcula la función de distribución y con ella calcula: $\\mathbb{P}(2.51\\le X \\le 7.99)$."
      ]
    },
    {
      "cell_type": "code",
      "execution_count": null,
      "metadata": {
        "id": "73fa6456"
      },
      "outputs": [],
      "source": [
        "import numpy as np\n",
        "import matplotlib.pyplot as plt\n",
        "from scipy.stats import uniform\n",
        "\n",
        "# Parámetros de la distribución uniforme\n",
        "a = 0.5  # mínimo\n",
        "b = 10   # máximo\n",
        "\n",
        "# Función de densidad y gráfica\n",
        "x = np.linspace(a - 1, b + 1, 500)\n",
        "pdf = uniform.pdf(x, loc=a, scale=b-a)\n",
        "\n",
        "plt.figure(figsize=(10, 5))\n",
        "plt.plot(x, pdf, 'b-', lw=2, label='Función de densidad')\n",
        "plt.fill_between(x, pdf, where=(x >= a) & (x <= b), color='blue', alpha=0.2)\n",
        "plt.title('Función de densidad Uniforme [0.5, 10]')\n",
        "plt.xlabel('Tiempo de atención (min)')\n",
        "plt.ylabel('Densidad de probabilidad')\n",
        "plt.legend()\n",
        "plt.grid(True)\n",
        "plt.show()\n",
        "\n",
        "# Probabilidad entre 5 y 8 minutos\n",
        "prob_5_8 = uniform.cdf(8, loc=a, scale=b-a) - uniform.cdf(5, loc=a, scale=b-a)\n",
        "print(f\"P(5 < X < 8) = {prob_5_8*100:.2f}%\")\n",
        "\n",
        "# Esperanza y varianza\n",
        "esperanza = uniform.mean(loc=a, scale=b-a)\n",
        "varianza = uniform.var(loc=a, scale=b-a)\n",
        "print(f\"E[X] = {esperanza:.2f}\")\n",
        "print(f\"Var(X) = {varianza:.4f} \")\n",
        "\n",
        "# Función de distribución y cálculo de P(2.51 ≤ X ≤ 7.99)\n",
        "x_cdf = np.linspace(a - 1, b + 1, 500)\n",
        "cdf = uniform.cdf(x_cdf, loc=a, scale=b-a)\n",
        "\n",
        "plt.figure(figsize=(10, 5))\n",
        "plt.plot(x_cdf, cdf, 'r-', lw=2, label='Función de distribución')\n",
        "plt.title('Función de distribución Uniforme [0.5, 10]')\n",
        "plt.xlabel('Tiempo de atención (min)')\n",
        "plt.ylabel('Probabilidad acumulada')\n",
        "plt.legend()\n",
        "plt.grid(True)\n",
        "plt.show()\n",
        "\n",
        "# Cálculo de la probabilidad\n",
        "prob_2_51_7_99 = uniform.cdf(7.99, loc=a, scale=b-a) - uniform.cdf(max(2.51, a), loc=a, scale=b-a)\n",
        "print(f\"P(2.51 ≤ X ≤ 7.99) = {prob_2_51_7_99*100:.2f}%\")"
      ]
    },
    {
      "cell_type": "code",
      "execution_count": null,
      "metadata": {
        "id": "0e06b4e6"
      },
      "outputs": [],
      "source": [
        "from scipy.stats import uniform\n",
        "\n",
        "# Parámetros de la distribución uniforme\n",
        "a = 0  # límite inferior\n",
        "b = 1  # límite superior\n",
        "\n",
        "# Crear el objeto de distribución uniforme usando scipy\n",
        "uniform_dist = uniform(loc=a, scale=b-a)\n",
        "\n",
        "# Generar valores de x\n",
        "x = np.linspace(-0.5, 1.5, 1000)\n",
        "\n",
        "# Calcular la PDF usando scipy\n",
        "pdf_values = uniform_dist.pdf(x)\n",
        "\n",
        "# Calcular la CDF usando scipy\n",
        "cdf_values = uniform_dist.cdf(x)\n",
        "\n",
        "# Graficar la PDF\n",
        "plt.figure(figsize=(10, 5))\n",
        "\n",
        "plt.subplot(1, 2, 1)\n",
        "plt.plot(x, pdf_values, label='PDF', color='blue')\n",
        "plt.xlabel('x')\n",
        "plt.ylabel('Densidad de probabilidad')\n",
        "plt.title('Función de Densidad (PDF)')\n",
        "plt.grid(True)\n",
        "\n",
        "# Graficar la CDF\n",
        "plt.subplot(1, 2, 2)\n",
        "plt.plot(x, cdf_values, label='CDF', color='orange')\n",
        "plt.xlabel('x')\n",
        "plt.ylabel('Función de distribución acumulada')\n",
        "plt.title('Función de Distribución Acumulada (CDF)')\n",
        "plt.grid(True)\n",
        "\n",
        "plt.tight_layout()\n",
        "plt.show()"
      ]
    },
    {
      "cell_type": "markdown",
      "metadata": {
        "id": "b53688fa"
      },
      "source": [
        "$$\\mathbb{P}(X\\ge 0) = 1-\\mathbb{P}(X<0) = 1-F_X (0)$$\n",
        "\n",
        "$$F_X(x):=\\mathbb{P}(X\\le x)$$\n",
        "\n",
        "\n",
        "$$\\mathbb{P}(-5 \\le X \\le 1/2) = F_X (1/2)-F_X(-5)$$"
      ]
    },
    {
      "cell_type": "code",
      "execution_count": null,
      "metadata": {
        "id": "7c77d15e",
        "outputId": "3b95bcae-b079-49af-93b2-2f39bb7761d7"
      },
      "outputs": [
        {
          "name": "stdout",
          "output_type": "stream",
          "text": [
            "P(X >= 0) = 0.4\n",
            "P(-5 <= X <= 1/2) = 0.7\n"
          ]
        }
      ],
      "source": [
        "from scipy.stats import uniform\n",
        "\n",
        "# Parámetros de la distribución uniforme\n",
        "a = -3  # límite inferior\n",
        "b = 2   # límite superior\n",
        "\n",
        "# Crear el objeto de distribución uniforme usando scipy\n",
        "uniform_dist = uniform(loc=a, scale=b-a)\n",
        "\n",
        "# Calcular P(X >= 0) = 1 - P(X < 0)\n",
        "p_0 = 1 - uniform_dist.cdf(0)\n",
        "\n",
        "# Calcular P(-5 <= X <= 1/2)\n",
        "p_interval = uniform_dist.cdf(1/2) - uniform_dist.cdf(-5)\n",
        "\n",
        "# Imprimir los resultados\n",
        "print(f\"P(X >= 0) = {p_0}\")\n",
        "print(f\"P(-5 <= X <= 1/2) = {p_interval}\")"
      ]
    },
    {
      "cell_type": "markdown",
      "source": [
        "### 2.2 Variable aleatoria exponencial con parámetro $\\lambda >0$."
      ],
      "metadata": {
        "id": "BIco15P9VXJe"
      }
    },
    {
      "cell_type": "markdown",
      "source": [
        "La distribución exponencial es una de las distribuciones continuas más utilizadas. A menudo se utiliza para modelar el tiempo transcurrido entre eventos.  \n",
        "\n",
        "Algunos ejemplos en los que podría utilizarse la distribución exponencial son:\n",
        "* El tiempo transcurrido en un call center hasta recibir la primer llamada del día.\n",
        "* El  tiempo entre terremotos de una determinada magnitud.\n",
        "* Supongamos una máquina que produce hilo de alambre, la cantidad de metros de alambre hasta encontrar una falla en el alambre se podría modelar como una exponencial.\n",
        "\n",
        "Se dice que la variable aleatoria $X$ tiene distribución exponecial de parámetro $\\lambda>0$, si su función de densidad está dada por:\n",
        "$$f_{X}(x)=\\begin{cases}\n",
        "\\lambda e^{-\\lambda x} & x>0\\\\\n",
        "0 & \\text{en otro caso}\n",
        "\\end{cases}$$\n",
        "\n",
        "\n",
        "Notación. $X\\sim \\exp(\\lambda).$\n",
        "\n",
        "$\\textbf{Propiedad de pérdida de memoria:}$\n",
        "$$\\mathbb{P}(X>t+s \\mid X>t)=\\mathbb{P}(X>s)=e^{-\\lambda s}.$$\n",
        "\n",
        "Ejercicio: Demostrar la propiedad de pérdida de memoria para $X\\sim \\exp(\\lambda)$.\n",
        "\n",
        "Ejemplo: hipótesis natural para modelar las duraciones de vida de átomos radioactivas (Rutherford y Soddy). Cada átomo radioactivo posee una duración de vida que sigue una ley exponencial. En este campo, el parámetro $\\lambda$ se llama la constante de desintegración.\n",
        "\n",
        " Si $t\\mapsto \\rho(t)=\\mathbb{P}(X>t)$ verifica\n",
        "$$\\rho(t+s)=\\rho(t)\\rho(s),$$\n",
        "de manera que (derivando en $s$, con $s=0$),\n",
        "$$\\rho^{\\prime}(t)=-\\rho(t)\\lambda \\qquad \\ \\lambda=-\\rho^{\\prime}(0)\\geq 0.$$\n",
        "Así,\n",
        "$$\\rho(t)=e^{-\\lambda t} \\qquad \\text{y} \\qquad f(t)=\\lambda e^{-\\lambda t} \\ \\  \\rho(0)=1.$$\n",
        "\n",
        "\n",
        "\n",
        "La esperanza y varianza de de una distribución exponencial de la forma $$f_{X}(x)=\\begin{cases}\n",
        "\\frac{1}{\\lambda} e^{-\\frac{x}{\\lambda}} & x>0\\\\\n",
        "0 & \\text{en otro caso}\n",
        "\\end{cases}$$:\n",
        "$$\\mathbb{E}[X]= \\int_{0}^{\\infty}xf_{x}(x)dx = \\int_{0}^{\\infty}x\\frac{1}{\\lambda}e^{-\\frac{x}{\\lambda}}dx = \\lambda$$\n",
        "y\n",
        "\\begin{align*}\n",
        "\\text{Var}(X) &= \\mathbb{E}[X^{2}]-(\\mathbb{E}[X])^{2} = \\int_{0}^{\\infty}x^{2}f_{x}(x)dx-\\lambda^{2} \\\\ &= \\int_{0}^{\\infty}x^{2}\\frac{1}{\\lambda}e^{-\\frac{x}{\\lambda}}dx - \\lambda^{2} = \\lambda^{2}\n",
        "\\end{align*}\n",
        "\n",
        "**Ejemplo**\n",
        "\n",
        "Consideremos la variable aleatoria $X$ como el tiempo (en minutos) entre la llegada de dos personas a la fila  de una sucuarsal bancaria.\n",
        "\n",
        "Adicionalmente, el banco ha determinado que solo el $10\\%$ de las veces, el tiempo que transcurre entre la llegada de una persona y otra es mayor a dos minutos.\n",
        "\n",
        "Esto permite calcular el valor de $\\lambda$, ya que\n",
        "$$\\mathbb{P}(X>2)=0.1$$\n",
        "entonces\n",
        "$$1-\\mathbb{P}(X\\le 2) = 1-F_{X}(2) = 0.1$$\n",
        "\n",
        "Por lo que $F_{X}(2)= 1-e^{\\frac{-2}{\\lambda}} =0.9$, entonces\n",
        "$e^{\\frac{-2}{\\lambda}}=0.1$. Por lo que\n",
        "$$\\frac{-2}{\\lambda}=\\ln(0.1) \\Rightarrow \\lambda=0.87$$\n",
        "Por lo tanto $X\\sim\\exp(0.87)$.\n",
        "\n",
        "Ahora queremos calcular la probabilidad de que entre la llegada de una persona y otra transcurra por lo menos un minuto, lo cual puede calcularse de dos formas:\n",
        "\n",
        "\n",
        "\\begin{align*}\n",
        "\\mathbb{P}(X>1) &= \\int_{1}^{\\infty}f_{X}(x)dx = \\int_{1}^{\\infty}\\frac{1}{0.87}e^{\\frac{-x}{0.87}}dx = 0.32\n",
        "\\end{align*}\n",
        "\\item \\begin{align*}\n",
        "\\mathbb{P}(X>1) &= 1-\\mathbb{P}(X\\le 1) = 1-\\left[1-e^{\\frac{-1}{0.87}}\\right] = -e^{\\frac{-1}{0.87}}\n",
        "\\end{align*}"
      ],
      "metadata": {
        "id": "0zuh1IOLVb0d"
      }
    },
    {
      "cell_type": "markdown",
      "metadata": {
        "id": "fe00af9b"
      },
      "source": [
        "Una propiedad interesante de la distribución exponencial es que puede verse como un análogo continuo de la distribución geométrica. Para ver esto, recuerde el experimento aleatorio detrás de la distribución geométrica: lanza una moneda (repite un experimento de Bernoulli) hasta que observa las primeras caras (éxito).\n",
        "\n",
        "\n",
        "$\\mathbf{Teorema.-}$ Sea $\\varepsilon>0$ y $Y_{\\epsilon}\\sim Geo(p_{\\varepsilon})$. Supongamos que nos encontramos en el regimen:\n",
        "$$\\lim_{\\varepsilon\\to 0}p_{\\varepsilon}=0 \\qquad \\text{y} \\qquad \\varepsilon^{-1}p_{\\varepsilon}\\sim \\lambda>0$$\n",
        "   Sea $X_{\\varepsilon}:=\\varepsilon Y_{\\varepsilon}$. Entonces,\n",
        "   $$\\lim_{\\varepsilon\\to 0}F_{X_{\\varepsilon}}(x)=F_{X}(x),$$\n",
        "   en donde $X\\sim \\exp(\\lambda)$. Este también es un resultado de convergencia en ley.\n",
        "\n",
        "Visualicemos lo anterior:"
      ]
    },
    {
      "cell_type": "markdown",
      "metadata": {
        "id": "02b41019"
      },
      "source": [
        "También, tenemos el siguiente resultado:\n",
        "\n",
        "$\\mathbf{Teorema.-}$ Sea $X\\sim \\exp(1)$. Si $Y=\\min\\{k\\in \\mathbb{Z}: k\\geq \\lambda X \\}$, con $\\lambda>0$, entonces\n",
        "$$Y\\sim Geo\\left(p=1-e^{-1/\\lambda} \\right).$$"
      ]
    },
    {
      "cell_type": "markdown",
      "source": [
        "### 2.3 Variable aleatoria normal con parámetros media $\\mu$ y varianza $\\sigma^{2}$."
      ],
      "metadata": {
        "id": "6n6s7vgQVqNm"
      }
    },
    {
      "cell_type": "markdown",
      "source": [
        "La distribución normal es una de las más importantes y de mayor uso tanto en la teoría de la probabilidad, como en la teoría estadística.\n",
        "\n",
        "También llamada distribución gaussiana, en honor a Gauss, a quien se considera el padre de ésta distribución.\n",
        "\n",
        "La importancia de la distribución normal, radica en el famoso Teorema central del límite. Fue descubierta por De Moivre en 1733 como un límite de la distribución binomial.\n",
        "\n",
        "\n",
        "La importancia de esta distribución radica en que permite modelar numerosos fenómenos naturales, sociales y psicológicos, por ejemplo:\n",
        "* Estatura\n",
        "* Efectos de un fármaco\n",
        "* Consumo de cierto producto por un grupo de individuos\n",
        "* Coeficiente intelectual\n",
        "* Nivel de ruido en telecomunicaciones\n",
        "* Errores cometidos al medir ciertas magnitudes\n",
        "\n",
        "Además, esta distribución juega un papel de suma importancia en la inferencia estadística.\n",
        "\n",
        "Se dice que la variable aleatoria $X$ tiene distribución normal de parámetros $\\mu$ y $\\sigma^{2}$, donde $\\mu,\\sigma\\in\\mathbb{R}$ y $\\sigma>0$, si su función de densidad está dada por:\n",
        "$$f_{X}(x)=\\begin{cases}\n",
        "\t\\frac{1}{\\sqrt{2\\pi\\sigma^{2}}}e^{-\\frac{(x-\\mu)^{2}}{2\\sigma^{2}}} &\\quad \\text{si }  x \\in\\mathbb{R} \\\\\n",
        "\t\\qquad 0 &\\quad \\text{e.o.c}  \n",
        "\\end{cases}$$\n",
        "\n",
        "**Notación.** $X\\sim N(\\mu,\\sigma^{2})$\n",
        "\n",
        "\n",
        "Tal curva (**la campana de Gauss-Bell**) es una función que depende de los parámetros $\\mu$ y $\\sigma^{2}$.\n",
        "\n",
        "\n",
        "**Observación:** El parámetro $\\mu$ se llama *media* y el  parámetro $\\sigma^{2}$ se llama *varianza*.\n",
        "\n",
        "La función de densidad definida anteriormente es efecto función de densidad, ya que\n",
        "$$\\int_{\\mathbb{R}}f_{X}(x)dx = \\int_{\\mathbb{R}}\\frac{1}{\\sqrt{2\\pi\\sigma^{2}}}e^{-\\frac{(x-m)^{2}}{2\\sigma^{2}}}  = 1 $$\n",
        "\n",
        "Variable aleatoria normal con parámetros  0  y  1 .\n",
        "La ley de $Z\\sim N(0,1)$ está dada por la función de densidad\n",
        "$$\n",
        "f_{Z}(z) = \\frac{1}{\\sqrt{2\\pi}}e^{-\\frac{z^2}{2}},\n",
        "$$\n",
        "para $z\\in \\mathbb{R}$.\n",
        "\n",
        "Sabemos que:\n",
        "* La varianza es usada como una medida para comparar la dispersión en dos o más conjuntos de observaciones.\n",
        "* Una desviación estándar pequeña indica que los valores de la variable aleatoria se encuentran cercanos a la media.\n",
        "* Una desviación estándar grande indica que los valores de la variable aleatoria se dispersan mucho con respecto a la media.\n",
        "\n",
        "La función de distribución de una variable aleatoria $X\\sim N(\\mu,\\sigma^{2})$ está dada por:\n",
        "$$F_{X}(x) = \\int_{-\\infty}^{x}\\frac{1}{\\sqrt{2\\pi\\sigma^{2}}}e^{-\\frac{(y-\\mu)^{2}}{2\\sigma^{2}}}dy$$\n",
        "\n",
        "Esta nos proporciona la probabilidad de que $X$ tome calores menores o iguales a un valor específico $x$, y corresponde al área bajo la curva en el intervalo $(-\\infty,x]$:\n",
        "\n",
        "No es sencillo calcular $F_{X}(x)$, pero cualquier v.a. gaussiana puede transformarse a una v.a. estandarizada. Existen tablas para esta v.a., lo cual hace los cálculos más fáciles.\n",
        "\n",
        "**Proposición**  Sea $X\\sim N(\\mu,\\sigma^{2})$, entonces\n",
        "$$Z=\\frac{X-\\mu}{\\sigma}$$\n",
        "tiene una distribución gaussiana con media $0$ y varianza $1$, es decir, $Z\\sim N(0,1)$.\n",
        "\n",
        "\n",
        "**Demostración** \tPrimero vamos a calcular la función de distribución de $Z$:\n",
        "$$F_{Z}(z):=\\mathbb{P}(Z\\le z) = \\mathbb{P}\\left(\\frac{X-\\mu}{\\sigma}\\le z\\right) = \\mathbb{P}(X\\le \\sigma z + \\mu) := F_{X}(\\sigma z + \\mu)$$\n",
        "Entonces, la función de densidad de $Z$ esta dada por:\n",
        "$$f_{Z}(z) = \\frac{dF_{Z}(z)}{dz} = \\frac{dF_{X}(\\sigma z + \\mu)}{dz} = \\sigma f_{X}(\\mu+\\sigma z) = \\frac{e^{-z^{2}/2}}{\\sqrt{2\\pi}}$$\n",
        "\n",
        "Decimos que $X$ tiene distribución gaussiana estándar (normal estándar), $X\\sim N(0,1)$, si su función de densidad esta dada por:\n",
        "$$f_{X}(x)=\\begin{cases}\n",
        "\t\\frac{e^{-x^{2}/2}}{\\sqrt{2\\pi}} &\\quad \\text{si }  x \\in\\mathbb{R} \\\\\n",
        "\t\\quad 0 &\\quad \\text{e.o.c}  \n",
        "\\end{cases}$$\n",
        "\n",
        "Podemos calcular cualquier probabilidad de la forma\n",
        "$$\\mathbb{P}(a<X<b)$$\n",
        "de la siguiente manera: para $z\\ge 0$, definimos\n",
        "$$\\Phi(z) = \\frac{1}{\\sqrt{2\\pi}}\\int_{0}^{z}e^{-x^{2}/2}dx.$$\n"
      ],
      "metadata": {
        "id": "4IvKlQXTV2n8"
      }
    },
    {
      "cell_type": "code",
      "execution_count": null,
      "metadata": {
        "id": "f7a770c9"
      },
      "outputs": [],
      "source": [
        "import numpy as np\n",
        "import matplotlib.pyplot as plt\n",
        "from scipy.stats import norm\n",
        "fig, ax = plt.subplots()\n",
        "x= np.arange(-4,4,0.001) #generar valores de x\n",
        "ax.set_title('N(0,$1^2$)')\n",
        "ax.set_xlabel('x')\n",
        "ax.set_ylabel('f(x)')\n",
        "ax.plot(x, norm.pdf(x))\n",
        "ax.set_ylim(0,0.45)\n",
        "plt.show()"
      ]
    },
    {
      "cell_type": "markdown",
      "metadata": {
        "id": "85fb93ad"
      },
      "source": [
        "Propiedades de la función de densidad de probabilidades de una distribución normal estándar:\n",
        "\n",
        "1. Es positiva: $f(x)\\geq 0$ para todo $x$ real.\n",
        "2. Es continua y derivable en todas partes.\n",
        "3. Es simétrica alrededor de $\\mu$.\n",
        "4. Conforme $x$ toma valores muy grandes de manera positiva y negativa, la función decrece hacia cero muy rápidamente.\n",
        "5. Tiene un máximo global.\n",
        "6. El área total bajo la curva es igual a $1$."
      ]
    },
    {
      "cell_type": "markdown",
      "metadata": {
        "id": "d89f5411"
      },
      "source": [
        "Veamos el comportamiento de la función conforme se cambia la varianza."
      ]
    },
    {
      "cell_type": "code",
      "execution_count": null,
      "metadata": {
        "id": "e1293890"
      },
      "outputs": [],
      "source": [
        "from scipy.stats import norm\n",
        "fig, ax = plt.subplots()\n",
        "x = np.linspace(-10,10,100)\n",
        "stdvs = [0.5, 0.7, 1.0, 2.0, 3.0, 4.0]\n",
        "for s in stdvs:\n",
        "    ax.plot(x, norm.pdf(x,scale=s), label='stdv=%.1f' % s)\n",
        "\n",
        "ax.set_xlabel('x')\n",
        "ax.set_ylabel('pdf(x)')\n",
        "ax.set_title('Distribución normal')\n",
        "ax.legend(loc='best', frameon=True)\n",
        "ax.set_ylim(0,1)\n",
        "ax.grid(True)"
      ]
    },
    {
      "cell_type": "markdown",
      "metadata": {
        "id": "5263398b"
      },
      "source": [
        "Veamos el comportamiento de la función conforme se cambia la media."
      ]
    },
    {
      "cell_type": "code",
      "execution_count": null,
      "metadata": {
        "id": "d759539a"
      },
      "outputs": [],
      "source": [
        "from scipy.stats import norm\n",
        "fig, ax = plt.subplots()\n",
        "x = np.linspace(-10,10,100)\n",
        "means = [-1.0,-2.0, -1.0, 0.0, 1.0, 2.0, 5.0]\n",
        "for mean in means:\n",
        "    ax.plot(x, norm.pdf(x,loc=mean), label='mean=%.1f' % mean)\n",
        "\n",
        "ax.set_xlabel('x')\n",
        "ax.set_ylabel('pdf(x)')\n",
        "ax.set_title('Distribución normal')\n",
        "ax.legend(loc='best', frameon=True)\n",
        "ax.set_ylim(0,0.45)\n",
        "ax.grid(True)"
      ]
    },
    {
      "cell_type": "markdown",
      "source": [
        "### 2.4 Función de distribución acumulativa de una normal $N(\\mu,\\sigma^2)$."
      ],
      "metadata": {
        "id": "axV0SRbhVsa2"
      }
    },
    {
      "cell_type": "markdown",
      "source": [
        "Gracias a las propiedades anteriores, es posible calcular áreas delimitadas de la función $f$. Si $a$ y $b$ son reales cualesquiera, denotaremos por\n",
        "$$P(a\\leq X\\leq b),$$\n",
        "la probabilidad de que $X$ esté en el intervalo $[a,b]$, al área bajo la curva de $f(x)$ sobre el intervalo $[a,b]$.\n",
        "\n",
        "También, $P(X\\leq x)$ denotara al área bajo la curva de la función $f(x)$ sobre el intervalo $(-\\infty,x)$ y $P(X>x)$ denotara al área bajo la curva de la función $f(x)$ sobre el intervalo $(x, \\infty)$."
      ],
      "metadata": {
        "id": "hRKPe_x8WCGE"
      }
    },
    {
      "cell_type": "markdown",
      "metadata": {
        "id": "998de3ed"
      },
      "source": [
        "A la probabilidad $\\text{cdf}(x):=P(X\\leq x)$ se llama la distribución acumulativa (hasta el valor $x$) de $f(x)$.\n",
        "\n",
        "Con la notación anterior,\n",
        "$$P(a\\leq X\\leq b)=\\text{cdf}(b)-\\text{cdf}(a)$$\n",
        "y\n",
        "$$\\text{sf}(a):=P(X>a)=1-\\text{cdf}(a).$$"
      ]
    },
    {
      "cell_type": "code",
      "execution_count": null,
      "metadata": {
        "id": "104a2bf8"
      },
      "outputs": [],
      "source": [
        "from scipy.stats import norm\n",
        "fig, ax = plt.subplots()\n",
        "# for distribution curve\n",
        "x= np.arange(-4,4,0.001)\n",
        "ax.plot(x, norm.pdf(x))\n",
        "ax.set_title(\"Distribución normal acumulativa\")\n",
        "ax.set_xlabel('x')\n",
        "ax.set_ylabel('pdf(x)')\n",
        "ax.grid(True)\n",
        "# for fill_between\n",
        "px=np.arange(-4,1,0.01)\n",
        "ax.set_ylim(0,0.5)\n",
        "ax.fill_between(px,norm.pdf(px),alpha=0.5, color='g')\n",
        "# for text\n",
        "ax.text(-1,0.1,\"cdf(x)\", fontsize=20)\n",
        "plt.show()"
      ]
    },
    {
      "cell_type": "markdown",
      "source": [
        "### 2.5 Cálculo de probabilidades de una distribución normal"
      ],
      "metadata": {
        "id": "AFdlkGlkVuIs"
      }
    },
    {
      "cell_type": "markdown",
      "source": [
        "Calculemos $\\text{cdf}(2)=\\mathbb{P}(X<2)$ cuando $X\\sim N(3,2^2)$.\n",
        "\n",
        "$$Z = \\frac{X-\\mu}{\\sqrt{\\sigma^2}} \\sim N(0,1)$$\n"
      ],
      "metadata": {
        "id": "UU1zBBJ5WVhs"
      }
    },
    {
      "cell_type": "code",
      "execution_count": null,
      "metadata": {
        "id": "36579ba3",
        "outputId": "a6255919-8683-4085-af5c-3cf533cb3283"
      },
      "outputs": [
        {
          "data": {
            "text/plain": [
              "0.3085375387259869"
            ]
          },
          "execution_count": 31,
          "metadata": {},
          "output_type": "execute_result"
        }
      ],
      "source": [
        "norm.cdf(x=2, loc=3, scale=2) #v.a. con media=3 y st=2"
      ]
    },
    {
      "cell_type": "code",
      "execution_count": null,
      "metadata": {
        "id": "14c6a161"
      },
      "outputs": [],
      "source": [
        "from scipy.stats import norm\n",
        "fig, ax = plt.subplots()\n",
        "# for distribution curve\n",
        "x= np.arange(-4,10,0.001)\n",
        "ax.plot(x, norm.pdf(x,loc=3,scale=2))\n",
        "ax.set_title(\"N(3,$2^2$)\")\n",
        "ax.set_xlabel('x')\n",
        "ax.set_ylabel('pdf(x)')\n",
        "ax.grid(True)\n",
        "# for fill_between\n",
        "px=np.arange(-4,2,0.01)\n",
        "ax.set_ylim(0,0.25)\n",
        "ax.fill_between(px,norm.pdf(px,loc=3,scale=2),alpha=0.5, color='g')\n",
        "# for text\n",
        "ax.text(-0.5,0.02,round(norm.cdf(x=2, loc=3, scale=2),2), fontsize=20)\n",
        "plt.show()"
      ]
    },
    {
      "cell_type": "markdown",
      "metadata": {
        "id": "477e8f54"
      },
      "source": [
        "Calculemos $\\mathbb{P}(0.5<𝑋<2)$ cuando $X\\sim N(1,2)$."
      ]
    },
    {
      "cell_type": "code",
      "execution_count": null,
      "metadata": {
        "id": "e4fcece7",
        "outputId": "17c7fd87-f351-4625-c48a-2f1795ec8392"
      },
      "outputs": [
        {
          "data": {
            "text/plain": [
              "0.3984131339906417"
            ]
          },
          "execution_count": 33,
          "metadata": {},
          "output_type": "execute_result"
        }
      ],
      "source": [
        "s=np.sqrt(2)\n",
        "norm(1, s).cdf(2) - norm(1,s).cdf(0.5)"
      ]
    },
    {
      "cell_type": "code",
      "execution_count": null,
      "metadata": {
        "id": "72bcf9c0"
      },
      "outputs": [],
      "source": [
        "fig, ax = plt.subplots()\n",
        "x= np.arange(-6,8,0.001)\n",
        "ax.plot(x, norm.pdf(x,loc=1,scale=2))\n",
        "ax.set_title(\"N(1,$2^2$)\")\n",
        "ax.set_xlabel('x')\n",
        "ax.set_ylabel('pdf(x)')\n",
        "ax.grid(True)\n",
        "px=np.arange(0.5,2,0.01)\n",
        "ax.set_ylim(0,0.25)\n",
        "ax.fill_between(px,norm.pdf(px,loc=1,scale=2),alpha=0.5, color='g')\n",
        "pro=norm(1, 2).cdf(2) - norm(1,2).cdf(0.5)\n",
        "ax.text(0.2,0.02,round(pro,2), fontsize=20)\n",
        "plt.show()"
      ]
    },
    {
      "cell_type": "markdown",
      "metadata": {
        "id": "c1d12c97"
      },
      "source": [
        "**Ejemplo importante** Si $Z\\sim N(0,1)$, encuentra $\\mathbb{P}(-1.93 < Z < 1.93)$. La probabilidad buscada es:"
      ]
    },
    {
      "cell_type": "code",
      "execution_count": null,
      "metadata": {
        "id": "0deab314",
        "outputId": "01006fa1-6fda-4672-f86f-cfb68a12f75d"
      },
      "outputs": [
        {
          "data": {
            "text/plain": [
              "0.9463931622458901"
            ]
          },
          "execution_count": 35,
          "metadata": {},
          "output_type": "execute_result"
        }
      ],
      "source": [
        "norm(0,1).cdf(1.93)-norm(0,1).cdf(-1.93)"
      ]
    },
    {
      "cell_type": "code",
      "execution_count": null,
      "metadata": {
        "id": "9920b902"
      },
      "outputs": [],
      "source": [
        "fig, ax = plt.subplots()\n",
        "# for distribution curve\n",
        "x= np.arange(-3,3,0.001)\n",
        "ax.plot(x, norm.pdf(x,loc=0,scale=1))\n",
        "ax.set_title(\"N(0,$1^2$)\")\n",
        "ax.set_xlabel('x')\n",
        "ax.set_ylabel('pdf(x)')\n",
        "ax.grid(True)\n",
        "px=np.arange(-1.93,1.93,0.01)\n",
        "ax.set_ylim(0,0.45)\n",
        "ax.fill_between(px,norm.pdf(px,loc=0,scale=1),alpha=0.5, color='g')\n",
        "pro=norm(0, 1).cdf(1.93) - norm(0,1).cdf(-1.93)\n",
        "ax.text(0.2,0.02,round(pro,2), fontsize=20)\n",
        "plt.show()"
      ]
    },
    {
      "cell_type": "markdown",
      "metadata": {
        "id": "2bd6dde5"
      },
      "source": [
        "Cálculo de probabilidades:\n",
        "$\\mathbb{P}(0<Z<b)$: Queremos calcular $\\mathbb{P}(0<Z<0.43)$, lo cuál puede realizarse de la siguiente manera:\n",
        "* Tablas de área a la derecha: $\\mathbb{P}(0<Z<0.43) = 0.1664$\n",
        "\n",
        "$\\mathbb{P}(-b<Z<b)$: Queremos calcular $\\mathbb{P}(-0.16<Z<0.16)$, lo cuál puede realizarse de la siguiente manera:\n",
        "* Tablas de área a la derecha:  $\\mathbb{P}(-0.16<Z<0.16) = \\mathbb{P}(-0.16<Z<0)+\\mathbb{P} (0<Z<0.16) = \\mathbb{P}(0<Z<0.16)+\\mathbb{P}(0<Z<0.16) = 2\\mathbb{P}(0<Z<0.16) = 2(0.0636) = 0.1272$\n",
        "\n",
        "$\\mathbb{P}(Z<-b)$: Queremos calcular $\\mathbb{P}(Z<-1.94)$, lo cuál puede realizarse de la siguiente manera:\n",
        "* Tablas de área a la derecha: $\\mathbb{P}(Z<-1.94) = \\mathbb{P}(Z<0)+\\mathbb{P}(-1.94<Z<0) = \\mathbb{P}(Z<0) + \\mathbb{P}(0<Z<1.94) = 0.5 - 0.4738 = 0.0262$\n",
        "\n",
        "$\\mathbb{P}(Z>-b)$: Queremos calcular $(Z>-0.07)$, lo cuál puede realizarse de la siguiente manera:\n",
        "* Tablas de área a la derecha: $\\mathbb{P}(Z>-0.07) = \\mathbb{P}(-0.07<Z<0) + \\mathbb{P}(Z>0) = \\mathbb{P}(0<Z<0.07) + \\mathbb{P}(Z>0) = 0.0279 + 0.5 = 0.5279$"
      ]
    },
    {
      "cell_type": "markdown",
      "source": [
        "### 2.6 Variable aleatoria Gamma con parámetros $\\alpha$ y $\\lambda$."
      ],
      "metadata": {
        "id": "nQj-pFrEWdQ-"
      }
    },
    {
      "cell_type": "markdown",
      "source": [
        "\n",
        " La distribución gamma se obtiene al considerar el tiempo que transcurre entre cierto número de ocurrencias de eventos que ocurren aleatoriamente en el tiempo\n",
        "\n",
        "La función gamma $\\Gamma:(0,\\infty)\\to \\mathbb{R}$ está definida como\n",
        "\t$$\\Gamma(\\alpha)=\\int_{0}^{\\infty}t^{\\alpha-1}e^{-t}dt.$$\n",
        "\n",
        "\n",
        "\n",
        "*Propiedades de la función gamma*.\n",
        "- $\\Gamma(\\alpha)<\\infty$ para cualquier $\\alpha>0$.\n",
        "- $\\Gamma(\\alpha+1)=\\alpha\\Gamma(\\alpha)$.\n",
        "- Si $n\\geq 1$ $\\Gamma(n)=(n-1)!$\n",
        "- $\\Gamma\\left(\\frac{1}{2} \\right)=\\sqrt{\\pi}$.\n",
        "\n",
        "\n",
        "\n",
        " Si $\\alpha$ y $\\lambda$ son reales positivos, decimos que una variable aleatoria $X$ tiene distribución gamma con parámetros $\\alpha$ y $\\lambda$ si tiene por función de densidad:\n",
        "\t$$\\displaystyle f_{X}(x)=\\begin{cases}\n",
        "\t\\displaystyle \\frac{\\lambda^{\\alpha}x^{\\alpha-1}e^{-\\lambda x} }{\\Gamma(\\alpha)} & x>0\\\\\n",
        "\t0 & \\text{en otro caso}\n",
        "\t\\end{cases}$$\n",
        "En esta caso, escribimos la información anterior como $X\\sim \\Gamma(\\alpha,\\lambda) $\n",
        "\n",
        "\n",
        "Ejemplo 1. Una computadora cuántica cuenta con un tipo de aparato de medición, el cual tiene un tiempo de vida que se distribuye exponencialmente, de tal manera que su tiempo promedio de vida es de  $1000$ horas. Si se utilizan $10$ de estos aparatos en forma consecutiva, uno de ellos después de que el anterior ya no funciona. ¿Cuál es la probabilidad de que alguno de los aparatos estará funcionando después de $10,000$ horas?\n",
        "\n",
        "\n",
        "**Solución.**\n",
        "Sea $X$ el tiempo total de vida de los $5$ aparatos, usados, como se indica, uno después del otro. Entonces $X\\sim \\Gamma(10, 0.001)$. Así,\n",
        "$$\\mathbb{P}(X>10000)=\\int_{10000}^{\\infty}\\frac{(0.001)^{10}}{9!}x^{9}e^{-0.001x}dx=0.4579.$$\n",
        "\n",
        "Ejemplo 2.  Consideremos un call center donde los tiempos entre llamadas son independientes y se distribuyen exponencialmente con una media de 3 minutos. Supongamos que queremos encontrar la probabilidad de que transcurran más de 30 minutos antes de recibir 10 llamadas.\n",
        "\n",
        "\n",
        "**Solución.**\n",
        "Sea $X$ el tiempo total para recibir $10$ llamadas. Dado que el tiempo medio entre llamadas es de $3$ minutos. Entonces $X \\sim \\Gamma(10, \\frac{1}{3})$. Así\n",
        "$$P(X > 30) = \\int_{30}^{\\infty} \\frac{\\left(\\frac{1}{3}\\right)^{10} x^{9} e^{-\\frac{x}{3}}}{9!} \\, dx = 0.45793.$$\n",
        "\n",
        "**Nota.** Si $X\\sim N(0,1)$, entonces $X^{2}\\sim \\Gamma\\left(\\frac{1}{2}, \\frac{1}{2} \\right)$.\n",
        "En efecto, Para $z>0$, se tiene:\n",
        "\t$$F_{X^{2}}(z)=\\mathbb{P}(X^2\\leq z)=\\mathbb{P}(-\\sqrt{z}\\leq X\\leq \\sqrt{z})=F_{X}(\\sqrt{z})-F_{X}(-\\sqrt{z}).$$\n",
        "Por lo tanto,\n",
        "$$f_{X^2}(z)=\\frac{d F_{X^{2}}(z)}{dz}=\\frac{1}{2\\sqrt{z}}f_{X}(\\sqrt{z})+\\frac{1}{2\\sqrt{z}}f_{X}(-\\sqrt{z})=\\frac{1}{\\sqrt{z}}f_{X}(z).$$\n",
        "Ahora,\n",
        "$$f_{X}(\\sqrt{z})=\\frac{1}{\\sqrt{2\\pi}}e^{-\\frac{1}{2}z}.$$\n",
        "\n",
        "Esperanza y Varianza\n",
        "\n",
        "La esperanza, $\\text{E}[X]$ para una variable aleatoria $X\\sim Γ(\\alpha, \\lambda)$ es:\n",
        "\n",
        "$$\n",
        "\\mathbb{E}(X) = \\frac{\\alpha}{\\lambda}\n",
        "$$\n",
        "y su varianza es:\n",
        "$$\n",
        "\\text{Var}(X) = \\frac{\\alpha}{\\lambda^2}\n",
        "$$\n",
        "\n",
        "\n",
        "\n",
        "La distribución gamma es esencial en varios campos por su capacidad para modelar tiempos de espera y eventos con tasas constantes. Sus aplicaciones incluyen:\n",
        "\n",
        "  * $\\textbf{Teoría de colas y procesos estocásticos:}$ Modela el tiempo de espera hasta el k-ésimo evento.\n",
        "  * $\\textbf{Confiabilidad y análisis de supervivencia:}$ Utilizada para tiempos de fallo y eventos críticos en medicina.\n",
        "  * $\\textbf{Hidrología y meteorología:}$ Aplica en la modelación de precipitaciones acumuladas y tamaños de gotas.\n",
        "  * $\\textbf{Procesamiento de imágenes y señales:}$ En el ajuste de modelos a datos de intensidades.\n",
        "  * $\\textbf{Finanzas:}$ Para rendimientos de activos que no siguen distribuciones normales.\n",
        "  * $\\textbf{Biología y ecología:}$ Para tasas de crecimiento y tiempos entre eventos biológicos.\n",
        "  * $\\textbf{Física:}$ Describe tiempos de decaimiento y distribuciones de energía.\n"
      ],
      "metadata": {
        "id": "CZiF6UnDWoYV"
      }
    },
    {
      "cell_type": "markdown",
      "metadata": {
        "id": "7848fd29"
      },
      "source": [
        "- Si $\\alpha = 1$, $\\lambda > 0 \\Rightarrow$ v.a. exponencial.\n",
        "\n",
        "- Si $\\lambda = \\frac{1}{2}$, $\\alpha = \\frac{k}{2}$, $k \\in \\mathbb{Z}^{+} \\Rightarrow$ ji-cuadrada.\n",
        "\n",
        "- Si $\\lambda > 1$ y $\\alpha > 1 \\Rightarrow$ Erlang $\\Rightarrow$ aplicaciones.\n"
      ]
    },
    {
      "cell_type": "markdown",
      "metadata": {
        "id": "199b2969"
      },
      "source": [
        "**Ejemplo** Sea $X \\sim \\mathcal{N}(0,1)$. Demostrar que $ X^2 $ tiene una distribución gamma.\n",
        "\n",
        "**Solución:** Para $z \\geq 0$, se tiene que:\n",
        "\n",
        "$$\n",
        "\\begin{align*}\n",
        "F_{X^2}(z) &= P(X^2 \\leq z) = P(-\\sqrt{z} \\leq X \\leq \\sqrt{z}) \\\\\n",
        "&= F_X(\\sqrt{z}) - F_X(-\\sqrt{z}) \\\\\n",
        "\\end{align*}\n",
        "$$\n",
        "Derivando, obtenemos la función de densidad:\n",
        "\n",
        "$$ f_{X^2}(z) = \\frac{d}{dz} F_{X^2}(z) = \\frac{1}{2\\sqrt{z}} f_X(\\sqrt{z}) + \\frac{1}{2\\sqrt{z}} f_X(-\\sqrt{z}) $$\n",
        "\n",
        "Como la densidad de $X$ es simétrica, se tiene que\n",
        "\n",
        "$$ f_{X^2}(z) = \\frac{1}{\\sqrt{2\\pi}} e^{-z/2} \\frac{1}{2\\sqrt{z}} $$\n",
        "\n",
        "$$ \\frac{(1/2)^{1/2} z^{-1/2} e^{-z/2}}{\\Gamma(1/2)} $$\n",
        "\n",
        "$$ \\sim Gamma\\left(\\frac{1}{2}, \\frac{1}{2}\\right) $$"
      ]
    },
    {
      "cell_type": "markdown",
      "source": [
        "### 2.7 Variable aleatoria Beta con parámetros $\\alpha$ y $\\beta$."
      ],
      "metadata": {
        "id": "TYysWr5SWiVs"
      }
    },
    {
      "cell_type": "markdown",
      "source": [
        "La distribución beta es una familia de distribuciones de probabilidad continua definida en el intervalo [0, 1]. Es particularmente útil para modelar variables que representan proporciones y porcentajes.\n",
        "\n",
        "La función beta, $B(\\alpha, \\beta)$, se define como:\n",
        "\n",
        "$$\n",
        "B(\\alpha, \\beta) = \\int_0^1 t^{\\alpha-1}(1-t)^{\\beta-1} dt = \\frac{\\Gamma(\\alpha) \\Gamma(\\beta)}{\\Gamma(\\alpha + \\beta)}\n",
        "$$\n",
        "\n",
        "La función de densidad de probabilidad de la distribución beta se expresa como:\n",
        "\n",
        "$$\n",
        "f_X(x) = \\frac{x^{\\alpha-1}(1-x)^{\\beta-1}}{B(\\alpha, \\beta)},\n",
        "$$\n",
        "con $x\\in (0,1)$.\n",
        "\n",
        "**Notación.** $X\\sim \\text{Beta}(\\alpha, \\beta)$.\n",
        "\n",
        "\n",
        "\n",
        "Esperanza y Varianza\n",
        "Si $X\\sim \\text{Beta}(\\alpha, \\beta)$, entonces\n",
        "  $$\\mathbb{E}[X] = \\frac{\\alpha}{\\alpha + \\beta}$$\n",
        "y\n",
        "  $$\\text{Var}(X) = \\frac{\\alpha \\beta}{(\\alpha + \\beta)^2 (\\alpha + \\beta + 1)}.$$\n",
        "\n",
        "\n",
        "\n",
        "\n",
        "\n",
        "**Ejemplo.** Supongamos que un análisis sugiere que una nueva inversión tiene una alta probabilidad de éxito. Usando una distribución beta con $\\alpha = 5$ y $\\beta = 1$, entonces:\n",
        "\n",
        "$$\n",
        "f_{X}(x) = 5x^4, \\quad \\mathbb{E}[X] = \\frac{5}{6}, \\quad \\text{Var}(X) = \\frac{5}{252}\n",
        "$$\n",
        "\n",
        "\n",
        "**Aplicaciones en la Vida Real**\n",
        "\n",
        "La distribución beta se utiliza en una variedad de campos, incluyendo:\n",
        "- Finanzas: para modelar la variabilidad en tasas de retorno de inversiones.\n",
        "- Mercadotecnia: para analizar proporciones de respuesta de consumidores.\n",
        "- Ciencias de la salud: en la evaluación de la efectividad de tratamientos médicos.\n",
        "- Ecología: para estimar proporciones en estudios de biodiversidad."
      ],
      "metadata": {
        "id": "3V647DmCWxNl"
      }
    },
    {
      "cell_type": "markdown",
      "source": [
        "### 2.8"
      ],
      "metadata": {
        "id": "MR9vEPefWjOE"
      }
    },
    {
      "cell_type": "markdown",
      "source": [
        "## 3. Simulación de Variables Aleatorias\n",
        "\n",
        "\n"
      ],
      "metadata": {
        "id": "GekCKUP30v20"
      }
    },
    {
      "cell_type": "markdown",
      "source": [
        "### 3.1 El problema del encuentro"
      ],
      "metadata": {
        "id": "SmWtzi-lXO-P"
      }
    },
    {
      "cell_type": "markdown",
      "source": [
        "Romeo y Julieta pretenden encontrarse en un lugar específico entree $[0,60]$.\n",
        "\n",
        "- Si Romeo llega primero, entonces piensa esperar 10 minutos\n",
        "- Si Julieta llega primero, entonces piensa esperar 10 minutos\n",
        "\n",
        "Se elige un número al azar entre $0$ y $60$, y supongamos que el par de números se elige sobre el cuadrado $60^2$, de modo que la probabilidad de un evento, sea el área favorable entre el área total.\n",
        "\n",
        "Sea el evento\n",
        "- $A$: Romeo y Julieta se encuentran a una distancia de $10$ minutos."
      ],
      "metadata": {
        "id": "sscpXRroXUHU"
      }
    },
    {
      "cell_type": "code",
      "execution_count": null,
      "metadata": {
        "id": "c6d2f312"
      },
      "outputs": [],
      "source": [
        "import matplotlib.pyplot as plt\n",
        "import numpy as np\n",
        "\n",
        "# Vamos a generar 100,000 simulaciones\n",
        "muestra = 1000000\n",
        "\n",
        "# Generamos los tiempos aleatorios entre [0,60]\n",
        "# x : tiempo de llegada de Romero [0,60]\n",
        "# y : tiempo de llegada de Romero [0,60]\n",
        "\n",
        "x,y = np.random.uniform(0,60,muestra), np.random.uniform(0,60,muestra)\n",
        "\n",
        "# Vamos a añadir nuestra condición de encuentro\n",
        "encuentro = np.where(abs(x-y)<=10, 'r', 'b') # r si se encuentran y b si no se encuentran\n",
        "\n",
        "# Calculo de la probabilidad del encuentro\n",
        "k=0\n",
        "for elemento in encuentro:\n",
        "    if elemento == 'r':\n",
        "        k += 1\n",
        "\n",
        "print(\"La probabilidad del evento A es: {}.\".format(k/muestra))\n",
        "\n",
        "plt.scatter(x,y,c=encuentro,s=1)\n",
        "plt.show()"
      ]
    },
    {
      "cell_type": "markdown",
      "metadata": {
        "id": "571efc6b"
      },
      "source": [
        "### Generación y uso de variables aleatorias"
      ]
    },
    {
      "cell_type": "markdown",
      "metadata": {
        "id": "c5c50a8d"
      },
      "source": [
        "Daremos recopilación de métodos para generar variables aleatorias utilizados en simulación computacional. Se abordan distribuciones uniformes, exponenciales, normales, binomiales y Poisson, entre otras, así como técnicas como la transformada inversa y el método del rechazo.\n",
        "\n",
        "Ejemplos comunes en simulación:\n",
        "- Tiempo entre llegada de cada persona  \n",
        "- Número de personas por minuto  \n",
        "- Número de artículos por persona  \n",
        "- Cantidad de dinero ganado cada hora  \n",
        "- Tiempo de atención por cliente  \n",
        "- Número de veces que la cajera solicita ayuda durante la jornada  \n",
        "- Cantidad de gente que está formada  \n",
        "- Número de personas que pagan con tarjeta"
      ]
    },
    {
      "cell_type": "markdown",
      "source": [
        "### Métodos de generación de números aleatorios rectangulares\n"
      ],
      "metadata": {
        "id": "TLDVbB4XYCsm"
      }
    },
    {
      "cell_type": "markdown",
      "metadata": {
        "id": "be16276b"
      },
      "source": [
        "\n",
        "La generación de variables aleatorias con esta distribución es importante porque las variables que tengan una distribución diferente, tendrán que usar a ésta como base.\n",
        "\n",
        "- Cada posible resultado entre $a$ y $b$ tiene la misma probabilidad $1/n$.\n",
        "\n",
        "Las variables generadas deben cumplir con:\n",
        "- Los valores generados deben ser independientes y estar idénticamente distribuidos\n",
        "- La secuencia generada debe ser lo más larga posible y ser reproducibles\n",
        "- Debe permitir generar múltiples secuencias\n",
        "- Que usen poca memoria\n",
        "\n",
        "Históricamente se han usado cuatro tipos de métodos para generar sucesiones de números rectangulares:\n",
        "- Métodos manuales\n",
        "- Tablas de biblioteca\n",
        "- Computación analógica\n",
        "- Computación digital"
      ]
    },
    {
      "cell_type": "markdown",
      "source": [
        "#### Generación pseudoaleatoria"
      ],
      "metadata": {
        "id": "Iql4_8dBYF1Q"
      }
    },
    {
      "cell_type": "markdown",
      "metadata": {
        "id": "224f336e"
      },
      "source": [
        "\n",
        "\n",
        "La generación de los números aleatorios rectangulares debe realizarse a través de relaciones matemáticas de recurrencia. Por esta razón se consideran **pseudoaleatorios**, ya que el proceso para generarlos es determinístico.\n",
        "\n",
        "Hay dos métodos que son los más utilizados para la generación. Ambos se basan en la siguiente definición:\n",
        "\n",
        "**Definición.** Dos enteros $a$ y $b$ son congruentes módulo $m$ si su diferencia es un múltiplo entero de $m$ y se expresa como\n",
        "$$𝑎 \\equiv 𝑏 ( \\text{𝑚o𝑑 } 𝑚)$$\n",
        "Como consecuencia:\n",
        "- $(a-b)$ es divisible entre $m$\n",
        "- $a$ y $b$ dan el mismo residuo al ser divididos entre $m$"
      ]
    },
    {
      "cell_type": "markdown",
      "source": [
        "#### Método congruencial multiplicativo"
      ],
      "metadata": {
        "id": "VpTCEYNtYIIo"
      }
    },
    {
      "cell_type": "markdown",
      "metadata": {
        "id": "75ef26e9"
      },
      "source": [
        "\n",
        "\n",
        "Generar una secuencia de números pseudoaleatorios uniformes en el intervalo (0, 1) usando la siguiente fórmula recursiva:\n",
        "\n",
        "$$n_{i+1} = a n_i \\mod m$$\n",
        "- $m$ debe ser tan grande como sea posible, dependiendo de los bits por palabra que maneje la computadora, descontando el bit del signo ($b$). Por lo tanto: $m = 2^b$\n",
        "- $a$ debe satisfacer que $a \\approx 2^{(b+1)/2}$ y que $a \\equiv \\pm 3 \\mod 8$. La segunda expresión equivale a $( a-(\\pm3 ) )$ es múltiplo de $8$.\n",
        "- $n_0$: entero positivo impar menor a $m$\n",
        "- El periodo será de longitud: $m/4$"
      ]
    },
    {
      "cell_type": "code",
      "execution_count": null,
      "metadata": {
        "id": "9a0607e0"
      },
      "outputs": [],
      "source": [
        "# n0 : valor inicial o semilla\n",
        "# a : multiplicador\n",
        "# m : modulo (2^b)\n",
        "# n : el número de numeros que quiero generar\n",
        "\n",
        "def multiplicativo(n0,a,m,n):\n",
        "    secuencia = []\n",
        "    ni = n0 # iniciar con una semilla\n",
        "    for _ in range(n):\n",
        "        ni = (a * ni) % m # calculo el sig numero utilizando la formula recurrente\n",
        "        secuencia.append(ni/m) # normaliza entre 0 y 1\n",
        "    return secuencia"
      ]
    },
    {
      "cell_type": "code",
      "execution_count": null,
      "metadata": {
        "id": "91e24b1f",
        "outputId": "60de33e9-77a2-4a7c-db5f-600d80d1c880"
      },
      "outputs": [
        {
          "name": "stdout",
          "output_type": "stream",
          "text": [
            "[0.37675674771890044, 0.2604887490160763, 0.17212176462635398, 0.6883318466134369, 0.5808951980434358, 0.29038456873968244, 0.5142506300471723, 0.4720426616258919, 0.20400029933080077, 0.9756178413517773]\n"
          ]
        }
      ],
      "source": [
        "m = 2**31\n",
        "a = 65539 # a ≡  +-3 mod 8\n",
        "n0 = 12345\n",
        "n=10\n",
        "\n",
        "secuencia_mult = multiplicativo(n0,a,m,n)\n",
        "print(secuencia_mult)"
      ]
    },
    {
      "cell_type": "code",
      "execution_count": null,
      "metadata": {
        "id": "441ff57b"
      },
      "outputs": [],
      "source": [
        "import numpy as np\n",
        "import plotly.graph_objects as go # Para gráficos interactivos\n",
        "\n",
        "# Generamos ambas secuencias\n",
        "secuencia_mult = multiplicativo(n0,a,m,n)\n",
        "secuencia_numpy = np.random.uniform(0,1,n)\n",
        "\n",
        "# figura con Plotly\n",
        "fig = go.Figure()\n",
        "\n",
        "# Añadir los histogramas\n",
        "fig.add_trace(go.Histogram(\n",
        "    x=secuencia_mult,\n",
        "    nbinsx = 40,\n",
        "    opacity = 0.6,\n",
        "    name = 'Método multiplicativo',\n",
        "    marker_color='red'\n",
        "))\n",
        "\n",
        "fig.add_trace(go.Histogram(\n",
        "    x=secuencia_numpy,\n",
        "    nbinsx = 40,\n",
        "    opacity = 0.6,\n",
        "    name = 'Numpy random uniform',\n",
        "    marker_color='blue'\n",
        "))\n",
        "\n",
        "fig.update_layout(\n",
        "    barmode='overlay', #superpone los histogramas\n",
        "    title = 'Compararación: Método multiplicativo -vs- Numpy',\n",
        "    xaxis_title='valor generado',\n",
        "    yaxis_title='Frecuencia',\n",
        "    legend_title='Método',\n",
        "    bargap=0.05\n",
        ")\n",
        "\n",
        "fig.show()"
      ]
    },
    {
      "cell_type": "markdown",
      "source": [
        "#### Método congruencial mixto"
      ],
      "metadata": {
        "id": "lFjJtMIbYKhQ"
      }
    },
    {
      "cell_type": "markdown",
      "metadata": {
        "id": "47d3d220"
      },
      "source": [
        "\n",
        "\n",
        "Este método genera números pseudoaleatorios con la fórmula:\n",
        "$$n_{i+1} = (a n_i + c) \\mod m$$\n",
        "\n",
        "**Obs.** Se le llama “mixto” porque incluye una constante adicional $c$ (a diferencia del método multiplicativo).\n",
        "\n",
        "- $m = 2^b$\n",
        "- $a \\approx 2^{(b-1)/2}$, $a \\equiv 1 \\mod 4$\n",
        "- $c$, $n_0$: enteros positivos impares $< m$\n",
        "- Periodo: $m$"
      ]
    },
    {
      "cell_type": "code",
      "execution_count": null,
      "metadata": {
        "id": "54806300"
      },
      "outputs": [],
      "source": [
        "# n0 : valor inicial o semilla\n",
        "# a : multiplicador\n",
        "# c : deber ser impar\n",
        "# m : modulo (2^b)\n",
        "# n : el número de numeros que quiero generar\n",
        "\n",
        "def mixto(n0,a,c,m,n):\n",
        "    secuencia = []\n",
        "    ni = n0 # iniciar con una semilla\n",
        "    for _ in range(n):\n",
        "        ni = (a * ni + c) % m # calculo el sig numero utilizando la formula recurrente\n",
        "        secuencia.append(ni/m) # normaliza entre 0 y 1\n",
        "    return secuencia"
      ]
    },
    {
      "cell_type": "code",
      "execution_count": null,
      "metadata": {
        "id": "74e7fdbb",
        "outputId": "40dc18fa-c713-4bd7-8cf7-3ab1558316a6"
      },
      "outputs": [
        {
          "name": "stdout",
          "output_type": "stream",
          "text": [
            "[0.5823075897060335, 0.5198187492787838, 0.46597642498090863, 0.7770372582599521, 0.42286502895876765, 0.03337232954800129, 0.41738913068547845, 0.8087285170331597, 0.6123396842740476, 0.7149040475487709]\n"
          ]
        }
      ],
      "source": [
        "m = 2**31\n",
        "a = 1103515245 # a cong 1 mod----\n",
        "c = 12345\n",
        "n0 = 42\n",
        "n= 10\n",
        "\n",
        "secuencia_mixto = mixto(n0,a,c,m,n)\n",
        "print(secuencia_mixto)"
      ]
    },
    {
      "cell_type": "code",
      "execution_count": null,
      "metadata": {
        "id": "2b61e28c"
      },
      "outputs": [],
      "source": [
        "# Generamos ambas secuencias\n",
        "secuencia_mixto = mixto(n0,a,c,m,n)\n",
        "secuencia_numpy = np.random.uniform(0,1,n)\n",
        "\n",
        "# figura con Plotly\n",
        "fig = go.Figure()\n",
        "\n",
        "# Añadir los histogramas\n",
        "fig.add_trace(go.Histogram(\n",
        "    x=secuencia_mixto,\n",
        "    nbinsx = 40,\n",
        "    opacity = 0.6,\n",
        "    name = 'Método mixto',\n",
        "    marker_color='red'\n",
        "))\n",
        "\n",
        "fig.add_trace(go.Histogram(\n",
        "    x=secuencia_numpy,\n",
        "    nbinsx = 40,\n",
        "    opacity = 0.6,\n",
        "    name = 'Numpy random uniform',\n",
        "    marker_color='blue'\n",
        "))\n",
        "\n",
        "fig.update_layout(\n",
        "    barmode='overlay', #superpone los histogramas\n",
        "    title = 'Compararación: Método mixto -vs- Numpy',\n",
        "    xaxis_title='valor generado',\n",
        "    yaxis_title='Frecuencia',\n",
        "    legend_title='Método',\n",
        "    bargap=0.05\n",
        ")\n",
        "\n",
        "fig.show()"
      ]
    },
    {
      "cell_type": "code",
      "execution_count": null,
      "metadata": {
        "id": "f9f95424"
      },
      "outputs": [],
      "source": [
        "import random\n",
        "n = 1000\n",
        "\n",
        "# Generar secuencia usando random.random()\n",
        "secuencia_random = [random.random() for _ in range(n)]\n",
        "\n",
        "# Generar secuencia usando numpy\n",
        "secuencia_numpy = np.random.uniform(0, 1, n)\n",
        "\n",
        "# Graficar histogramas\n",
        "fig = go.Figure()\n",
        "\n",
        "fig.add_trace(go.Histogram(\n",
        "    x=secuencia_random,\n",
        "    nbinsx=40,\n",
        "    opacity=0.6,\n",
        "    name='random.random()',\n",
        "    marker_color='crimson'\n",
        "))\n",
        "\n",
        "fig.add_trace(go.Histogram(\n",
        "    x=secuencia_numpy,\n",
        "    nbinsx=40,\n",
        "    opacity=0.6,\n",
        "    name='numpy.random.uniform',\n",
        "    marker_color='royalblue'\n",
        "))\n",
        "\n",
        "fig.update_layout(\n",
        "    barmode='overlay',\n",
        "    title='Comparación: random.random() vs numpy.random.uniform',\n",
        "    xaxis_title='Valor generado',\n",
        "    yaxis_title='Frecuencia',\n",
        "    legend_title='Método',\n",
        "    bargap=0.05\n",
        ")\n",
        "\n",
        "fig.show()"
      ]
    },
    {
      "cell_type": "markdown",
      "metadata": {
        "id": "da1aa97f"
      },
      "source": [
        "### Metodos de generación de numeros aleatorios no rectangulares"
      ]
    },
    {
      "cell_type": "markdown",
      "source": [
        "#### Método de la transformada inversa"
      ],
      "metadata": {
        "id": "9jVR72U9YYsh"
      }
    },
    {
      "cell_type": "markdown",
      "metadata": {
        "id": "15facd0e"
      },
      "source": [
        "\n",
        "\n",
        "El método utiliza la función de distribución $F(x)$ de la distribución que se va a simular\n",
        "$$F(x) = \\int_{-\\infty}^{x} f(t)\\,dt$$"
      ]
    },
    {
      "cell_type": "markdown",
      "metadata": {
        "id": "1fbe7648"
      },
      "source": [
        "Como se sabe, los valores de $F(x)$ están en el intervalo $(0,1)$ al igual que los números rectangulares $U$.\n",
        "\n",
        "El método genera un $U$ y trata de determinar el valor de la variable aleatoria para la cual $F(x)$ sea igual a $U$.\n",
        "\n",
        "Si $U \\in (0,1)$:\n",
        "$$ F(x) = U \\quad \\Rightarrow \\quad x = F^{-1}(U)$$"
      ]
    },
    {
      "cell_type": "markdown",
      "metadata": {
        "id": "f90d2bfa"
      },
      "source": [
        "$\\mathbf{Teorema}.$ Sea $X$ una variable aleatoria real. Supongamos que su función de distribución $F$ es estrictamente creciente (por lo que $F$ es una biyección de $\\mathbb{R}$ sobre $(0,1)$ y podemos denotar por $F^{-1}$ a su inversa). Sea $U\\sim \\text{unif}[0,1]$. Entonces $F^{-1}(U)$ tiene la misma ley que $X$.\n",
        "\n",
        "Si $F$ no es estrictamente creciente, hemos visto que el teorema precedente sigue siendo válido bajo la condición de definir\n",
        "$$F^{-1}(u)=\\inf\\{ x\\in \\mathbb{R} : F(x)\\geq u\\},$$\n",
        "la inversa generalizada de $F$."
      ]
    },
    {
      "cell_type": "code",
      "execution_count": null,
      "metadata": {
        "id": "bdd85e94"
      },
      "outputs": [],
      "source": [
        "# Vamos a simular una v.a. Bernoulli usando una Uniforme\n",
        "import random\n",
        "def bernoulli(p):\n",
        "    u = random.random() # U -> Unif(0,1)\n",
        "    return 1 if u <= p else 0"
      ]
    },
    {
      "cell_type": "code",
      "execution_count": null,
      "metadata": {
        "id": "b620094c",
        "outputId": "41eadd8d-36e2-447b-9b0e-de2d61983cfb"
      },
      "outputs": [
        {
          "name": "stdout",
          "output_type": "stream",
          "text": [
            "[1, 0, 1, 0, 0, 1, 1, 0, 0, 1, 0, 0, 1, 0, 0, 1, 0, 1, 0, 0, 1, 1, 0, 1, 0, 0, 1, 1, 1, 1, 0, 0, 0, 0, 0, 1, 0, 0, 0, 1, 1, 1, 1, 0, 1, 0, 0, 1, 0, 1, 1, 0, 0, 1, 1, 0, 0, 0, 1, 0, 1, 0, 0, 0, 1, 1, 0, 0, 1, 1, 0, 1, 1, 0, 1, 1, 1, 0, 0, 1, 1, 0, 0, 1, 0, 0, 0, 1, 1, 0, 1, 0, 1, 1, 1, 0, 1, 0, 0, 1]\n"
          ]
        }
      ],
      "source": [
        "# Simulamos n valores con p de éxito\n",
        "p = 0.5\n",
        "simulaciones = [bernoulli(p) for _ in range(100)]\n",
        "print(simulaciones)"
      ]
    },
    {
      "cell_type": "code",
      "execution_count": null,
      "metadata": {
        "id": "0f2f5897",
        "outputId": "21941ff9-e9dd-4a42-95c5-341c25f86078"
      },
      "outputs": [
        {
          "data": {
            "text/plain": [
              "48"
            ]
          },
          "execution_count": 48,
          "metadata": {},
          "output_type": "execute_result"
        }
      ],
      "source": [
        "sum(simulaciones)"
      ]
    },
    {
      "cell_type": "markdown",
      "source": [
        "### Ejemplos"
      ],
      "metadata": {
        "id": "bCT57_3WZB43"
      }
    },
    {
      "cell_type": "markdown",
      "metadata": {
        "id": "db6184e4"
      },
      "source": [
        " Ejemplo: Distribución exponencial\n",
        "\n",
        "sea $\\theta,\\lambda>0$, entonces a través del teorema se puede generar una v.a. exponencial.\n",
        "\n",
        "Sea $U \\sim Unif[0,1]$, entonces si $X\\sim Exp(\\lambda)$, entonces\n",
        "\n",
        "$$f_{X}(x) = \\lambda e^{-\\lambda x}$$\n",
        "y que\n",
        "$$ F_X(x) = 1-e^{-\\lambda x} $$\n",
        "\n",
        "Sabemos que $1-e^{-\\lambda x} = U$, entonces $1-U = e^{-\\lambda x}$, y tomando logaritmo, se tiene que\n",
        "$ \\ln(1-U) = -\\lambda x$ y como $U$ es uniforme entonces $U \\sim 1-U$, por lo que depejando a $x$, se tiene que\n",
        "$$ X = -\\frac{\\ln(U)}{\\lambda} \\sim Exp(\\lambda) $$"
      ]
    },
    {
      "cell_type": "markdown",
      "metadata": {
        "id": "e0acb61b"
      },
      "source": [
        "\n",
        "Ejemplo: Distribución Uniforme Continua\n",
        "$$f(x) = \\frac{1}{b-a}, \\quad a \\leq x \\leq b$$\n",
        "$$F(x) = \\frac{x-a}{b-a} = U \\Rightarrow x = a + (b-a)U$$"
      ]
    },
    {
      "cell_type": "code",
      "execution_count": null,
      "metadata": {
        "id": "adc78f62"
      },
      "outputs": [],
      "source": [
        "import numpy as np\n",
        "import plotly.graph_objects as go\n",
        "\n",
        "# Semilla\n",
        "np.random.seed(123)\n",
        "\n",
        "# Parámetro de la exponencial\n",
        "lambd = 4\n",
        "n = 10000\n",
        "\n",
        "# Simulación usando transformada inversa\n",
        "uniformes = np.random.random(n)\n",
        "exponenciales = -np.log(uniformes) / lambd\n",
        "\n",
        "# Curva teórica\n",
        "x_vals = np.linspace(0, exponenciales.max(), 300)\n",
        "y_vals = lambd * np.exp(-lambd * x_vals)\n",
        "\n",
        "# Gráfico\n",
        "fig = go.Figure()\n",
        "\n",
        "fig.add_trace(go.Histogram(\n",
        "    x=exponenciales,\n",
        "    nbinsx=40,\n",
        "    histnorm='probability density',\n",
        "    marker_color='skyblue',\n",
        "    name='Simulación'\n",
        "))\n",
        "\n",
        "fig.add_trace(go.Scatter(\n",
        "    x=x_vals,\n",
        "    y=y_vals,\n",
        "    mode='lines',\n",
        "    name='Densidad teórica',\n",
        "    line=dict(color='darkblue')\n",
        "))\n",
        "\n",
        "fig.update_layout(\n",
        "    title='Distribución Exponencial simulada vs teórica (λ = 1)',\n",
        "    xaxis_title='x',\n",
        "    yaxis_title='Densidad',\n",
        "    bargap=0.05\n",
        ")\n",
        "\n",
        "fig.show()"
      ]
    },
    {
      "cell_type": "code",
      "execution_count": null,
      "metadata": {
        "id": "da10191d"
      },
      "outputs": [],
      "source": [
        "# Parámetros de la uniforme\n",
        "a, b = 2, 5\n",
        "n = 10000\n",
        "\n",
        "# Simulación por transformación lineal\n",
        "uniformes = np.random.random(n)\n",
        "uniforme_continua = a + (b - a) * uniformes\n",
        "\n",
        "# Densidad teórica (constante)\n",
        "x_vals = np.linspace(a, b, 300)\n",
        "y_vals = np.ones_like(x_vals) * (1 / (b - a))\n",
        "\n",
        "# Gráfico\n",
        "fig = go.Figure()\n",
        "\n",
        "fig.add_trace(go.Histogram(\n",
        "    x=uniforme_continua,\n",
        "    nbinsx=40,\n",
        "    histnorm='probability density',\n",
        "    marker_color='orange',\n",
        "    name='Simulación'\n",
        "))\n",
        "\n",
        "fig.add_trace(go.Scatter(\n",
        "    x=x_vals,\n",
        "    y=y_vals,\n",
        "    mode='lines',\n",
        "    name='Densidad teórica',\n",
        "    line=dict(color='red')\n",
        "))\n",
        "\n",
        "fig.update_layout(\n",
        "    title='Distribución Uniforme Continua simulada vs teórica [2, 5]',\n",
        "    xaxis_title='x',\n",
        "    yaxis_title='Densidad',\n",
        "    bargap=0.05\n",
        ")\n",
        "\n",
        "fig.show()\n"
      ]
    },
    {
      "cell_type": "markdown",
      "metadata": {
        "id": "368cd754"
      },
      "source": [
        "$\\mathbf{Ejemplo}$ (Variable aleatoria Cauchy) Simulemos la variable aleatoria de Cauchy de parámetro $1$ que tiene por función de densidad\n",
        "$$\\frac{1}{\\pi}\\frac{1}{1+x^{2}}.$$\n",
        "\n",
        "Ejercicio:\n",
        "- Corroborar que la función así definida es una función de densidad de probabilidad\n",
        "- Encontrar $F_X$\n",
        "- Crear una gráfica en Python que muestre su forma.\n",
        "\n",
        "Por el teorema anterior, para $u\\in (0,1)$\n",
        "$$u=\\frac{1}{\\pi}\\arctan(x)+\\frac{1}{2} \\qquad \\text{si y sólo si} \\qquad x=\\tan\\left({\\pi}\\left(u-\\frac{1}{2} \\right) \\right).$$"
      ]
    },
    {
      "cell_type": "markdown",
      "metadata": {
        "id": "ea09faa9"
      },
      "source": [
        "$\\{\\text{EJEMPLO.}}$ (Variable aleatoria Cauchy) Simulemos la variable aleatoria de Cauchy de parámetro $1$ que tiene por función de densidad\n",
        "$$\\frac{1}{\\pi}\\frac{1}{1+x^{2}}.$$\n",
        "\n",
        "$\\{\\text{EJERCICIO.}}$\n",
        "- Corroborar que la función así definida es una función de densidad de probabilidad\n",
        "- Encontrar $F_X$\n",
        "- Crear una gráfica en Python que muestre su forma.\n",
        "\n",
        "Por el teorema anterior, para $u\\in (0,1)$\n",
        "$$u=\\frac{1}{\\pi}\\arctan(x)+\\frac{1}{2} \\qquad \\text{si y sólo si} \\qquad x=\\tan\\left({\\pi}\\left(u-\\frac{1}{2} \\right) \\right).$$\n",
        "\n",
        "- Corroborar que la función así definida es una función de densidad de probabilidad\n",
        "\n",
        "La función de densidad propuesta es:\n",
        "\n",
        "$$f_X(x) = \\frac{1}{\\pi (1 + x^2)}$$\n",
        "\n",
        "Se verifica que:\n",
        "\n",
        "- $$ f_X(x) \\geq 0 \\forall x \\in \\mathbb{R} $$\n",
        "- $$ \\int_{-\\infty}^{\\infty} f_X(x) \\, dx = 1 $$\n",
        "\n",
        "Sabemos que:\n",
        "\n",
        "$$\n",
        "\\int_{-\\infty}^{\\infty} \\frac{1}{1 + x^2} dx = \\pi\n",
        "\\quad \\Rightarrow \\quad\n",
        "\\int_{-\\infty}^{\\infty} f_X(x) dx = \\frac{1}{\\pi} \\cdot \\pi = 1\n",
        "$$\n",
        "\n",
        "Por lo tanto, es una función de densidad de probabilidad válida.\n",
        "\n",
        "- Encontrar $F_X$\n",
        "\n",
        "Para la variable Cauchy(1), la función de distribución acumulada $F_X$ es:\n",
        "\n",
        "$$F_X(x) = \\int_{-\\infty}^{x} f_X(t) \\, dt = \\frac{1}{\\pi} \\arctan(x) + \\frac{1}{2}$$\n",
        "\n",
        "Crear una gráfica en Python que muestre su forma."
      ]
    },
    {
      "cell_type": "code",
      "source": [
        "# Valores de x\n",
        "x = np.linspace(-10, 10, 1000)\n",
        "\n",
        "# Función de densidad\n",
        "f_x = 1 / (np.pi * (1 + x**2))\n",
        "\n",
        "# Función de distribución acumulada\n",
        "F_x = (1/np.pi) * np.arctan(x) + 0.5\n",
        "\n",
        "# Gráficas\n",
        "plt.figure(figsize=(12, 5))\n",
        "\n",
        "# Gráfico de la densidad\n",
        "plt.subplot(1, 2, 1)\n",
        "plt.plot(x, f_x, label='f(x)', color='blue')\n",
        "plt.title('Función de densidad de Cauchy(1)')\n",
        "plt.xlabel('x')\n",
        "plt.ylabel('f(x)')\n",
        "plt.grid(True)\n",
        "\n",
        "# Gráfico de la acumulada\n",
        "plt.subplot(1, 2, 2)\n",
        "plt.plot(x, F_x, label='F(x)', color='green')\n",
        "plt.title('Función de distribución acumulada')\n",
        "plt.xlabel('x')\n",
        "plt.ylabel('F(x)')\n",
        "plt.grid(True)\n",
        "\n",
        "plt.tight_layout()\n",
        "plt.show()"
      ],
      "metadata": {
        "id": "sfGPB_a4L_zX"
      },
      "execution_count": null,
      "outputs": []
    },
    {
      "cell_type": "markdown",
      "source": [
        "Por el teorema anterior, para $u\\in (0,1)$\n",
        "$$u=\\frac{1}{\\pi}\\arctan(x)+\\frac{1}{2} \\qquad \\text{si y sólo si} \\qquad x=\\tan\\left({\\pi}\\left(u-\\frac{1}{2} \\right) \\right).$$\n",
        "\n",
        "Utilizando la fórmula de la inversa de la función de distribución acumulada:\n",
        "\n",
        "$$\n",
        "F_X(x) = \\frac{1}{\\pi} \\arctan(x) + \\frac{1}{2} \\quad \\Longrightarrow \\quad\n",
        "x = \\tan\\left( \\pi (u - \\frac{1}{2}) \\right)\n",
        "$$\n",
        "\n",
        "Para simular una variable Cauchy, generamos valores $ u \\sim \\text{Uniform}(0, 1)$, y aplicamos la transformación."
      ],
      "metadata": {
        "id": "yxivAUMxMAuF"
      }
    },
    {
      "cell_type": "code",
      "source": [
        "# Simulación\n",
        "u = np.random.uniform(0, 1, 10000)\n",
        "x_sim = np.tan(np.pi * (u - 0.5))\n",
        "\n",
        "# Histograma de valores simulados\n",
        "plt.hist(x_sim, bins=200, density=True, alpha=0.6, color='gray', label='Simulación')\n",
        "\n",
        "# Densidad teórica\n",
        "x_vals = np.linspace(-10, 10, 1000)\n",
        "f_x_vals = 1 / (np.pi * (1 + x_vals**2))\n",
        "plt.plot(x_vals, f_x_vals, color='red', label='Densidad teórica')\n",
        "\n",
        "plt.title('Simulación de variable aleatoria Cauchy(1)')\n",
        "plt.xlabel('x')\n",
        "plt.ylabel('Densidad')\n",
        "plt.legend()\n",
        "plt.grid(True)\n",
        "plt.xlim([-10, 10])\n",
        "plt.show()"
      ],
      "metadata": {
        "id": "oVKMXR6OMFRg"
      },
      "execution_count": null,
      "outputs": []
    },
    {
      "cell_type": "markdown",
      "metadata": {
        "id": "06361648"
      },
      "source": [
        "Ejericicio\n",
        "\n",
        "Se tienen $2$ urnas, cada una de las cuales contiene $10$ bolas numeradas del $1$ al $10$.\n",
        "\n",
        "Un experimento aleatorio consiste en seleccionar al azar una bola de cada urna.\n",
        "\n",
        "Sea $X$ la variable aleatoria que representa la diferencia de los números de las dos bolas seleccionadas.\n",
        "\n",
        "* Define $\\Omega$\n",
        "* Calcula las probabilidades asociadas\n",
        "* Define la función de densidad\n",
        "* Verifica que $\\sum_{x\\in R_X}f_X(x) = 1$\n",
        "* Gráfica la función de densidad\n",
        "\n",
        "Además, calcula la probabilidad de que los números de las dos bolas seleccionadas difieran por $2$ o más."
      ]
    },
    {
      "cell_type": "code",
      "execution_count": null,
      "metadata": {
        "id": "0da20239"
      },
      "outputs": [],
      "source": [
        "# Definición del espacio muestral\n",
        "from itertools import product\n",
        "from fractions import Fraction\n",
        "from collections import defaultdict\n",
        "import pandas as pd\n",
        "import numpy as np\n",
        "\n",
        "#Espacio muestral\n",
        "espacio_muestral = set(product([1,2,3,4,5,6,7,8,9,10], repeat=2))\n",
        "\n",
        "#Cardinalidad\n",
        "cardinalidad= len (espacio_muestral)\n",
        "\n",
        "\n",
        "#Cálculo de diferencias\n",
        "def S(n):\n",
        "    Sn={(i,j) for i in range (1,11) for j in range (1,11) if abs(i-j)==n}\n",
        "    return Sn\n",
        "\n",
        "#Calculo de probabilidades\n",
        "def P(A):\n",
        "    P=Fraction(len(A), len (espacio_muestral))\n",
        "    return P\n",
        "\n",
        "#Diccionario\n",
        "S={(i,j): abs(i-j) for i,j in espacio_muestral}\n",
        "\n",
        "dS= defaultdict(set)\n",
        "\n",
        "for (i,j) in S.items():\n",
        "    dS[j].add(i)\n",
        "\n",
        "list (dS.items())\n",
        "\n",
        "leyS={i: P(A) for i, A in dS.items()}\n",
        "ley_S= pd.Series(leyS)\n",
        "ley_S.sort_index()\n",
        "\n",
        "#Función de densidad\n",
        "def leyS(i):\n",
        "    if i in range (0,10):\n",
        "        x=ley_S[i]\n",
        "    else:\n",
        "        x=0 # Si no esta en el rango me devuelve 0\n",
        "    return x\n",
        "\n",
        "rango_S=[k for k in range(0,10)]\n",
        "p_k=[float(leyS(k)) for k in range (0,10)]\n",
        "lS= pd.DataFrame(list(zip(rango_S, p_k)), index=[f\"S_{i}\" for i in range (1,11)], columns= ['rango', 'densidad'] )\n",
        "\n",
        "Total= .10+.18+.16+.14+.12+.10+.08+.06+.04+.02\n"
      ]
    },
    {
      "cell_type": "code",
      "execution_count": null,
      "metadata": {
        "id": "f7a3c34a"
      },
      "outputs": [],
      "source": [
        "print ('Espacio muestral=', espacio_muestral)\n",
        "print ('\\nCardinalidad=', cardinalidad)\n",
        "print ('\\nPorbabilidades=', ley_S.sort_index())\n",
        "print ('\\nFunción de densidad', lS)\n",
        "print ('\\nAcumulada', Total)\n",
        "lS.plot.bar('rango', 'densidad')\n",
        "print ('\\nProbabilidad    X>-2', 1-.1-.18)"
      ]
    },
    {
      "cell_type": "markdown",
      "source": [
        "### 4.2 El problema de Monty Hall"
      ],
      "metadata": {
        "id": "7HNp21eEXaQG"
      }
    },
    {
      "cell_type": "markdown",
      "source": [
        "Es un famoso dilema de probabilidad basado en un concurso de televisión, y es un gran ejemplo de cómo las intuiciones humanas pueden ser engañosas en contextos probabilísticos.\n",
        "\n",
        "Planteamiento del problema:\n",
        "\n",
        "Tienes tres puertas enfrente de ti. Detrás de una de ellas hay un coche (el premio), y detrás de las otras dos hay cabras (premios no deseados).\n",
        "\n",
        "Tu elección inicial: Eliges una puerta, pero no la abres aún.\n",
        "\n",
        "Monty Hall (el presentador, que sabe qué hay detrás de cada puerta) abre una de las otras dos puertas, revelando una cabra.\n",
        "\n",
        "Segunda oportunidad: Ahora Monty te da la opción de cambiar de puerta (de tu elección original a la otra puerta que queda cerrada) o quedarte con tu elección inicial.\n",
        "\n",
        "**¿Qué deberías hacer? ¿Cambiar de puerta o quedarte con tu elección original?**\n",
        "\n",
        "* Respuesta correcta: Deberías cambiar de puerta.\n",
        "* Explicación: Inicialmente, al elegir una puerta, tienes una probabilidad de $1/3$ de haber elegido el coche y una probabilidad de $2/3$ de haber elegido una cabra.\n",
        "\n",
        "Cuando Monty abre una puerta revelando una cabra, no cambia estas probabilidades. Al principio tenías un 2/3 de probabilidades de haber elegido mal, y Monty, al mostrar una cabra, te está ayudando a confirmar que el coche probablemente está detrás de la otra puerta.\n",
        "\n",
        "Si elegiste mal inicialmente (lo cual sucede en el 66.67% de los casos), Monty te da la oportunidad de corregir tu elección cambiando a la puerta correcta.\n",
        "\n",
        "Si elegiste correctamente desde el principio (probabilidad del 33.33%), entonces cambiar haría que perdieras.\n",
        "\n",
        "Por lo tanto, cambiar de puerta te da una probabilidad de ganar de $2/3$, mientras que quedarte con tu elección original te deja con solo una probabilidad de ganar de $1/3$.\n",
        "\n",
        "**Ejemplo:**\n",
        "\n",
        "* Puertas: [1, 2, 3]\n",
        "* El coche está detrás de la puerta 2.\n",
        "* Si eliges la puerta 1 (probabilidad $1/3$), Monty abre la puerta 3, que tiene una cabra.\n",
        "* Si cambias a la puerta 2, ganas el coche (probabilidad $2/3$)."
      ],
      "metadata": {
        "id": "oewiIiTIXh7G"
      }
    },
    {
      "cell_type": "markdown",
      "metadata": {
        "id": "cd65327f"
      },
      "source": [
        "\n",
        "Implementación en Python\n",
        "\n",
        "El siguiente código simula el famoso problema de Monty Hall en tres escenarios distintos:\n",
        "\n",
        "* Mantener la elección inicial (no cambiar de puerta).\n",
        "* Cambiar siempre de puerta.\n",
        "* Elegir de manera aleatoria entre mantener o cambiar."
      ]
    },
    {
      "cell_type": "markdown",
      "metadata": {
        "id": "b7b1f925"
      },
      "source": [
        "1.- Generar el juego\n",
        "La función generate_game(n) crea un conjunto de juegos. Cada juego tiene 3 puertas, una de ellas con un premio (el coche) y las otras dos con una cabra."
      ]
    },
    {
      "cell_type": "code",
      "execution_count": null,
      "metadata": {
        "id": "c56a43c5"
      },
      "outputs": [],
      "source": [
        "from random import randint\n",
        "import matplotlib.pyplot as plt\n",
        "import matplotlib.ticker as ticker\n",
        "\n",
        "\n",
        "# Esta función generará rondas aleatorias para nuestro juego. Cada ronda consta de 3 puertas. Solo una de las puertas es correcta, las otras dos son incorrectas.\n",
        "# Esta función genera un conjunto de n juegos, cada uno con tres puertas, y solo una contiene el coche.\n",
        "\n",
        "def generate_game(n: int):\n",
        "    game = []\n",
        "\n",
        "    for _ in range(n):\n",
        "        doors = [False] * 3 # Inicializa 3 puertas como \"falsas\", indicando que no tienen el premio.\n",
        "        winner = randint(0, 2) # Escoge aleatoriamente cuál puerta tiene el coche (premio).\n",
        "        doors[winner] = True  # La puerta seleccionada se marca como True (es la puerta ganadora).\n",
        "        game.append(doors) # Añade este set de puertas al juego.\n",
        "\n",
        "    return game\n",
        "\n",
        "\n",
        "# Esta es una función auxiliar que toma una lista de 3 puertas, examina la segunda y la tercera puerta y luego abre la que tiene una cabra (es decir, la puerta equivocada).\n",
        "#Esto simula un host con conocimiento de lo que hay detrás de las puertas.\n",
        "def reveal_goat(doors):\n",
        "    # Get from doors 2 and 3 the one which contains goat.\n",
        "    for i in range(1, 3): # Revisa solo las puertas 2 y 3, porque la puerta 1 es la que elige inicialmente el jugador.\n",
        "        if doors[i] == False: # Si la puerta no contiene el coche.\n",
        "            return i  # Devuelve el índice de la puerta con cabra.\n",
        "\n",
        "\n",
        "# ***Simular una elección aleatoria**\n",
        "#\n",
        "# Simular una situación en la que el jugador elige aleatoriamente si desea mantener su elección inicial o cambiarla.\n",
        "\n",
        "def simulate_random_choice(game: list): #El jugador decide al azar si cambia o no después de que Monty revele una cabra.\n",
        "    wins = 0\n",
        "    attempts = 0\n",
        "\n",
        "    history = []\n",
        "\n",
        "    for doors in game:\n",
        "        attempts += 1\n",
        "\n",
        "        #Monty revela una cabra.\n",
        "        goat = reveal_goat(doors)\n",
        "\n",
        "        # El jugador decide aleatoriamente si cambiar o no.\n",
        "        new_choice = randint(0, 1)\n",
        "        final_choice = 0 if new_choice == 0 else 2 if goat == 1 else 1 # Calcula la nueva elección\n",
        "\n",
        "        if (doors[final_choice] == True): #Si la elección es correcta, suma un win\n",
        "            wins += 1\n",
        "\n",
        "        history.append(wins / attempts) # Añade el ratio de victorias hasta el momento.\n",
        "\n",
        "    return wins, history\n",
        "\n",
        "\n",
        "# **Simular elección inicial**\n",
        "#\n",
        "# Simular una situación en la que el jugador *solo* conserva su elección inicial y nunca cambia\n",
        "\n",
        "def simulate_keep_choice(game: list): #El jugador nunca cambia de puerta.\n",
        "    wins = 0\n",
        "    attempts = 0\n",
        "    history = []\n",
        "\n",
        "    for doors in game:\n",
        "        attempts += 1\n",
        "\n",
        "        # User does not switch game.\n",
        "        if (doors[0] == True):  # Si la primera puerta (la inicial) tiene el coche, suma un win.\n",
        "            wins += 1\n",
        "\n",
        "        history.append(wins / attempts)  # Registra el ratio de victorias.\n",
        "\n",
        "    return wins, history\n",
        "\n",
        "\n",
        "# **Simular elección de cambio**\n",
        "#\n",
        "# Simular una situación en la que el jugador cambia su elección cada vez.\n",
        "\n",
        "# El jugador cambia de puerta siempre después de que Monty revele una cabra.\n",
        "\n",
        "def simulate_switch_choice(game: list):\n",
        "    wins = 0\n",
        "    attempts = 0\n",
        "    history = []\n",
        "\n",
        "    for doors in game:\n",
        "        attempts += 1\n",
        "\n",
        "        # Monty revela una cabra.\n",
        "        goat = reveal_goat(doors)\n",
        "\n",
        "        # Player switches his doors (here he chooses the non-opened doors).\n",
        "        new_choice = 1 if goat == 2 else 2 # El jugador cambia a la otra puerta no abierta.\n",
        "\n",
        "        if (doors[new_choice] == True): # Si la nueva elección es correcta, suma un win.\n",
        "            wins += 1\n",
        "\n",
        "        history.append(wins / attempts) # Registra el ratio de victorias.\n",
        "\n",
        "\n",
        "    return wins, history\n",
        "\n",
        "\n",
        "# Ahora comienza el cálculo, que genera $n$ juegos aleatorios para la simulación.\n",
        "\n",
        "# El código genera un conjunto de 1000 juegos y ejecuta las tres simulaciones:\n",
        "game = generate_game(1000)\n",
        "\n",
        "\n",
        "# Ejecute las tres simulaciones definidas anteriormente para el juego generado.\n",
        "\n",
        "wins_random, history_random = simulate_random_choice(game)\n",
        "wins_keep, history_keep = simulate_keep_choice(game)\n",
        "wins_switch, history_switch = simulate_switch_choice(game)\n",
        "\n",
        "\n",
        "# Y por último, crea un gráfico para que podamos ver el resultado.\n",
        "plt.figure(figsize=(12,8))\n",
        "plt.plot(history_random, 'r', label=\"Cambio aleatorio\")\n",
        "plt.plot(history_keep, 'g', label=\"Mantener la inicial\")\n",
        "plt.plot(history_switch, 'b', label=\"Solo cambiar\")\n",
        "plt.legend(loc='upper right')\n",
        "plt.ylim(0, 1.0)\n",
        "plt.xlim(0, 1000)\n",
        "plt.ylabel(\"Probabilidad\", fontsize=16)\n",
        "plt.gca().yaxis.set_major_formatter(ticker.PercentFormatter(xmax=1.0))\n",
        "plt.xlabel(\"Iteraciones\", fontsize=16)\n",
        "plt.grid(True)\n",
        "plt.show()"
      ]
    },
    {
      "cell_type": "markdown",
      "metadata": {
        "id": "c4c39a64"
      },
      "source": [
        "Se visualiza cómo cambian las probabilidades de éxito para las dos estrategias principales: mantener la elección inicial y cambiar de puerta."
      ]
    },
    {
      "cell_type": "markdown",
      "source": [
        "## 4. Conceptos Adicionales\n"
      ],
      "metadata": {
        "id": "kOkQRTXv3UnF"
      }
    },
    {
      "cell_type": "markdown",
      "source": [
        "### 4.1 FGM (Función Generadora de Momentos)"
      ],
      "metadata": {
        "id": "UyPZZgzK3b6Z"
      }
    },
    {
      "cell_type": "markdown",
      "source": [
        "La **Función Generadora de Momentos** (FGM) de una variable aleatoria \\( X \\) se define como:\n",
        "$$ M_X(t) = E[e^{tX}] $$\n",
        "Donde:\n",
        "- Si \\( M_X(t) \\) existe en un intervalo abierto alrededor de \\( t = 0 \\), se pueden obtener los momentos de \\( X \\) derivando esta función.\n",
        "\n",
        "**Ejemplo resuelto:**\n",
        "\n",
        "Sea \\( X \\) una variable aleatoria discreta con valores en {0, 1} y probabilidades P(X=0)=0.6, P(X=1)=0.4.\n",
        "Calcule su FGM."
      ],
      "metadata": {
        "id": "_bgN7S9E5vnk"
      }
    },
    {
      "cell_type": "code",
      "source": [
        "#FGM\n",
        "import sympy as sp\n",
        "\n",
        "p0 = 0.6\n",
        "p1 = 0.4\n",
        "x0, x1 = 0, 1\n",
        "t = sp.symbols('t')\n",
        "M_X = p0 * sp.exp(t * x0) + p1 * sp.exp(t * x1)\n",
        "M_X.simplify()"
      ],
      "metadata": {
        "colab": {
          "base_uri": "https://localhost:8080/",
          "height": 39
        },
        "id": "kcy0eLEG5wV6",
        "outputId": "d2b55430-8d5a-4b7b-d3e3-eb880217f463"
      },
      "execution_count": 5,
      "outputs": [
        {
          "output_type": "execute_result",
          "data": {
            "text/plain": [
              "0.4*exp(t) + 0.6"
            ],
            "text/latex": "$\\displaystyle 0.4 e^{t} + 0.6$"
          },
          "metadata": {},
          "execution_count": 5
        }
      ]
    },
    {
      "cell_type": "markdown",
      "source": [
        "### 4.2 FC (Función Característica)"
      ],
      "metadata": {
        "id": "ywt5K1fe3fDt"
      }
    },
    {
      "cell_type": "markdown",
      "source": [
        "La **Función Característica** de una variable aleatoria \\( X \\) es:\n",
        "$$ \\phi_X(t) = E[e^{itX}] $$\n",
        "Es útil en la teoría de probabilidades porque siempre existe, y permite derivar propiedades de la distribución de \\( X \\).\n",
        "\n",
        "**Ejemplo resuelto:**\n",
        "Con la misma variable \\( X \\) del ejemplo anterior:"
      ],
      "metadata": {
        "id": "DDo2FzCg5oFa"
      }
    },
    {
      "cell_type": "code",
      "source": [
        "#FC\n",
        "phi_X = p0 * sp.exp(sp.I * t * x0) + p1 * sp.exp(sp.I * t * x1)\n",
        "phi_X.simplify()"
      ],
      "metadata": {
        "id": "a3HFRZVF3uJ1"
      },
      "execution_count": null,
      "outputs": []
    },
    {
      "cell_type": "markdown",
      "source": [
        "### 4.3 Ley de los grandes números (LGN)"
      ],
      "metadata": {
        "id": "a_L3Pmr43k8L"
      }
    },
    {
      "cell_type": "markdown",
      "source": [
        "La Ley de los Grandes Números dice que todo converge al valor esperado, es decir, si me tomo un $M_n$, que es un promedio aritmético, se puede decir que $M_n$ converge al valor esperado de $x_i$ es decir:\n",
        "\n",
        "$$M_n = \\frac{S_n}{n} \\implies M_n \\mapsto E[x_i] = \\mu, \\forall  {n\\to\\infty}$$\n",
        "\n",
        "Es decir, si tengo una v.a.i. $x_1+,\\dots,+x_n\\sim Bernoulli(p)$\n",
        "\n",
        "$$\\frac{x_1+,\\dots,+x_n}{n}= \\mu =p$$\n",
        "\n",
        "De igual manera, si tengo una v.a.i. $x_1+,\\dots,+x_n\\sim Unif(0,1)$\n",
        "\n",
        "$$\\frac{x_1+,\\dots,+x_n}{n} = \\frac{1}{2}= \\mu$$\n",
        "\n",
        "En general, se puede decir que sirve para garantizar una estabilidad en promedios en el largo plazo ya que n es muy grande, dependiendo del tipo de convergencia.\n",
        "\n",
        "$$\\text{Ley débil} \\mapsto \\text{en P}$$"
      ],
      "metadata": {
        "id": "z_0zhdh037_Z"
      }
    },
    {
      "cell_type": "markdown",
      "source": [
        "**SIMULACIÓN DE LA LGN**\n",
        "\n",
        "Simularemos los lanzamientos de un dado y calcularemos la media.\n",
        "\n",
        "$$ \\Omega = \\{1,2,3,4,5,6\\}$$\n",
        "\n",
        "La media teórica: $$\\mathbb{E}(X) = 3.5$$"
      ],
      "metadata": {
        "id": "hc1J0Nyr4D89"
      }
    },
    {
      "cell_type": "code",
      "source": [
        "np.random.seed(42) # Para garantizar que los números pseudoaleatorios sean reproducibles\n",
        "lanzamientos = np.random.randint(1,7,10000)\n",
        "lanzamientos"
      ],
      "metadata": {
        "id": "ajq45f6E4aX9"
      },
      "execution_count": null,
      "outputs": []
    },
    {
      "cell_type": "code",
      "source": [
        "media_acum = np.cumsum(lanzamientos) / np.arange(1,10001)\n",
        "df = pd.DataFrame({\n",
        "    'Lanzamiento': np.arange(1,10001),\n",
        "    'Media Acumulada': media_acum})"
      ],
      "metadata": {
        "id": "ezUXqIfF4fKp"
      },
      "execution_count": null,
      "outputs": []
    },
    {
      "cell_type": "code",
      "source": [
        "plt.figure(figsize=(10,6))\n",
        "plt.plot(df['Lanzamiento'],df['Media Acumulada'],label='Media Muestral')\n",
        "plt.axhline(3.5, color='red',linestyle='--',label='Media Teórica (3.5)')\n",
        "plt.xlabel('Número de lanzamientos')\n",
        "plt.title('LGN en lanzamientos de un dado')\n",
        "plt.legend()\n",
        "plt.show()"
      ],
      "metadata": {
        "id": "qH0TMbT94ghZ"
      },
      "execution_count": null,
      "outputs": []
    },
    {
      "cell_type": "markdown",
      "source": [
        "### 4.4 Teorema central del límite (TCL)"
      ],
      "metadata": {
        "id": "XymijV7q3q59"
      }
    },
    {
      "cell_type": "markdown",
      "source": [
        "Cuando vemos una v.a. binomial que es muy grande, se dice que converge a Poisson, esto debido a que, cuando n es muy grande en lugar de calcular la probabilidad se hace una estandarización para poder aproximar los valores de una v.a. discreta a una contínua, por lo que $E[X]=np$ y $Var(x)=np(1-p)$ de manera que, la estandarización es la siguiente:\n",
        "\n",
        "$$Z = \\frac{x-E[x]}{\\sqrt{Var(x)}}\\sim N(0,1)$$\n",
        "\n",
        "Un vector aleatorio es una función $(x,y):\\Omega \\to \\mathbb{R^2}$ donde $x$ e $y$ son v.a.\n",
        "\n",
        "Sean $X_1,X_2,\\dots,X_n$ y $Y_1,Y_2,\\dots,Y_n$ v.a., con $X$ e $Y$ independientes, la distribución de probabilidad conjunta se define como\n",
        "\n",
        "$$P(X=x, Y=y) = f_{x,y}(x,y) = f_x(x)f_y(y)$$\n",
        "\n",
        "$$\\sum_{x}\\sum_{y}f_{x,y}(x,y)=1$$\n",
        "\n",
        "La función de densidad conjunta contiene información de ambas variables aleatorias.\n",
        "\n",
        "A partir de la función de densidad conjunta es posible calcular las probabilidades marginales.\n",
        "\n",
        "Probabilidad Marginal de X\n",
        "\n",
        "$$f_x(x)=\\sum_{y \\in R_y}f_{x,y}(x,y)$$\n",
        "\n",
        "Probabilidad Marginal de Y\n",
        "\n",
        "$$f_y(y)=\\sum_{x \\in R_x}f_{x,y}(x,y)$$\n",
        "\n",
        "Son funciones de densidad que cumplen con las siguientes características:\n",
        "- X y Y son v.a. independientes.\n",
        "- Son identicamente distribuídas.\n",
        "- $f_{x,y}(x,y)\\geq0$\n",
        "\n",
        "Por lo que se tiene lo siguiente:\n",
        "\n",
        "$$f_{x,y}(x,y)\\geq0$$\n",
        "\n",
        "$$\\int\\int{f_{x,y}(x,y)dxdy}=1$$\n",
        "\n",
        "$$f_x(x)=\\int{f_{x,y}(x,y)dy}$$\n",
        "\n",
        "$$f_y(y)=\\int{f_{x,y}(x,y)dx}$$\n",
        "\n",
        "Decimos que $X_1,X_2,\\dots,X_N$ son v.a.i si $f_x(x_1,\\dots,x_n)=f_{x_1}(x_1),\\dots,f_{x_n}(x_n)$\n",
        "\n",
        "Si son identicamente distribuídas, se refiere a que $X_1,X_2,\\dots,X_N\\sim N(0,1)$, por lo que todas las $x_i$ tienen la misma densidad, de manera que\n",
        "\n",
        "$$E[x_i]=\\mu \\in R$$\n",
        "\n",
        "$$Var(x_i)=\\sigma^2>0$$\n",
        "\n",
        "El TLC y la LGN asumen que la varianza es finita, de manera que $E[x_i]<\\infty$ y $Var(x_i)<\\infty$\n",
        "\n",
        "Me gustaría calcular el límite de dos variables finitas\n",
        "\n",
        "$S_n=x_1+x_2+\\dots,x_n$$\n",
        "\n",
        "A partir de esto, queremos calcular la esperanza de $S_n$\n",
        "\n",
        "$$E[S_n]=E\\left[\\sum_{i=1}^n{x_i}\\right]=\\sum_{i=1}^n{E[x_i]}=n\\mu$$\n",
        "\n",
        "Entonces,\n",
        "\n",
        "$$Var(S_n)=Var\\left(\\sum_{i=1}^n{x_i}\\right)=\\sum_{i=1}^n{Var(x_i)}=n\\sigma^2$$\n",
        "\n",
        "Esto gracias a que son independientes.\n",
        "\n",
        "Recordemos que la varianza nos indica qué tan lejanos son los valores entre sí y la covarianza nos indica qué tan alejados están los valores de la media.\n",
        "\n",
        "$\\color{indigo}{\\text{NOTA.}}$ Si no son independientes no es cierto que la varianza sea lineal.\n",
        "\n",
        "$$+2\\sum_{i<j}cov(x_i,y_j)$$\n",
        "\n",
        "$$Cov(x,y) = E\\left[ (x-E[x]) (y-E[y]) \\right]$$\n",
        "\n",
        "La $Cov(x,y)$ es una medida de dispersión conjunta.\n",
        "\n",
        "Ahora entonces, puedo hacer una estimación\n",
        "\n",
        "$$Z_n = \\frac{S_n - n\\mu}{\\sqrt{n\\sigma^2}} \\sim N(0,1)$$\n",
        "\n",
        "$$Z_n \\mapsto Z \\sim N(0,1)$$\n",
        "\n",
        "$x_1,\\dots,x_n \\mapsto X$ por lo que $F_{x_1},\\dots,F_{x_n}(x_n)$\n",
        "\n",
        "De manera que,\n",
        "$$P(a \\leq S_n \\leq b) = \\phi(b) - \\phi (a)$$\n",
        "\n",
        "Por lo que,\n",
        "$$\\phi (Z) = P(Z \\leq z) = \\int_{-\\infty}^{x} \\frac{1}{\\sqrt{2\\pi}}e^{-x^2/2}dx$$"
      ],
      "metadata": {
        "id": "YSZycMbb5Wfo"
      }
    },
    {
      "cell_type": "code",
      "source": [
        "#Discreta\n",
        "#TCL\n",
        "# Simulación del TCL con distribuciones Bernoulli\n",
        "from scipy.stats import norm\n",
        "promedios = [np.mean(np.random.binomial(1, 0.4, 30)) for _ in range(1000)]\n",
        "plt.hist(promedios, bins=30, density=True, alpha=0.6, color='skyblue')\n",
        "x = np.linspace(min(promedios), max(promedios), 100)\n",
        "plt.plot(x, norm.pdf(x, 0.4, np.sqrt(0.4*0.6/30)), 'r--')\n",
        "plt.title('Distribución de medias muestrales vs. Normal')\n",
        "plt.show()"
      ],
      "metadata": {
        "colab": {
          "base_uri": "https://localhost:8080/",
          "height": 452
        },
        "id": "YAnk6GPP3Z1p",
        "outputId": "cdb9ede5-c804-45d3-8f37-f3224cbcc827"
      },
      "execution_count": 4,
      "outputs": [
        {
          "output_type": "display_data",
          "data": {
            "text/plain": [
              "<Figure size 640x480 with 1 Axes>"
            ],
            "image/png": "[encoded data removed]"
          },
          "metadata": {}
        }
      ]
    }
  ]
}