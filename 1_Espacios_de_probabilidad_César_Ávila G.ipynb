{
  "cells": [
    {
      "cell_type": "code",
      "execution_count": null,
      "id": "ac84711c",
      "metadata": {
        "id": "ac84711c"
      },
      "outputs": [],
      "source": [
        "import random\n",
        "import itertools\n",
        "from itertools import product\n",
        "from fractions import Fraction\n",
        "import numpy as np"
      ]
    },
    {
      "cell_type": "markdown",
      "id": "da2f7ca3",
      "metadata": {
        "id": "da2f7ca3"
      },
      "source": [
        "# **Probabilidad: Enfoques Clásico, Geométrico y Frecuentista**"
      ]
    },
    {
      "cell_type": "markdown",
      "id": "clasico-header",
      "metadata": {
        "id": "clasico-header"
      },
      "source": [
        "## 1. Enfoque Clásico\n",
        "\n"
      ]
    },
    {
      "cell_type": "markdown",
      "source": [
        "### Definición"
      ],
      "metadata": {
        "id": "g3tmYzzez6lA"
      },
      "id": "g3tmYzzez6lA"
    },
    {
      "cell_type": "markdown",
      "source": [
        "\n",
        "Para un experimento aleatorio, se tiene que $\\Omega$ es el espacio muestral.\n",
        "\n",
        "Sea $A$ un evento, entonces:\n",
        "\n",
        "$$ \\mathbb{P}(A) = \\frac{\\#A}{\\#\\Omega} $$\n",
        "\n",
        "**Nota:** Esto asume equiprobabilidad de todos los resultados en Ω."
      ],
      "metadata": {
        "id": "REhCyP7Wz-Vj"
      },
      "id": "REhCyP7Wz-Vj"
    },
    {
      "cell_type": "markdown",
      "id": "espacio-muestral",
      "metadata": {
        "id": "espacio-muestral"
      },
      "source": [
        "### 1.1 Espacio muestral y eventos básicos"
      ]
    },
    {
      "cell_type": "markdown",
      "source": [
        "El espacio muestral es:\n",
        "\n",
        "$$ \\Omega = \\{A,S\\}^3 $$\n",
        "donde $\\#\\Omega = 2^3 = 8$.\n",
        "\n",
        "**Eventos definidos:**\n",
        "* $A$: Todos los resultados son águila\n",
        "* $S$: Todos los resultados son soles\n",
        "* $E$: Por lo menos un resultado es sol\n",
        "\n",
        "**Descomposición:**\n",
        "$$A = A_1 \\cap A_2 \\cap A_3 $$\n",
        "donde $A_i$: cae águila en el i-ésimo lanzamiento."
      ],
      "metadata": {
        "id": "vLxNz4NX4jwW"
      },
      "id": "vLxNz4NX4jwW"
    },
    {
      "cell_type": "code",
      "execution_count": null,
      "id": "construccion-espacio",
      "metadata": {
        "id": "construccion-espacio",
        "outputId": "cc824a46-c853-45f1-e7e5-78b22b66229c",
        "colab": {
          "base_uri": "https://localhost:8080/"
        }
      },
      "outputs": [
        {
          "output_type": "stream",
          "name": "stdout",
          "text": [
            "Espacio muestral para 3 lanzamientos: {('S', 'A', 'S'), ('A', 'A', 'A'), ('A', 'S', 'S'), ('S', 'S', 'A'), ('S', 'A', 'A'), ('A', 'A', 'S'), ('S', 'S', 'S'), ('A', 'S', 'A')}\n",
            "Cardinalidad: 8 elementos\n"
          ]
        }
      ],
      "source": [
        "# Discreta - Lanzamiento de monedas\n",
        "def construir_espacio_monedas(n):\n",
        "    \"\"\"Construye el espacio muestral para n lanzamientos de moneda\"\"\"\n",
        "    return set(product({\"A\", \"S\"}, repeat=n))\n",
        "\n",
        "# Ejemplo: Lanzar una moneda 3 veces\n",
        "Omega_monedas = construir_espacio_monedas(3)\n",
        "print(f\"Espacio muestral para 3 lanzamientos: {Omega_monedas}\")\n",
        "print(f\"Cardinalidad: {len(Omega_monedas)} elementos\")"
      ]
    },
    {
      "cell_type": "markdown",
      "id": "probabilidad-basica",
      "metadata": {
        "id": "probabilidad-basica"
      },
      "source": [
        "### 1.2 Cálculo de probabilidades"
      ]
    },
    {
      "cell_type": "code",
      "execution_count": null,
      "id": "funcion-probabilidad",
      "metadata": {
        "id": "funcion-probabilidad",
        "outputId": "4ec890dd-d4f2-4503-aa62-7b5fc295df3a",
        "colab": {
          "base_uri": "https://localhost:8080/"
        }
      },
      "outputs": [
        {
          "output_type": "stream",
          "name": "stdout",
          "text": [
            "P(Todos águila): 1/8\n",
            "P(Todos sol): 1/8\n",
            "P(Todos sol): 7/8\n"
          ]
        }
      ],
      "source": [
        "# Función general para probabilidad clásica\n",
        "def prob_clasica(evento, espacio):\n",
        "    \"\"\"Calcula la probabilidad clásica de un evento\"\"\"\n",
        "    return Fraction(len(evento), len(espacio))\n",
        "\n",
        "# Evento A Probabilidad de todos águila en 3 lanzamientos\n",
        "A = {om for om in Omega_monedas if om.count(\"A\") == 3}\n",
        "P_A = prob_clasica(A, Omega_monedas)\n",
        "print(f\"P(Todos águila): {P_A}\")\n",
        "\n",
        "# Evento S Probabilidad de todos soles en 3 lanzamientos\n",
        "S = {om for om in Omega_monedas if om.count(\"S\") == 3}\n",
        "P_S = prob_clasica(S, Omega_monedas)\n",
        "print(f\"P(Todos sol): {P_S}\")\n",
        "\n",
        "# Evento E Probabilidad de todos soles en 3 lanzamientos\n",
        "P_E = 1 - P_A\n",
        "print(f\"P(Todos sol): {P_E}\")\n",
        "\n",
        "\n"
      ]
    },
    {
      "cell_type": "markdown",
      "id": "prob-condicional",
      "metadata": {
        "id": "prob-condicional"
      },
      "source": [
        "### 1.3 Probabilidad condicional"
      ]
    },
    {
      "cell_type": "markdown",
      "source": [
        "Definimos la probabilidad de que ocurra un evento $A$ sabiendo que ocurre el evento $B$,\n",
        "\n",
        "$$ \\mathbb{P}(A \\mid B) = \\frac{\\mathbb{P}(A \\cap B)}{\\mathbb{P}(B)} = \\frac{\\# A\\cap B}{\\#B} $$\n",
        "\n",
        "**Nota:** Requiere $\\mathbb{P}(B) > 0$."
      ],
      "metadata": {
        "id": "L8hI6tLR7CPB"
      },
      "id": "L8hI6tLR7CPB"
    },
    {
      "cell_type": "code",
      "execution_count": null,
      "id": "funcion-condicional",
      "metadata": {
        "id": "funcion-condicional",
        "outputId": "c3d4e5f6-g7h8-4901-i2j3-k4l5m6n7o8p9"
      },
      "outputs": [
        {
          "name": "stdout",
          "output_type": "stream",
          "text": [
            "P(Primero águila | Exactamente 2 águilas): 0.667\n",
            "P(Al menos un sol | Primer águila): 0.750\n"
          ]
        }
      ],
      "source": [
        "# Discreta - Probabilidad condicional\n",
        "def prob_cond(evento_A, evento_B, espacio):\n",
        "    \"\"\"Calcula P(A|B) = P(A∩B)/P(B)\"\"\"\n",
        "    interseccion = evento_A & evento_B\n",
        "    return prob_clasica(interseccion, espacio) / prob_clasica(evento_B, espacio)\n",
        "\n",
        "# Ejemplo: Primero águila dado que hay exactamente 2 águilas\n",
        "B = {om for om in Omega_monedas if om[0] == \"A\"}  # Primero águila\n",
        "C = {om for om in Omega_monedas if om.count(\"A\") == 2}  # Exactamente 2 águilas\n",
        "\n",
        "P_B_dado_C = prob_cond(B, C, Omega_monedas)\n",
        "print(f\"P(Primero águila | Exactamente 2 águilas): {P_B_dado_C:.3f}\")\n",
        "\n",
        "# Ejemplo 2: Calcular P(Al menos un sol | Primer lanzamiento águila)\n",
        "al_menos_un_sol = {om for om in Omega_monedas if \"S\" in om}\n",
        "P_cond_ej2 = prob_cond(al_menos_un_sol, B, Omega_monedas)\n",
        "print(f\"P(Al menos un sol | Primer águila): {P_cond_ej2:.3f}\")"
      ]
    },
    {
      "cell_type": "markdown",
      "id": "independencia-eventos",
      "metadata": {
        "id": "independencia-eventos"
      },
      "source": [
        "### 1.4 Independencia de eventos"
      ]
    },
    {
      "cell_type": "markdown",
      "source": [
        "Definición: Decimos que dos eventos $A$ y $B$ son independientes si:\n",
        "$$ \\mathbb{P}(A\\cap B) = \\mathbb{P}(A)\\mathbb{P}(B) $$\n",
        "\n",
        "**Equivalente:**\n",
        "$$ \\mathbb{P}(A|B) = \\mathbb{P}(A) $$"
      ],
      "metadata": {
        "id": "5m6OnX127Zyd"
      },
      "id": "5m6OnX127Zyd"
    },
    {
      "cell_type": "code",
      "execution_count": null,
      "id": "funcion-independencia",
      "metadata": {
        "id": "funcion-independencia",
        "outputId": "d4e5f6g7-h8i9-4012-j3k4-l5m6n7o8p9q0"
      },
      "outputs": [
        {
          "name": "stdout",
          "output_type": "stream",
          "text": [
            "¿Son independientes B y C? False\n",
            "¿Son independientes 'primer águila' y 'segundo sol'? True\n"
          ]
        }
      ],
      "source": [
        "# Discreta - Verificación de independencia\n",
        "def son_independientes(evento_A, evento_B, espacio):\n",
        "    \"\"\"Verifica si dos eventos son independientes\"\"\"\n",
        "    return prob_clasica(evento_A & evento_B, espacio) == prob_clasica(evento_A, espacio) * prob_clasica(evento_B, espacio)\n",
        "\n",
        "# Ejemplo: Verificar independencia entre primer águila y exactamente 2 águilas\n",
        "indep = son_independientes(B, C, Omega_monedas)\n",
        "print(f\"¿Son independientes B y C? {indep}\")\n",
        "\n",
        "# Ejemplo 2: Verificar si \"primer águila\" y \"segundo sol\" son independientes\n",
        "segundo_sol = {om for om in Omega_monedas if om[1] == \"S\"}\n",
        "indep_ej3 = son_independientes(B, segundo_sol, Omega_monedas)\n",
        "print(f\"¿Son independientes 'primer águila' y 'segundo sol'? {indep_ej3}\")"
      ]
    },
    {
      "cell_type": "markdown",
      "id": "ejemplo-dados",
      "metadata": {
        "id": "ejemplo-dados"
      },
      "source": [
        "### 1.5 Ejemplo con dados"
      ]
    },
    {
      "cell_type": "markdown",
      "source": [
        "Sea el experimento aleatorio de lanzar un dado dos veces. Sabemos que el espacio muestral es el siguiente:\n",
        "   $$ \\Omega = \\{(i,j) | i,j  \\in \\{1,2,3,4,5,6\\}\\} = \\{1,2,3,4,5,6\\}\\times \\{1,2,3,4,5,6\\} = \\{1,2,3,4,5,6\\}^2$$\n",
        "   \n",
        "  y además $ \\#\\Omega = 6^2 = 36 $"
      ],
      "metadata": {
        "id": "l1CRY7Iq767r"
      },
      "id": "l1CRY7Iq767r"
    },
    {
      "cell_type": "code",
      "execution_count": null,
      "id": "espacio-dados",
      "metadata": {
        "id": "espacio-dados",
        "outputId": "e5f6g7h8-i9j0-1122-k3l4-m5n6o7p8q9r0"
      },
      "outputs": [
        {
          "name": "stdout",
          "output_type": "stream",
          "text": [
            "\n",
            "Espacio muestral para 2 dados: {(1, 1), (1, 2), (1, 3), (1, 4), (1, 5), (1, 6), (2, 1), (2, 2), (2, 3), (2, 4), (2, 5), (2, 6), (3, 1), (3, 2), (3, 3), (3, 4), (3, 5), (3, 6), (4, 1), (4, 2), (4, 3), (4, 4), (4, 5), (4, 6), (5, 1), (5, 2), (5, 3), (5, 4), (5, 5), (5, 6), (6, 1), (6, 2), (6, 3), (6, 4), (6, 5), (6, 6)}\n",
            "Cardinalidad: 36 resultados posibles\n",
            "P(Suma=7): 1/6\n",
            "P(Suma≥10 | Primer dado=5): 0.333\n"
          ]
        }
      ],
      "source": [
        "# Discreta - Espacio muestral para dados\n",
        "Omega_dados = set(product(range(1, 7), repeat=2))\n",
        "print(f\"\\nEspacio muestral para 2 dados: {Omega_dados}\")\n",
        "print(f\"Cardinalidad: {len(Omega_dados)} resultados posibles\")\n",
        "\n",
        "# Función para eventos de suma\n",
        "def suma_dados(n):\n",
        "    \"\"\"Todos los resultados donde la suma de dos dados es n\"\"\"\n",
        "    return {(i,j) for i in range(1,7) for j in range(1,7) if i+j == n}\n",
        "\n",
        "# Ejemplo: Probabilidad de suma 7\n",
        "S_7 = suma_dados(7)\n",
        "P_S7 = prob_clasica(S_7, Omega_dados)\n",
        "print(f\"P(Suma=7): {P_S7}\")\n",
        "\n",
        "# Ejemplo 2: Calcular P(Suma ≥ 10 | Primer dado es 5)\n",
        "suma_ge_10 = {(i,j) for i in range(1,7) for j in range(1,7) if i+j >= 10}\n",
        "primer_5 = {(i,j) for i,j in Omega_dados if i == 5}\n",
        "P_ej4 = prob_cond(suma_ge_10, primer_5, Omega_dados)\n",
        "print(f\"P(Suma≥10 | Primer dado=5): {P_ej4:.3f}\")"
      ]
    },
    {
      "cell_type": "markdown",
      "id": "geometrico-header",
      "metadata": {
        "id": "geometrico-header"
      },
      "source": [
        "## 2. Enfoque Geométrico\n"
      ]
    },
    {
      "cell_type": "markdown",
      "id": "problema-encuentro",
      "metadata": {
        "id": "problema-encuentro"
      },
      "source": [
        "### 2.1 Problema del encuentro"
      ]
    },
    {
      "cell_type": "code",
      "execution_count": null,
      "id": "simulacion-encuentro",
      "metadata": {
        "id": "simulacion-encuentro",
        "outputId": "f6g7h8i9-j0k1-2132-l4m5-n6o7p8q9r0s1"
      },
      "outputs": [
        {
          "name": "stdout",
          "output_type": "stream",
          "text": [
            "\n",
            "Probabilidad de encuentro (simulación): 0.3069\n",
            "Probabilidad de encuentro (teórica): 0.3056\n",
            "P(encuentro con margen 15min): 0.4375\n"
          ]
        }
      ],
      "source": [
        "# Continua - Problema del encuentro\n",
        "def simulacion_encuentro(n_sim=100000, tiempo_max=60, margen=10):\n",
        "    \"\"\"Simula el problema del encuentro entre dos personas\"\"\"\n",
        "    encuentros = 0\n",
        "\n",
        "    for _ in range(n_sim):\n",
        "        # Ambos llegan en un tiempo aleatorio entre 0 y tiempo_max\n",
        "        llegada_A = np.random.uniform(0, tiempo_max)\n",
        "        llegada_B = np.random.uniform(0, tiempo_max)\n",
        "\n",
        "        # Verificamos si la diferencia es menor al margen\n",
        "        if abs(llegada_A - llegada_B) <= margen:\n",
        "            encuentros += 1\n",
        "\n",
        "    return encuentros / n_sim\n",
        "\n",
        "# Solución teórica\n",
        "def prob_encuentro_teorico(tiempo_max, margen):\n",
        "    \"\"\"Calcula la probabilidad teórica del encuentro\"\"\"\n",
        "    return 1 - (1 - margen/tiempo_max)**2\n",
        "\n",
        "# Simulación\n",
        "P_sim = simulacion_encuentro()\n",
        "P_teor = prob_encuentro_teorico(60, 10)\n",
        "print(f\"\\nProbabilidad de encuentro (simulación): {P_sim:.4f}\")\n",
        "print(f\"Probabilidad de encuentro (teórica): {P_teor:.4f}\")\n",
        "\n",
        "# Ejercicio 5: ¿Cómo cambia la probabilidad si el margen es de 15 minutos?\n",
        "P_ej5 = prob_encuentro_teorico(60, 15)\n",
        "print(f\"P(encuentro con margen 15min): {P_ej5:.4f}\")"
      ]
    },
    {
      "cell_type": "markdown",
      "id": "aguja-buffon",
      "metadata": {
        "id": "aguja-buffon"
      },
      "source": [
        "### 2.2 Problema de la aguja de Buffon"
      ]
    },
    {
      "cell_type": "code",
      "execution_count": null,
      "id": "simulacion-buffon",
      "metadata": {
        "id": "simulacion-buffon",
        "outputId": "g7h8i9j0-k1l2-3243-m5n6-o7p8q9r0s1t2"
      },
      "outputs": [
        {
          "name": "stdout",
          "output_type": "stream",
          "text": [
            "\n",
            "Estimación de π con aguja de Buffon: 3.14256\n",
            "Estimación con aguja 1.5 y espaciado 3: 3.14451\n"
          ]
        }
      ],
      "source": [
        "# Continua - Aguja de Buffon\n",
        "def buffon_needle(n_sim=100000, needle_length=1, line_spacing=2):\n",
        "    \"\"\"Estima π usando el problema de la aguja de Buffon\"\"\"\n",
        "    crosses = 0\n",
        "\n",
        "    for _ in range(n_sim):\n",
        "        # Posición y ángulo aleatorios\n",
        "        y = np.random.uniform(0, line_spacing/2)\n",
        "        theta = np.random.uniform(0, np.pi/2)\n",
        "\n",
        "        # Verificar si cruza una línea\n",
        "        if y <= (needle_length/2) * np.sin(theta):\n",
        "            crosses += 1\n",
        "\n",
        "    prob = crosses / n_sim\n",
        "    pi_estimate = (2 * needle_length) / (line_spacing * prob) if prob > 0 else 0\n",
        "    return pi_estimate\n",
        "\n",
        "# Simulación\n",
        "pi_est = buffon_needle()\n",
        "print(f\"\\nEstimación de π con aguja de Buffon: {pi_est:.5f}\")\n",
        "\n",
        "# Ejercicio 6: ¿Qué pasa si la aguja mide 1.5 unidades y el espaciado 3?\n",
        "pi_ej6 = buffon_needle(needle_length=1.5, line_spacing=3)\n",
        "print(f\"Estimación con aguja 1.5 y espaciado 3: {pi_ej6:.5f}\")"
      ]
    },
    {
      "cell_type": "markdown",
      "id": "frecuentista-header",
      "metadata": {
        "id": "frecuentista-header"
      },
      "source": [
        "## 3. Enfoque Frecuentista\n"
      ]
    },
    {
      "cell_type": "markdown",
      "source": [
        "### Definición:"
      ],
      "metadata": {
        "id": "ErdjMq8t3y_M"
      },
      "id": "ErdjMq8t3y_M"
    },
    {
      "cell_type": "markdown",
      "source": [
        "\n",
        "Tenemos la hipótesis de que el espacio muestral es un conjunto finito, y podemos definir la probabilidad asociada a un evento $A$:\n",
        "\n",
        "$$ f_n(A) = \\frac{n(A)}{n}, $$\n",
        "donde $n(A)$ denota al número de veces que ocurre $A$, y $n$ es el número de veces en que se realiza el experimento."
      ],
      "metadata": {
        "id": "sYnpGFdA32_u"
      },
      "id": "sYnpGFdA32_u"
    },
    {
      "cell_type": "markdown",
      "id": "simulacion-volados",
      "metadata": {
        "id": "simulacion-volados"
      },
      "source": [
        "### 3.1 Simulación de volados"
      ]
    },
    {
      "cell_type": "code",
      "execution_count": null,
      "id": "funcion-volado",
      "metadata": {
        "id": "funcion-volado",
        "outputId": "a1f98548-c770-4416-8f03-44f0f8b1626b",
        "colab": {
          "base_uri": "https://localhost:8080/"
        }
      },
      "outputs": [
        {
          "output_type": "stream",
          "name": "stdout",
          "text": [
            "n=    10: P(A)=0.4000, P(S)=0.6000\n",
            "n=   100: P(A)=0.3700, P(S)=0.6300\n",
            "n=  1000: P(A)=0.4190, P(S)=0.5810\n",
            "n= 10000: P(A)=0.3874, P(S)=0.6126\n",
            "n=100000: P(A)=0.3991, P(S)=0.6009\n",
            "\n",
            "Ejercicio 7 - n=1,000,000: P(A)=0.2998, P(S)=0.7002\n"
          ]
        }
      ],
      "source": [
        "# Simulación - Volados injustos\n",
        "def volado(p_aguila=0.5):\n",
        "    \"\"\"Simula un volado con probabilidad p_aguila de caer águila\"\"\"\n",
        "    return 'A' if random.random() < p_aguila else 'S'\n",
        "\n",
        "def simular_volados(n, p_aguila=0.4):\n",
        "    \"\"\"Simula n volados y calcula frecuencias relativas\"\"\"\n",
        "    resultados = [volado(p_aguila) for _ in range(n)]\n",
        "    frec_A = resultados.count('A') / n\n",
        "    frec_S = 1 - frec_A\n",
        "    return frec_A, frec_S\n",
        "\n",
        "# Simulación con diferente número de lanzamientos\n",
        "for n in [10, 100, 1000, 10000, 100000]:\n",
        "    frec_A, frec_S = simular_volados(n, p_aguila=0.4)\n",
        "    print(f\"n={n:6d}: P(A)={frec_A:.4f}, P(S)={frec_S:.4f}\")\n",
        "\n",
        "# Ejercicio 7: Simular una moneda con P(A)=0.3 para n=1,000,000\n",
        "frec_A_ej7, frec_S_ej7 = simular_volados(1000000, p_aguila=0.3)\n",
        "print(f\"\\nEjercicio 7 - n=1,000,000: P(A)={frec_A_ej7:.4f}, P(S)={frec_S_ej7:.4f}\")"
      ]
    },
    {
      "cell_type": "markdown",
      "id": "ley-grandes-numeros",
      "metadata": {
        "id": "ley-grandes-numeros"
      },
      "source": [
        "### 3.2 Ley de los grandes números"
      ]
    },
    {
      "cell_type": "code",
      "execution_count": null,
      "id": "convergencia-probabilidad",
      "metadata": {
        "id": "convergencia-probabilidad"
      },
      "outputs": [],
      "source": [
        "# Simulación - Convergencia de frecuencias relativas\n",
        "def convergencia_probabilidad(p_teorico, n_max=10000, paso=100):\n",
        "    \"\"\"Muestra la convergencia de la frecuencia relativa a la probabilidad teórica\"\"\"\n",
        "    resultados = []\n",
        "    conteo = 0\n",
        "\n",
        "    for i in range(1, n_max+1):\n",
        "        conteo += 1 if volado(p_teorico) == 'A' else 0\n",
        "        if i % paso == 0:\n",
        "            frecuencia = conteo / i\n",
        "            resultados.append((i, frecuencia))\n",
        "\n",
        "    return resultados\n",
        "\n",
        "# Datos para graficar convergencia\n",
        "datos_convergencia = convergencia_probabilidad(0.4)\n",
        "datos_ej8 = convergencia_probabilidad(0.7)"
      ]
    },
    {
      "cell_type": "markdown",
      "id": "ejercicios-integradores",
      "metadata": {
        "id": "ejercicios-integradores"
      },
      "source": [
        "## 4. Ejercicios Extras"
      ]
    },
    {
      "cell_type": "markdown",
      "id": "juego-cartas",
      "metadata": {
        "id": "juego-cartas"
      },
      "source": [
        "### 4.1 Juego de cartas"
      ]
    },
    {
      "cell_type": "code",
      "execution_count": null,
      "id": "simulacion-cartas",
      "metadata": {
        "id": "simulacion-cartas",
        "outputId": "k1l2m3n4-o5p6-7687-q9r0-s1t2u3v4w5x6"
      },
      "outputs": [
        {
          "name": "stdout",
          "output_type": "stream",
          "text": [
            "\n",
            "Probabilidad de obtener al menos un par: 0.4930\n"
          ]
        }
      ],
      "source": [
        "# Discreta - Probabilidad en juegos de cartas\n",
        "def crear_baraja():\n",
        "    \"\"\"Crea una baraja francesa de 52 cartas\"\"\"\n",
        "    palos = ['Corazones', 'Diamantes', 'Tréboles', 'Espadas']\n",
        "    valores = [str(i) for i in range(2,11)] + ['J', 'Q', 'K', 'A']\n",
        "    return [(valor, palo) for palo in palos for valor in valores]\n",
        "\n",
        "# Probabilidad de obtener un par en una mano de póker\n",
        "def prob_par(n_sim=100000):\n",
        "    \"\"\"Estima la probabilidad de obtener un par en una mano de 5 cartas\"\"\"\n",
        "    baraja = crear_baraja()\n",
        "    pares = 0\n",
        "\n",
        "    for _ in range(n_sim):\n",
        "        mano = random.sample(baraja, 5)\n",
        "        valores = [carta[0] for carta in mano]\n",
        "        # Verificar si hay al menos un par\n",
        "        if len(valores) != len(set(valores)):\n",
        "            pares += 1\n",
        "\n",
        "    return pares / n_sim\n",
        "\n",
        "# Resultados\n",
        "p_par = prob_par()\n",
        "print(f\"\\nProbabilidad de obtener al menos un par: {p_par:.4f}\")"
      ]
    }
  ],
  "metadata": {
    "kernelspec": {
      "display_name": "Python 3 (ipykernel)",
      "language": "python",
      "name": "python3"
    },
    "language_info": {
      "codemirror_mode": {
        "name": "ipython",
        "version": 3
      },
      "file_extension": ".py",
      "mimetype": "text/x-python",
      "name": "python",
      "nbconvert_exporter": "python",
      "pygments_lexer": "ipython3",
      "version": "3.11.4"
    },
    "colab": {
      "provenance": []
    }
  },
  "nbformat": 4,
  "nbformat_minor": 5
}