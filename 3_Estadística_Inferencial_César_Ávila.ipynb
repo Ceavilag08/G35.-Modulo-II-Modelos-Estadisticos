{
  "nbformat": 4,
  "nbformat_minor": 0,
  "metadata": {
    "colab": {
      "provenance": []
    },
    "kernelspec": {
      "name": "python3",
      "display_name": "Python 3"
    },
    "language_info": {
      "name": "python"
    }
  },
  "cells": [
    {
      "cell_type": "code",
      "execution_count": null,
      "metadata": {
        "id": "0oiU6aKDd2gO"
      },
      "outputs": [],
      "source": [
        "# Librerías\n",
        "import numpy as np\n",
        "import matplotlib.pyplot as plt\n",
        "import scipy.stats as st\n"
      ]
    },
    {
      "cell_type": "markdown",
      "metadata": {
        "id": "e61c0906"
      },
      "source": [
        "# Estadística Inferencial\n"
      ]
    },
    {
      "cell_type": "markdown",
      "source": [
        "## Estimadores y  sus propiedades"
      ],
      "metadata": {
        "id": "WnwpOlppbM0C"
      }
    },
    {
      "cell_type": "markdown",
      "metadata": {
        "id": "74ad673a"
      },
      "source": [
        "\n",
        "\n",
        "En estadística se tiene una población de $N$ individuos la cual tiene parámetros $\\mu$ y $\\sigma^2$, que son la media y la varianza poblacionales respectivamente. Como es complicado estudiar una población completa, se suele tomar muestras aleatorias representativas de lo que queremos estudiar.\n",
        "\n",
        "De acuerdo a esto, en lugar de tener parámetros se tiene estimadores, por eso se dice que se puede estimar a través de un conjunto de datos con lo cual se puede estimar la media y la varianza muestrales, $\\bar{X}$ y $\\delta^2$ respectivamente.\n",
        "\n",
        "Sea $(X_1,\\dots,x_n)$ una m.a.\n",
        "\n",
        "$$\\bar{X} = \\frac{\\sum{x_i}}{n}$$\n",
        "$$\\delta^2 = \\frac{\\sum(x_i-\\bar{x})^2}{n-1}$$\n",
        "\n",
        "Se quiere conocer el \"mejor parámetro\" dependiendo del conjunto de datos.\n",
        "\n",
        "Estimadores: $T(x_1,\\dots,x_n)$\n",
        "\n",
        "$$T(x_1,\\dots,x_2) = \\frac{x_i+x_2}{n}$$\n",
        "\n",
        "$$T(x_1,\\dots,x_n) = \\frac{x_1,\\dots,x_n}{n}$$\n",
        "\n",
        "$$\\phi = (\\theta, \\theta \\text{es parámetro de la distribución})  \\underline{C} \\mathbb{R}$$\n",
        "\n",
        "De manera que los estimadores solo dependen de los valores muestrales y no de los poblacionales.\n",
        "\n",
        "$$\\mathbb{E}[x_i], Var(x_i) < \\infty$$\n",
        "\n",
        "Es decir, son estimadores que además de ser finitos, cumplen con las siguientes características:\n",
        "- Insesgados\n",
        "- Consistentes\n",
        "- Completos\n",
        "- Suficientes\n",
        "\n",
        "Esto aplica para los estimadores\n",
        "- Máxima verosimilitud\n",
        "- Mínimos cuadrados\n",
        "- Método de momentos\n",
        "\n",
        "Sea $(x_1,\\dots,x_n)$ v.a.i. cada una con $f_{x_i}(x_i)$.\n",
        "\n",
        "El conjunto de v.a. $(x_1,\\dots,x_n)$ se denomina una m.a. de tamaño $n$ cualquier función real de una m.a. $T(x_1,\\dots,x_n)$ se llama **estadístico**.\n",
        "\n",
        "Sea $X$ una v.a. con función de densidad $f(x;\\theta)$ que indica que depende de los parámetros desconocidos $x$ y $\\theta$.\n",
        "\n",
        "Sea $(x_1,\\dots,x_n)$ una m.a. de x, se tiene\n",
        "$$f(x;\\theta) = f(x_1,\\dots,x_n) = \\prod_{i=1}^n f(x;\\theta)$$\n",
        "\n",
        "$$f_{x_1,\\dots,x_n}(x_1,\\dots,x_n) = (f_{x_1}(x_1))\\dots(f_{x_n}(x_n))$$\n",
        "\n",
        "donde $x_i$ son los valores de los datos.\n",
        "\n",
        "Un estimador del parámetro $\\theta$ es cualquier estadístico $T(x_1,\\dots,x_n)$ t se denota por\n",
        "\n",
        "$$\\hat\\theta = T(x_1,\\dots,x_n)$$\n",
        "\n",
        "**Nota** Un estimador es una v.a.\n",
        "\n",
        "Si los estimadores están en función de un solo valor, entonces se tiene un estimador puntual.\n",
        "\n",
        "Estimadores:\n",
        "- Puntuales: En función de un solo valor.\n",
        "- Intervalo: En función de un rango de valores.\n",
        "\n"
      ]
    },
    {
      "cell_type": "markdown",
      "source": [
        "### Distribuciones Muestrales Relacionadas con la Distribución Normal"
      ],
      "metadata": {
        "id": "IJVcnWCWbcZG"
      }
    },
    {
      "cell_type": "markdown",
      "source": [
        "\n",
        "\n",
        "Sean $Y_1,...,Y_n$ v.a. independientes $\\sim N \\left(\\mu,\\frac{\\sigma^2}{n}\\right)$\n",
        "\n",
        "$$\\implies \\bar{Y} = \\frac{1}{n} \\sum_{i=1}^n y_i \\sim N \\left( \\mu,\\frac{\\sigma^2}{n}\\right)$$\n",
        "\n",
        "Hay otras distribuciones que me interesa estudiar porque están relacionadas con la estadística inferencial.\n",
        "\n",
        "Estandarizando se tiene\n",
        "$$Z_i = \\frac{Y_i-\\mu}{\\sqrt{\\sigma^2}}=\\frac{Y_i-\\mu}{\\sigma} \\sim N(0,1)$$\n",
        "\n",
        "Si tomamos\n",
        "$$\\sum_{i=1}^n {Z_i}^2 = \\sum_{i=1}^n\\left(\\frac{Y_i - \\mu}{\\sigma}\\right)^2 \\sim {X_n}^2$$\n",
        "\n",
        "* Se distribuye $X^2$ con $n$ grados de libertad\n",
        "\n",
        "$$\\implies {Z_i}^2 \\sim {X_n}^2$$\n",
        "\n",
        "La $X^2$ es importante en la estadística inferencial cuando se quiera hacer inferencia acerca de la varianza poblacional.\n",
        "\n",
        "Recordando que los parámetros poblacionales son $\\mu$ y $\\sigma^2$.\n",
        "\n",
        "Si yo quisiera hacer inferencia acerca de la media de una población normal $\\mu$ con varianza desconocida, se puede estimar.\n",
        "\n",
        "Cuando no conocemos $\\sigma$ se estima con $\\delta = \\sqrt{\\delta^2}$\n",
        "\n",
        "Entonces se busca desarrollar métodos de inferencia respecto de $\\mu$.\n",
        "\n",
        "Si $Z \\sim N(0,1)$ y $W \\sim {X_n}^2$, con $Z$ y $W$ independientes, entonces\n",
        "$$T=\\frac{Z}{\\sqrt{W/n}} = \\sqrt{n}\\left(\\frac{\\bar{Y}-\\mu}{\\delta}\\right) \\sim t_{n-1}$$\n",
        "\n",
        "*Se distribuye $t$ de student con n grados de libertad\n",
        "\n",
        "Si $W_1$ Y $W_2$ son v.a.i. con $w_1 \\sim {X_{n_1}}^2$ y $w_2 \\sim {X_{n_2}}^2$\n",
        "\n",
        "\\begin{align*}\n",
        "\\mathbb{F}& = \\frac{w_1/n_1}{w_2/n_2} \\\\\n",
        "          & = \\frac{{\\delta_1}^2/{\\sigma_1}^2}{{\\delta_2}^2/{\\sigma_2}^2}\n",
        "\\end{align*}\n",
        "\n"
      ],
      "metadata": {
        "id": "7wZz0YjLbZl_"
      }
    },
    {
      "cell_type": "markdown",
      "metadata": {
        "id": "05bc8075"
      },
      "source": [
        "### Distribuciones muestrales"
      ]
    },
    {
      "cell_type": "markdown",
      "source": [
        "#### 1. Distribución *t* de Student"
      ],
      "metadata": {
        "id": "KiEvqhgLdWs4"
      }
    },
    {
      "cell_type": "markdown",
      "metadata": {
        "id": "8f32520f"
      },
      "source": [
        "\n",
        "\n",
        "Sean:\n",
        "\n",
        "Sean:\n",
        "\n",
        "- $X \\sim \\mathcal{N}(0,1)$  \n",
        "- $Y \\sim \\chi^2(n - 1)$  \n",
        "\n",
        "Entonces:\n",
        "\n",
        "$$\n",
        "T = \\frac{X \\cdot \\sqrt{n}}{\\sqrt{\\dfrac{Y}{n - 1}}} \\sim t(n - 1)\n",
        "$$\n",
        "\n",
        "Gráficamente, la distribución *t* tiene forma de campana, similar a la normal estándar, pero con colas más gruesas. A medida que $n \\to \\infty$, se aproxima a una normal estándar:\n",
        "\n",
        "$$\n",
        "\\lim_{n \\to \\infty} t(n) = \\mathcal{N}(0,1)\n",
        "$$\n",
        "\n",
        "---\n",
        "\n",
        "> 📌 Esta distribución es útil cuando se desconoce la varianza poblacional y se utiliza una estimación muestral.\n"
      ]
    },
    {
      "cell_type": "code",
      "execution_count": null,
      "metadata": {
        "colab": {
          "base_uri": "https://localhost:8080/"
        },
        "id": "138db013",
        "outputId": "a4f476f4-b098-46d9-c4ce-7a7c6c767846"
      },
      "outputs": [
        {
          "output_type": "display_data",
          "data": {
            "text/plain": [
              "<Figure size 1000x600 with 1 Axes>"
            ],
            "image/png": "[encoded data removed]"
          },
          "metadata": {}
        }
      ],
      "source": [
        "import numpy as np\n",
        "import matplotlib.pyplot as plt\n",
        "from scipy.stats import t, norm\n",
        "\n",
        "# Valores de x para graficar\n",
        "x = np.linspace(-5, 5, 500)\n",
        "\n",
        "# Distribuciones t con diferentes grados de libertad\n",
        "dfs = [1, 3, 10, 30]\n",
        "colors = ['red', 'orange', 'green', 'blue']\n",
        "\n",
        "plt.figure(figsize=(10, 6))\n",
        "\n",
        "# Graficar curvas t\n",
        "for df, color in zip(dfs, colors):\n",
        "    plt.plot(x, t.pdf(x, df), label=f't(df={df})', color=color)\n",
        "\n",
        "# Graficar la normal estándar\n",
        "plt.plot(x, norm.pdf(x), 'k--', label='Normal estándar')\n",
        "\n",
        "# Formato de la gráfica\n",
        "plt.title('Comparación entre la distribución t y la normal estándar', fontsize=14)\n",
        "plt.xlabel('$x$', fontsize=12)\n",
        "plt.ylabel('Densidad', fontsize=12)\n",
        "plt.legend()\n",
        "plt.grid(True)\n",
        "plt.show()\n"
      ]
    },
    {
      "cell_type": "code",
      "execution_count": null,
      "metadata": {
        "colab": {
          "base_uri": "https://localhost:8080/"
        },
        "id": "4bb12cf2",
        "outputId": "cd340694-f649-4be2-e80a-0a1ae54a6e5a"
      },
      "outputs": [
        {
          "output_type": "stream",
          "name": "stdout",
          "text": [
            "Estadística t: 2.000\n",
            "Valor crítico t (95%): ±2.131\n"
          ]
        },
        {
          "output_type": "display_data",
          "data": {
            "text/plain": [
              "<Figure size 1000x600 with 1 Axes>"
            ],
            "image/png": "[encoded data removed]"
          },
          "metadata": {}
        }
      ],
      "source": [
        "import numpy as np\n",
        "import matplotlib.pyplot as plt\n",
        "from scipy.stats import t\n",
        "\n",
        "# Parámetros del ejemplo\n",
        "n = 16                     # tamaño de muestra\n",
        "df = n - 1                 # grados de libertad\n",
        "media_muestral = 17.5\n",
        "media_hipotetica = 16\n",
        "desv_est_muestral = 3\n",
        "\n",
        "# Estadística t\n",
        "t_stat = (media_muestral - media_hipotetica) / (desv_est_muestral / np.sqrt(n))\n",
        "print(f'Estadística t: {t_stat:.3f}')\n",
        "\n",
        "# Intervalo de confianza del 95%\n",
        "alpha = 0.05\n",
        "t_critico = t.ppf(1 - alpha/2, df)\n",
        "print(f'Valor crítico t (95%): ±{t_critico:.3f}')\n",
        "\n",
        "# Gráfica\n",
        "x = np.linspace(-5, 5, 500)\n",
        "y = t.pdf(x, df)\n",
        "\n",
        "plt.figure(figsize=(10,6))\n",
        "plt.plot(x, y, label=f't(df={df})', color='blue')\n",
        "\n",
        "# Rellenar área bajo la curva para el IC\n",
        "plt.fill_between(x, y, where=(x >= -t_critico) & (x <= t_critico), color='lightblue', alpha=0.6, label='Área 95%')\n",
        "\n",
        "# Línea para el valor de la estadística t calculada\n",
        "plt.axvline(t_stat, color='red', linestyle='--', lw=2, label=f'Estadístico t = {t_stat:.2f}')\n",
        "plt.axvline(-t_critico, color='gray', linestyle='--')\n",
        "plt.axvline(t_critico, color='gray', linestyle='--')\n",
        "\n",
        "# Detalles del gráfico\n",
        "plt.title('Distribución t de Student con intervalo de confianza del 95%', fontsize=14)\n",
        "plt.xlabel('$t$', fontsize=12)\n",
        "plt.ylabel('Densidad', fontsize=12)\n",
        "plt.legend()\n",
        "plt.grid(True)\n",
        "plt.show()\n"
      ]
    },
    {
      "cell_type": "markdown",
      "source": [
        "#### 2. Distribución F de Fisher"
      ],
      "metadata": {
        "id": "AVFZmsk2dZTP"
      }
    },
    {
      "cell_type": "markdown",
      "metadata": {
        "id": "9b04edd3"
      },
      "source": [
        "\n",
        "\n",
        "Sea:\n",
        "\n",
        "$$\n",
        "F = \\frac{\\chi^2_{(m-1)} / (m - 1)}{\\chi^2_{(n-1)} / (n - 1)} \\sim F(m - 1,\\ n - 1)\n",
        "$$"
      ]
    },
    {
      "cell_type": "code",
      "execution_count": null,
      "metadata": {
        "id": "8ba780df",
        "outputId": "921ff5bd-dfe9-4815-9db1-4c566098d14b"
      },
      "outputs": [
        {
          "data": {
            "image/png": "[encoded data removed]",
            "text/plain": [
              "<Figure size 1200x500 with 2 Axes>"
            ]
          },
          "metadata": {},
          "output_type": "display_data"
        }
      ],
      "source": [
        "import numpy as np\n",
        "import matplotlib.pyplot as plt\n",
        "from scipy.stats import f, chi2\n",
        "\n",
        "# Rango de valores para las gráficas\n",
        "x_f = np.linspace(0, 5, 500)\n",
        "x_chi = np.linspace(0, 20, 500)\n",
        "\n",
        "# --- Distribución F de Fisher ---\n",
        "df1, df2 = 5, 10\n",
        "f_dist = f.pdf(x_f, df1, df2)\n",
        "\n",
        "plt.figure(figsize=(12, 5))\n",
        "\n",
        "# Gráfica de F\n",
        "plt.subplot(1, 2, 1)\n",
        "plt.plot(x_f, f_dist, label=f'F({df1}, {df2})', color='purple')\n",
        "plt.title('Distribución F de Fisher', fontsize=14)\n",
        "plt.xlabel('x')\n",
        "plt.ylabel('Densidad')\n",
        "plt.grid(True)\n",
        "plt.legend()\n",
        "\n",
        "# --- Distribuciones Ji-cuadrada ---\n",
        "df_chi_list = [1, 3, 6, 10]\n",
        "\n",
        "plt.subplot(1, 2, 2)\n",
        "for df in df_chi_list:\n",
        "    plt.plot(x_chi, chi2.pdf(x_chi, df), label=f'χ²({df})')\n",
        "plt.title('Distribuciones Ji-cuadrada', fontsize=14)\n",
        "plt.xlabel('x')\n",
        "plt.ylabel('Densidad')\n",
        "plt.grid(True)\n",
        "plt.legend()\n",
        "\n",
        "plt.tight_layout()\n",
        "plt.show()\n"
      ]
    },
    {
      "cell_type": "markdown",
      "source": [
        "#### 3. Distribución Ji-cuadrada (Chi-cuadrada)"
      ],
      "metadata": {
        "id": "dxzZrt1fdbEw"
      }
    },
    {
      "cell_type": "markdown",
      "metadata": {
        "id": "1b7c997c"
      },
      "source": [
        "\n",
        "\n",
        "Si:\n",
        "\n",
        "- $X \\sim \\mathcal{N}(0,1)$  \n",
        "- Entonces: $X^2 \\sim \\chi^2(1)$\n",
        "\n",
        "Y si:\n",
        "\n",
        "$$\n",
        "\\sum_{i=1}^{n} X_i^2 \\sim \\chi^2(n)\n",
        "$$\n",
        "\n",
        ">  La distribución $\\chi^2(k)$ surge como la suma de los cuadrados de $k$ variables normales estándar independientes.\n"
      ]
    },
    {
      "cell_type": "markdown",
      "source": [
        "### Propiedades de los Estimadores"
      ],
      "metadata": {
        "id": "MOCpkkUJbnO1"
      }
    },
    {
      "cell_type": "markdown",
      "source": [
        "\n",
        "\n",
        "Sea $(x_1,\\dots,x_n)$ una m.a. que proviene de una v.a. con función de densidad $f_x(x)$ donde $\\mathbb{E}[x]=\\mu$ y $Var(x)=\\sigma^2$\n",
        "\n",
        "$$T(x) = \\bar{X} = \\frac{x_1,\\dots,x_n}{n}$$\n",
        "\n",
        "El estimador es insesgado si $\\mathbb{E}[\\bar{X}]=\\mu$\n",
        "\n",
        "De manera más general, un estimador $\\hat\\theta = T(x_1,\\dots,x_n)$ es insesgado de $\\theta$ si su esperanza $\\mathbb{E}[\\hat\\theta]=\\theta$.\n",
        "\n",
        "Para los estimadores insesgados había un error cuadrático medio.\n",
        "\n",
        "Si $\\hat\\theta$ es insesgada, entonces su error cuadrático medio es\n",
        "$$\\mathbb{E}[(\\hat\\theta - \\theta)] = Var(\\theta)$$\n",
        "\n",
        "Recordando que la FGM nos sirve para encontrar los momentos de cualquier orden.\n",
        "\n",
        "Si $X$ es una v.a. con esperanza $\\mu$ y $n \\in \\mathbb{N}$, con $\\mathbb{x^n}$ el valor esperado en el n-ésimo momento de x,\n",
        "\n",
        "* POBLACIONALES\n",
        "$$M_x(t) → M^{(n)}(0)=\\mathbb{E}[x^n]$$\n",
        "\n",
        "El método de momentos busca igualar los momentos muestrales con los momentos poblacionales\n",
        "\n",
        "* MUESTRALES\n",
        "$$m_n = \\frac{1}{n}\\sum_{i=1}^k {x_i}^n$$\n",
        "\n",
        "**Ejemplo.** Hallar los estimadores por el método de momentos para $(x_1,\\dots,x_n)$ una m.a. de una población con densidad $Gamma(\\alpha,\\beta)$\n",
        "\n",
        "Encontrar estimadores para $\\alpha$ y $\\beta$ $i.e.$ $\\hat\\alpha$ y $\\hat\\beta$\n",
        "\n",
        "Si $X \\sim \\gamma(\\alpha,\\beta)$\n",
        "$$\\implies \\mathbb{E}[x]=\\frac{\\alpha}{\\beta}$$\n",
        "$$ \\implies Var(x)\\frac{\\alpha}{\\beta^2}$$\n",
        "\n",
        "Si sé que\n",
        "$$Var(x)=\\mathbb{E}[x^2]-(\\mathbb{E}[x]^2)$$\n",
        "\n",
        "\\begin{align*}\n",
        "\\implies\\mathbb{E}[x^2] & = Var(x)+(\\mathbb{E}[x])^2 \\\\\n",
        "                        & = \\frac{\\alpha}{\\beta^2} + \\frac{\\alpha^2}{\\beta^2}\n",
        "\\end{align*}\n",
        "\n",
        "Tengo que igualar el momento poblacional con el muestral y tengo que igualar el segundo momento poblacional con el muestral.\n",
        "\n",
        "$$\\mathbb{E}[x]=\\frac{1}{n}\\sum{x_i}$$\n",
        "\n",
        "$$\\mathbb{E}[x^2] = \\frac{1}{n}\\sum{x_i}^2$$\n",
        "\n",
        "$$\\implies \\frac{\\alpha}{\\beta}=\\frac{1}{n}\\sum{x_i}$$\n",
        "\n",
        "$$\\implies \\frac{\\alpha}{\\beta}=\\bar{X}$$\n",
        "\n",
        "$$\\implies \\beta=\\frac{\\alpha}{\\bar{X}}$$\n",
        "\n",
        "Sustituyendo\n",
        "$$\\frac{\\alpha}{\\beta^2} + \\frac{\\alpha^2}{\\beta^2} = \\frac{1}{n}\\sum{x_i}^2$$\n",
        "\n",
        "Finalmente, tenemos que\n",
        "\n",
        "$$\\hat\\alpha = \\frac{n\\bar{x^2}}{\\sum{(x_i - \\bar{x})^2}}$$\n",
        "\n",
        "$$\\hat\\beta = \\frac{n\\bar{x}}{\\sum{(x_i - \\bar{x})^2}}$$\n",
        "\n",
        "**Ejercicio.** Sea $X_i=(x_1,\\dots,x_n)$ una m.a.\n",
        "\n",
        "$$f(x;\\theta)=\\theta(1+x)^{-(1+\\theta)}, \\forall x \\in (0,\\infty), \\theta > 0$$\n",
        "\n",
        "Estimar $\\theta$ por momentos asumiendo que $\\theta>1$\n",
        "\n",
        "$$\\mathbb{E}[x]=\\frac{\\partial{M_x(t)}}{\\partial t}$$\n",
        "\n",
        "$X_i \\sim Bernoulli(p)$ v.a.i.i.d.\n",
        "\n",
        "\\begin{align*}\n",
        "L(X_i;p) & = (\\mathbb{P}(X=x_1;p))(\\mathbb{P}(X=x_2;p))\\dots (\\mathbb{P}(X=x_n;p)) \\\\\n",
        "                   & = (p^{x_1}(1-p)^{1-x_1})(p^{x_2}(1-p)^{1-x_2})\\dots(p^{x_n}(1-p)^{1-x_n}) \\\\\n",
        "                   & = p^{\\sum{x_i}}(1-p)^{n-\\sum{x_i}}\n",
        "\\end{align*}\n",
        "\n",
        "\\begin{align*}\n",
        "\\implies ln[L(X_i;p)] & = ln\\left(p^{\\sum{x_1}}(1-p)^{n-\\sum{x_i}}\\right) \\\\\n",
        "                              & = \\sum{x_iln(p)}+\\left(n-\\sum{x_i}\\right)ln(1-p)\n",
        "\\end{align*}\n",
        "\n",
        "$$\\implies \\frac{\\partial{ln[L(X_i;p)]}}{\\partial p} =\\frac{1}{p}\\sum{x_i}+\\left(n-\\sum{x_i}\\right)\\left(\\frac{1}{1-p}(-1)\\right)= 0$$\n",
        "\n",
        "$$\\implies\\frac{(1-p)\\sum{x_i}-p(n-\\sum{x_i})}{p(1-p)}$$\n",
        "\n",
        "$$p=\\frac{1}{n}\\sum{x_i}$$\n",
        "\n",
        "$$\\hat{p} = \\frac{\\sum{x_i}}{n} \\rightarrow p$$\n",
        "\n",
        "* Converge al p real."
      ],
      "metadata": {
        "id": "OUXbp8ekblpu"
      }
    },
    {
      "cell_type": "markdown",
      "metadata": {
        "id": "68b10528"
      },
      "source": [
        "\n",
        "### Estimador Máximo Verosímil"
      ]
    },
    {
      "cell_type": "markdown",
      "metadata": {
        "id": "c10bc8de"
      },
      "source": [
        "Existen distintos métodos para estimar parámetros desconocidos a partir de un conjunto de datos. El estimador máximo verosímil (MLE) responde a la siguiente pregunta:\n",
        "¿Para qué valor del parámetro, los datos observados tienen la probabilidad más alta?"
      ]
    },
    {
      "cell_type": "markdown",
      "metadata": {
        "id": "430aa256"
      },
      "source": [
        "**Funcion de verosimilitud**\n",
        "Sea $X_1,X_2,\\dots,X_N$ una m.a. con función de densidad $f(x;\\theta)$. La función de verosimilitud (likelihood) es:\n",
        "\n",
        "*Como es una muestra independiente sabemos que va desde $x_1$ hasta $x_n$*\n",
        "\n",
        "$$ f(x_1,\\dots,x_n;\\theta) = f(x_1;\\theta)\\cdots f(x_n;\\theta) $$\n",
        "\n",
        "Entonces,\n",
        "\n",
        "$$ L(x_1,\\dots,x_n;\\theta) = \\prod_{i=1}^n f(x_i,\\theta) $$\n",
        "\n",
        "Ejemplo. Si $X_1,\\dots , X_n$ es una m.a. Poisson($\\lambda$), entonces,\n",
        "$$ L(x_1,\\dots,x_n;\\lambda) = \\frac{e^{-n\\lambda} \\lambda ^{\\sum x_i}}{\\prod x_i !} $$"
      ]
    },
    {
      "cell_type": "markdown",
      "metadata": {
        "id": "9a080874"
      },
      "source": [
        "**Estimador Máximo Verosímil** es el valor de $\\theta$, donde $L(x_1,\\dots,x_n;\\theta)$ alcanza el máximo.\n",
        "\n",
        "Pasos:\n",
        "- $$ L(x_1,\\dots,x_n;\\theta) = \\prod_{i=1}^n f(x_i,\\theta) $$\n",
        "- $$\\ln L(x_1,\\dots,x_n;\\theta) $$\n",
        "- $$ \\frac{d\\ln L(x_1,\\dots,x_n;\\theta)}{d\\theta} $$\n",
        "- $$ \\frac{d\\ln L(x_1,\\dots,x_n;\\theta)}{d\\theta} = 0 $$\n",
        "\n",
        "y despejar $\\theta$ para encontrar el máximo."
      ]
    },
    {
      "cell_type": "markdown",
      "metadata": {
        "id": "69918b58"
      },
      "source": [
        "**Ejemplo 1**\n",
        "Una moneda se lanza 100 veces. Dado que se obtienen 55 soles, queremos encontrar el MLE para la probabilidad $p$ de obtener sol en un solo lanzamiento.\n",
        "\n",
        "Podemos pensar en contar el número de soles en los 100 lanzamientos, entonces la probabilidad de obtener 55 soles en este experimento, es la siguiente:\n",
        "\n",
        "Si $X$: el número de soles que se obtiene al lanzar una moneda, se tiene que $X\\sim Bin(100,p)$, es decir,\n",
        "\n",
        "(*Como es una binomial y se quiere obtener los parámetros, entonces se define así:*)\n",
        "$$ f(55 soles; p) = \\binom{100}{55}p^{55}(1-p)^{100-55} $$\n",
        "\n",
        "Si yo quiero estimar este parámetro p que desconozco tengo que aplicar la función de verosimilitud.\n",
        "\n",
        "Para nuestro caso, tenemos\n",
        "$$ \\frac{P(55 soles ;p)}{dp}=\\binom{100}{55}p^{55}(1-p)^{45} - 45p^{55}(1-p)^{44}=0$$\n",
        "entonces, resolviendo para $p$, se tiene\n",
        "$$ \\binom{100}{55}p^{55}(1-p)^{45}=45^{55}(1-p)^{44} $$\n",
        "entonces,\n",
        "$$ 55(1-p) = 45p $$\n",
        "entonces,\n",
        "$$p = \\frac{11}{20}$$\n",
        "\n",
        "Por lo tanto, el MLE para $p$, es $\\hat{p}=0.55$"
      ]
    },
    {
      "cell_type": "code",
      "execution_count": null,
      "metadata": {
        "id": "5ee17596",
        "outputId": "4a1e01ce-3b26-43b7-f6bf-044732d72849"
      },
      "outputs": [
        {
          "name": "stdout",
          "output_type": "stream",
          "text": [
            "El estimador de máxima verosimilitud es 11/20\n"
          ]
        }
      ],
      "source": [
        "from scipy.stats import bernoulli, binom\n",
        "import numpy as np\n",
        "import sympy # para cálculo simbólico y algebráico -> encontrar el estimador de manera analítica\n",
        "from sympy.abc import x\n",
        "\n",
        "#Definir a p como una variable simbólica positiva.\n",
        "\n",
        "p = sympy.symbols('p',positive=True) # Porque representa una posibilidad\n",
        "f = p**55 * (1-p)**(100-55) # Esta es nuestras función de verosimilitud\n",
        "# Lo que quiero es \\hat{p}\n",
        "phat=sympy.solve(sympy.diff(f,p),p)[0]\n",
        "print(\"El estimador de máxima verosimilitud es\",phat)"
      ]
    },
    {
      "cell_type": "markdown",
      "metadata": {
        "id": "2bb08b32"
      },
      "source": [
        "Veamos otro ejemplo:"
      ]
    },
    {
      "cell_type": "code",
      "execution_count": null,
      "metadata": {
        "id": "8d945f9f",
        "outputId": "3f451137-bed8-4542-bd5f-9ba7ca406ecf"
      },
      "outputs": [
        {
          "data": {
            "text/plain": [
              "array([1, 1, 1, 1, 1, 1, 0, 0, 1, 1, 1, 1, 1, 0, 1, 1, 0, 1, 1, 0, 1, 1,\n",
              "       0, 1, 1, 1, 1, 1, 0, 1, 1, 0, 1, 1, 0, 1, 1, 1, 1, 0, 1, 1, 1, 1,\n",
              "       1, 1, 1, 1, 0, 1, 1, 0, 1, 1, 1, 1, 1, 0, 0, 1, 0, 0, 1, 1, 1, 1,\n",
              "       0, 1, 1, 1, 0, 0, 0, 1, 1, 1, 1, 0, 1, 0, 1, 1, 1, 1, 0, 0, 1, 0,\n",
              "       1, 0, 1, 1, 0, 0, 0, 1, 1, 1, 1, 0], dtype=int64)"
            ]
          },
          "execution_count": 2,
          "metadata": {},
          "output_type": "execute_result"
        }
      ],
      "source": [
        "r= binom.rvs(1,0.7,size=100)\n",
        "r"
      ]
    },
    {
      "cell_type": "code",
      "execution_count": null,
      "metadata": {
        "id": "fd4bdd30",
        "outputId": "a449d8ba-cc08-43f4-f468-13fc5d0185e5"
      },
      "outputs": [
        {
          "name": "stdout",
          "output_type": "stream",
          "text": [
            "El estimador de máxima verosimilitud es 7/10\n"
          ]
        }
      ],
      "source": [
        "f = p**x * (1-p)**(1-x)\n",
        "J = np.prod([f.subs(x,i) for i in r])\n",
        "logJ = sympy.expand_log(sympy.log(J))\n",
        "phat = sympy.solve(sympy.diff(logJ,p),p)[0]\n",
        "print(\"El estimador de máxima verosimilitud es\",phat)"
      ]
    },
    {
      "cell_type": "markdown",
      "source": [
        "### Ejercicios"
      ],
      "metadata": {
        "id": "P1_BKPA_cOsH"
      }
    },
    {
      "cell_type": "markdown",
      "metadata": {
        "id": "2535bca8"
      },
      "source": [
        "$\\color{red}{\\text{Ejercicio 1.}}$ El tiempo de retardo para pacientes con enfermedad coronaria potencial se define como la duración entre el comienzo de un síntoma agudo cardiovascular y la llegada a la unidad de emergencia.\n",
        "\n",
        "Se supone que el tiempo de retardo sigue una distribución exponencial con parámetro $\\theta $.\n",
        "\n",
        "Se registraron los tiempos de retardo (en minutos) en la clínica para los primeros 20 pacientes:\n",
        "\n",
        "$$ 525, \\ 719, \\ 2880, \\ 150, \\ 30, \\ 251, \\ 45, \\ 858, \\ 15, \\ 47, \\ 90, \\ 56, \\ 68, \\ 6, \\ 189, \\ 180, \\ 60, \\ 60, \\ 294, \\ 747 $$\n",
        "\n",
        "- Encuentra un estimador por el método de momentos para la media de la distribución.\n",
        "- Encuentra el valor del estimador con los datos dados."
      ]
    },
    {
      "cell_type": "markdown",
      "metadata": {
        "id": "92cab95b"
      },
      "source": [
        "Solución:\n",
        "\n",
        "Considerando una distribución exponencial con parametro $\\theta$, sabemos que por definición la media teórica es:\n",
        "\n",
        "$$E[X] = \\theta$$\n",
        "\n",
        "Tomando en cuenta el *método de momentos*,  igualamos la media teórica con la media muestral, dicho de otra forma.\n",
        "\n",
        "$$\\hat{\\theta} = \\bar{X} = \\frac{1}{n} \\sum_{i=1}^{n} X_i$$\n",
        "\n",
        "Dado nuestro conjunto de datos:\n",
        "\n",
        "$$525, 719, 2880, 150, 30, 251, 45, 858, 15, 47, 90, 56, 68, 6, 189, 180, 60, 60, 294, 747$$\n",
        "\n",
        "A su vez\n",
        "$$n=20$$\n",
        "\n",
        "La media muestral (media empirica) es la siguiente:\n",
        "\n",
        "$$\\bar{X} = \\frac{525 + 719 + 2880 + 150 + 30 + 251 + 45 + 858 + 15 + 47 + 90 + 56 + 68 + 6 + 189 + 180 + 60 + 60 + 294 + 747}{20}$$  \n",
        "\n",
        "\\begin{align*}\n",
        "\\bar{X} & = \\frac{7270}{20} \\\\\n",
        "        & = 363.5\n",
        "\\end{align*}\n",
        "\n",
        "Por lo tanto, nuestro estimador *$\\theta$* calculado por el método de momentos es:\n",
        "\n",
        "*$$\\hat{\\theta} = 363.5$$*"
      ]
    },
    {
      "cell_type": "markdown",
      "metadata": {
        "id": "a08bed52"
      },
      "source": [
        "$\\color{red}{\\text{Ejercicio 2.}}$ Sea una muestra aleatoria $X_1, \\ldots, X_n \\overset{iid}{\\sim} \\mathcal{N}(\\mu, \\sigma^2) $.\n",
        "Queremos encontrar el estimador de máxima verosimilitud para $\\mu$ y $\\sigma^2$.\n",
        "\n",
        "La función de densidad es:\n",
        "$$ f(x; \\mu, \\sigma^2) = \\frac{1}{\\sqrt{2\\pi \\sigma^2}} \\exp\\left(-\\frac{(x - \\mu)^2}{2\\sigma^2}\\right) \\cdot \\mathbf{1}_{(-\\infty, \\infty)}(x)$$\n",
        "\n",
        "Dado que $L(x_i;\\mu,\\sigma^2)= \\prod_{i=1}^n f(x_i;\\mu,\\sigma^2)$\n",
        "\n",
        "Se tiene que\n",
        "$$L(x_i;\\mu,\\sigma^2)= \\prod_{i=1}^n \\frac{1}{\\sqrt{2\\pi \\sigma^2}} \\exp\\left(-\\frac{(x - \\mu)^2}{2\\sigma^2}\\right) $$\n",
        "\n",
        "Aplicando el logaritmo\n",
        "\n",
        "\\begin{align*}\n",
        "ln[L(x_i;\\mu,\\sigma^2)] & = \\sum_{i=1}^n ln\\left[ \\frac{1}{\\sqrt{2\\pi \\sigma^2}} \\exp\\left(-\\frac{(x - \\mu)^2}{2\\sigma^2}\\right)\\right] \\\\\n",
        "                        & = -\\frac{n}{2}ln(2\\pi\\sigma^2)-\\frac{1}{2}\\sum_{i=1}^n\\frac{(x_i-\\mu)^2}{\\sigma^2}\n",
        "\\end{align*}\n",
        "\n",
        "Por un lado, aplicando la derivada parcial sobre $\\mu$ tenemos\n",
        "\n",
        "\\begin{align*}\n",
        "\\frac{\\partial{(ln[L(x_i;\\mu,\\sigma^2)])}}{\\partial \\mu} & = \\frac{\\partial}{\\partial \\mu}\\left[-\\frac{n}{2}ln(2\\pi\\sigma^2)-\\frac{1}{2}\\sum_{i=1}^n\\frac{(x_i-\\mu)^2}{\\sigma^2}\\right] \\\\\n",
        "                                                         & = \\sum_{i=1}^n \\frac{(x_i-\\mu)}{\\sigma^2}\n",
        "\\end{align*}\n",
        "\n",
        "Igualando a $0$ se tiene\n",
        "\n",
        "$$\\sum_{i=1}^n \\frac{(x_i-\\mu)}{\\sigma^2}=0$$\n",
        "\n",
        "$$\\therefore{\\hat\\mu} = \\frac{1}{n}\\sum_{i=1}^n x_i$$\n",
        "\n",
        "$$\\implies\\hat\\mu=\\bar{x}$$\n",
        "\n",
        "Por otro lado, aplicando la derivada parcial sobre $\\sigma^2$ se tiene\n",
        "\n",
        "\\begin{align*}\n",
        "\\frac{\\partial{(ln[L(x_i;\\mu,\\sigma^2)])}}{\\partial \\sigma^2} & = \\frac{\\partial}{\\partial \\sigma^2}\\left[-\\frac{n}{2}ln(2\\pi\\sigma^2)-\\frac{1}{2}\\sum_{i=1}^n\\frac{(x_i-\\mu)^2}{\\sigma^2}\\right] \\\\\n",
        "                                                             & = -\\frac{n}{2\\sigma^2}+\\frac{\\sum_{i=1}^n (x_i-\\mu)^2}{2\\sigma^4}\n",
        "\\end{align*}\n",
        "\n",
        "Igualando a cero se tiene\n",
        "\n",
        "$$-\\frac{n}{2\\sigma^2}+\\frac{\\sum_{i=1}^n (x_i-\\mu)^2}{2\\sigma^4}=0$$\n",
        "\n",
        "$$\\therefore{\\hat\\sigma^2} = \\frac{1}{n}\\sum_{i=1}^n (x_i-\\mu)^2$$\n"
      ]
    },
    {
      "cell_type": "markdown",
      "metadata": {
        "id": "6285b9da"
      },
      "source": [
        "$\\color{red}{\\text{Ejercicio 3.}}$ Suponga que la vida útil de los focos de cierta marca, se modela mediante una distribución exponencial de parámetro $\\theta$ (desconocido). Probamos 5 focos y encontramos que tienen una vida útilde $2, 3, 1, 3$ y $5$ años, respectivamente. ¿Cuál es el MLE para $\\theta$?"
      ]
    },
    {
      "cell_type": "markdown",
      "metadata": {
        "id": "40389a33"
      },
      "source": [
        "$\\text{Supongamos que la vida útil de los focos sigue una distribución exponencial con parámetro } \\theta.$\n",
        "\n",
        "$\\text{Las observaciones son: } x_1 = 2, \\; x_2 = 3, \\; x_3 = 1, \\; x_4 = 3, \\; x_5 = 5.$\n",
        "\n",
        "$\\text{Determinar El MLE para Θ}$\n",
        "\n",
        "** Solución **\n",
        "\n",
        "$\\text{La función de verosimilitud es:}$\n",
        "$$\n",
        "f(x_1, x_2, x_3, x_4, x_5 \\mid \\theta) = \\theta^5 e^{- \\theta \\sum_{i=1}^5 x_i}.\n",
        "$$\n",
        "\n",
        "$\\text{Sustituyendo } \\sum_{i=1}^5 x_i = 14 \\text{, la función de verosimilitud se convierte en:}$\n",
        "$$\n",
        "f(2, 3, 1, 3, 5 \\mid \\theta) = \\theta^5 e^{-14\\theta}.\n",
        "$$\n",
        "\n",
        "$\\text{Tomamos el logaritmo natural de la función de verosimilitud para simplificar el cálculo:}$\n",
        "$$\n",
        "\\ln(f(2, 3, 1, 3, 5 \\mid \\theta)) = 5 \\ln(\\theta) - 14\\theta.\n",
        "$$\n",
        "\n",
        "$\\text{Calculamos la derivada de la log-verosimilitud respecto a } \\theta:$\n",
        "$$\n",
        "\\frac{d}{d\\theta} \\ln(f(2, 3, 1, 3, 5 \\mid \\theta)) = \\frac{5}{\\theta} - 14.\n",
        "$$\n",
        "\n",
        "$\\text{Igualamos la derivada a cero para maximizar la verosimilitud:}$\n",
        "$$\n",
        "\\frac{5}{\\theta} - 14 = 0.\n",
        "$$\n",
        "\n",
        "$\\text{Resolviendo para } \\theta:$\n",
        "$$\n",
        "\\theta = \\frac{5}{14}.\n",
        "$$\n",
        "\n",
        "$\\text{Por lo tanto, el estimador de máxima verosimilitud (MLE) para } \\theta \\text{ es:}$\n",
        "$$\n",
        "\\hat{\\theta} = \\frac{5}{14}.\n",
        "$$\n"
      ]
    },
    {
      "cell_type": "code",
      "execution_count": null,
      "metadata": {
        "id": "611b1d3a",
        "outputId": "8320b7f1-77a5-4056-e4c7-877640ce1d1a"
      },
      "outputs": [
        {
          "name": "stdout",
          "output_type": "stream",
          "text": [
            "El MLE para theta es: 5/14\n"
          ]
        }
      ],
      "source": [
        "import sympy as sp\n",
        "\n",
        "# Definir la variable simbólica para theta\n",
        "theta = sp.Symbol('theta', positive=True)\n",
        "\n",
        "# Definir la función log-likelihood\n",
        "log_likelihood = 5 * sp.log(theta) - 14 * theta\n",
        "\n",
        "# Derivar la log-likelihood respecto a theta\n",
        "log_likelihood_derivative = sp.diff(log_likelihood, theta)\n",
        "\n",
        "# Resolver la ecuación de la derivada igual a 0\n",
        "theta_mle = sp.solve(log_likelihood_derivative, theta)\n",
        "\n",
        "# Resultado\n",
        "print(f\"El MLE para theta es: {theta_mle[0]}\")\n"
      ]
    },
    {
      "cell_type": "markdown",
      "metadata": {
        "id": "946985b9"
      },
      "source": [
        "Este ejercicio también se puede comprobar con el siguiente codigo, que calcula el reciproco de la media:\n"
      ]
    },
    {
      "cell_type": "code",
      "execution_count": null,
      "metadata": {
        "id": "2f148732",
        "outputId": "a55b42b1-c9e1-4b81-8adc-bf04235695f8"
      },
      "outputs": [
        {
          "name": "stdout",
          "output_type": "stream",
          "text": [
            "El MLE para theta es: 0.35714285714285715\n"
          ]
        }
      ],
      "source": [
        "import numpy as np\n",
        "\n",
        "# Datos de vida útil de los focos (en años)\n",
        "vida_util = [2, 3, 1, 3, 5]\n",
        "\n",
        "# Calcular la media de los datos\n",
        "media = np.mean(vida_util)\n",
        "\n",
        "# Calcular el MLE de theta\n",
        "theta_mle = 1 / media\n",
        "\n",
        "print(f\"El MLE para theta es: {theta_mle}\")"
      ]
    },
    {
      "cell_type": "markdown",
      "metadata": {
        "id": "3c792bf7"
      },
      "source": [
        "$\\color{red}{\\text{Ejercicio 4.}}$ Sea $ (X_1, \\ldots, X_n) $ una muestra aleatoria con función de densidad:\n",
        "$f(x, \\theta) = \\theta(1+x)^{-(1+\\theta)} \\quad \\text{para} \\quad x > 0, \\theta > 0$\n",
        "\n",
        "Estimar $\\theta$ por momentos asumiendo que  $ \\theta > 1$:\n",
        "\n",
        "$$E[X] = \\left. \\frac{dM_X(t)}{dt} \\right|_{t=0}$$\n",
        "\n",
        "\\begin{align*}\n",
        " \\frac{dM_X(t)}{dt} & = \\frac{d}{dt}\\int_{1}^{\\infty} e^{tx}  \\theta(1+x)^{-(1+\\theta)} \\, dx \\\\\n",
        "                    & = \\int_{1}^{\\infty} xe^{tx}  \\theta(1+x)^{-(1+\\theta)} \\, dx\n",
        "\\end{align*}\n",
        "\n",
        "$$\\frac{dM_X(0)}{dt} =\\frac{d}{dt}\\int_{1}^{\\infty} x \\theta(1+x)^{-(1+\\theta)} \\, dx$$\n",
        "\n",
        "donde\n",
        "\n",
        "$$ u = 1 + x \\\\ du = dx \\\\ $$\n",
        "\n",
        "\\begin{align*}\n",
        "\\implies \\frac{dM_X(0)}{dt} & = \\theta \\int_{1}^{\\infty} (u - 1)u^{-(1+\\theta)} \\, du \\\\\n",
        "                            & = \\theta  \\int_{1}^{\\infty} u^{-\\theta} \\ -  u^{-(1+\\theta)} \\, du \\\\\n",
        "                            & = \\theta \\left(\\frac{1}{\\theta -1} - \\frac{1}{\\theta}\\right)\n",
        "\\end{align*}\n",
        "\n",
        "$E[X] = \\frac{1}{\\theta - 1} \\quad \\text{( } \\theta > 1\\text{)}$\n",
        "\n",
        "Por momentos\n",
        "\n",
        "$E[X] = \\overline{X} =\\frac{1}{\\theta - 1} \\quad  \\implies \\theta = 1 + \\frac{1}{\\overline{x}} $"
      ]
    },
    {
      "cell_type": "markdown",
      "source": [
        "## Intervalos de Confianza IC\n",
        "\n"
      ],
      "metadata": {
        "id": "6CgF1iUXd9KJ"
      }
    },
    {
      "cell_type": "markdown",
      "source": [
        "### Intervalo de Confianza para la media de una distribución normal (σ conocida)"
      ],
      "metadata": {
        "id": "y5DgI0bZeOQv"
      }
    },
    {
      "cell_type": "markdown",
      "metadata": {
        "id": "5ee3c18d"
      },
      "source": [
        "\n",
        "\n",
        "Sea $X_1, \\dots, X_n$ una m.a. $X_i \\sim \\mathcal{N}(\\mu, \\sigma^2)$. Entonces:\n",
        "\n",
        "- $\\bar{X} \\sim \\mathcal{N}(\\mu, \\frac{\\sigma^2}{n})$\n",
        "- $Z = \\frac{\\bar{X} - \\mu}{\\sigma / \\sqrt{n}} \\sim \\mathcal{N}(0,1)$\n",
        "\n",
        "**Nivel de significancia (error)**: $\\alpha$\n",
        "\n",
        "El intervalo de confianza se basa en que:\n",
        "$$\n",
        "\\mathbb{P}\\left( -z_{\\alpha/2} < \\frac{\\bar{X} - \\mu}{\\sigma / \\sqrt{n}} < z_{\\alpha/2} \\right)\n",
        "= \\mathbb{P}\\left( \\bar{X} - z_{\\alpha/2} \\frac{\\sigma}{\\sqrt{n}} < \\mu < \\bar{X} + z_{\\alpha/2} \\frac{\\sigma}{\\sqrt{n}} \\right)\n",
        "= 1 - \\alpha\n",
        "$$\n",
        "\n",
        "**El intervalo del $(1 - \\alpha) \\cdot 100\\%$ de confianza para $\\mu$ (con $\\sigma$ conocida) es:**\n",
        "\n",
        "$$\n",
        "\\left( \\bar{X} - z_{\\alpha/2} \\frac{\\sigma}{\\sqrt{n}}, \\quad \\bar{X} + z_{\\alpha/2} \\frac{\\sigma}{\\sqrt{n}} \\right)\n",
        "$$\n",
        "donde\n",
        "\n",
        "- $\\sigma$ = desviación estándar  \n",
        "- $\\frac{\\sigma}{\\sqrt{n}}$ = error estándar de la media  \n",
        "- $z_{\\alpha/2}$ determina el nivel de confianza  \n",
        "- El intervalo está centrado en $\\bar{X}$\n",
        "\n",
        "**Observación**\n",
        "\n",
        "- A mayor $n$, menor es el error estándar, y el intervalo de confianza es más pequeño.\n",
        "- Esto hace que se acerque más a la media $\\mu$, es decir, que haya menor variación.\n",
        "\n",
        "**Ejemplo 1** Para tratar de estimar la media de consumo por cliente en un gran restaurante, se reunieron datos de una muestra de 49 clientes durante 3 semanas.\n",
        "\n",
        "**a)** Supongamos que la **desviación estándar de la población** es de $2.50. ¿Cuál es el error estándar de la media?\n",
        "\n",
        "**b)** Con un nivel de confianza del 95%. ¿Cuál es el margen de error?\n",
        "\n",
        "**c)** Si la **media de la muestra** es de $22.60, ¿cuál es el intervalo de confianza del 95% para la media de la población?"
      ]
    },
    {
      "cell_type": "code",
      "execution_count": null,
      "metadata": {
        "id": "c6cfec1b",
        "outputId": "60a6596b-91fd-40d4-e029-b9e9c52854a8"
      },
      "outputs": [
        {
          "name": "stdout",
          "output_type": "stream",
          "text": [
            "a) Error estándar de la media: 0.36\n",
            "b) Margen de error con 95% de confianza: 0.70\n",
            "c) Intervalo de confianza del 95%: (21.90,23.30)\n"
          ]
        }
      ],
      "source": [
        "# Datos\n",
        "n=49\n",
        "sigma = 2.50\n",
        "media_muestral = 22.60\n",
        "confianza = 0.95\n",
        "\n",
        "#a) Error estándar de la media\n",
        "error_estandar = sigma/np.sqrt(n)\n",
        "print(f\"a) Error estándar de la media: {error_estandar:.2f}\")\n",
        "\n",
        "# b) Margen de error\n",
        "z = st.norm.ppf(1-(1-confianza)/2)\n",
        "margen_error = z * error_estandar\n",
        "print(f\"b) Margen de error con 95% de confianza: {margen_error:.2f}\")\n",
        "\n",
        "# c)\n",
        "limite_inferior = media_muestral - margen_error\n",
        "limite_superior = media_muestral + margen_error\n",
        "print(f\"c) Intervalo de confianza del 95%: ({limite_inferior:.2f},{limite_superior:.2f})\")"
      ]
    },
    {
      "cell_type": "markdown",
      "metadata": {
        "id": "deb9503b"
      },
      "source": [
        "$1-\\alpha = .95$, implica que $z_{\\alpha/2} = z_{0.025} = 1.96$\n",
        "\n",
        "**Ejemplo 2** Supongamos que se toma una muestra aleatoria de 100 personas para estimar la media del peso de una población y se obtiene que la media muestral es de 70kg con una desviación estándar que es conocida de 10kg. Para un nivel de confianza del 95%, calcular el intervalo de confianza."
      ]
    },
    {
      "cell_type": "code",
      "execution_count": null,
      "metadata": {
        "id": "5b5b513e",
        "outputId": "0d0441eb-6726-43dd-ea9e-ca3fbae6c655"
      },
      "outputs": [
        {
          "name": "stdout",
          "output_type": "stream",
          "text": [
            "Intervalo de confianza del 95% es:(68.04003601545995, 71.95996398454005)\n"
          ]
        }
      ],
      "source": [
        "# Datos\n",
        "\n",
        "n = 100\n",
        "media_muestral = 70\n",
        "sigma = 10\n",
        "nivel_confianza = 0.95\n",
        "\n",
        "error_estandar = sigma / np.sqrt(n)\n",
        "\n",
        "# Utilizaremos la función scipy.stats.norm.interval\n",
        "# Sintaxis\n",
        "# scipy.stats.norm.interval(confidence, loc = media, scale = error_estandar)\n",
        "\n",
        "intervalo = st.norm.interval(confidence=nivel_confianza, loc = media_muestral, scale = error_estandar)\n",
        "print(f\"Intervalo de confianza del 95% es:{intervalo}\")"
      ]
    },
    {
      "cell_type": "code",
      "execution_count": null,
      "metadata": {
        "id": "5444d1e2",
        "outputId": "e877b1fa-59cf-4c90-cd89-f893a500c31f"
      },
      "outputs": [
        {
          "data": {
            "image/png": "[encoded data removed]",
            "text/plain": [
              "<Figure size 1000x500 with 1 Axes>"
            ]
          },
          "metadata": {},
          "output_type": "display_data"
        }
      ],
      "source": [
        "# Puntos para graficar la curva normal\n",
        "x = np.linspace(media_muestral - 4*error_estandar, media_muestral + 4*error_estandar, 500)\n",
        "y = st.norm.pdf(x, loc=media_muestral, scale=error_estandar)\n",
        "\n",
        "# Gráfica\n",
        "plt.figure(figsize=(10, 5))\n",
        "plt.plot(x, y, label='Distribución normal', color='black')\n",
        "\n",
        "# Sombrear el intervalo de confianza\n",
        "plt.fill_between(x, y, where=(x >= intervalo[0]) & (x <= intervalo[1]), color='skyblue', alpha=0.6, label='IC 95%')\n",
        "\n",
        "# Líneas verticales\n",
        "plt.axvline(intervalo[0], color='blue', linestyle='--', label=f'IC inferior = {intervalo[0]:.2f}')\n",
        "plt.axvline(intervalo[1], color='blue', linestyle='--', label=f'IC superior = {intervalo[1]:.2f}')\n",
        "plt.axvline(media_muestral, color='red', linestyle='-', label=f'Media muestral = {media_muestral}')\n",
        "\n",
        "# Estética\n",
        "plt.title('Intervalo de confianza del 95% para la media ($\\\\sigma$ conocida)', fontsize=14)\n",
        "plt.xlabel('Valor de la variable')\n",
        "plt.ylabel('Densidad')\n",
        "plt.legend()\n",
        "plt.grid(True)\n",
        "plt.show()"
      ]
    },
    {
      "cell_type": "markdown",
      "source": [
        "### Intervalo de Confianza para la media $\\mu$ de una distribución normal ($\\sigma$ deconocida)"
      ],
      "metadata": {
        "id": "h_SpqmNJedpJ"
      }
    },
    {
      "cell_type": "markdown",
      "metadata": {
        "id": "92647fa3"
      },
      "source": [
        "\n",
        "\n",
        "Sea $X_1, \\dots, X_n$ una m.a. $X_i \\sim \\mathcal{N}(\\mu, \\sigma^2)$. Entonces:\n",
        "\n",
        "- $\\bar{X} \\sim \\mathcal{N}(\\mu, \\frac{\\sigma^2}{n})$\n",
        "- $Z = \\frac{\\bar{X} - \\mu}{\\sigma / \\sqrt{n}} \\sim \\mathcal{N}(0,1)$\n",
        "\n",
        "Si el tamaño de la muestra es menor a 30, se utiliza la $t$:\n",
        "**Estadístico t**\n",
        "\n",
        "Definimos el estadístico $t$ de la siguiente manera:\n",
        "$$T = \\frac{\\bar{X}-\\mu}{s/\\sqrt{n}} \\sim t_{(n-1)} $$\n",
        "\n",
        "** El intervalo del $(1 - \\alpha) \\cdot 100\\%$ de confianza para $\\mu$ (con $\\sigma$ desconocida) es: **\n",
        "\n",
        "$$\n",
        "\\left( \\bar{X} - t_{\\alpha/2} \\frac{s}{\\sqrt{n}}, \\quad \\bar{X} + t_{\\alpha/2} \\frac{s}{\\sqrt{n}} \\right)\n",
        "$$\n",
        "donde\n",
        "\n",
        "- $s$ = desviación estándar muestral\n",
        "- $\\frac{s}{\\sqrt{n}}$ = error estándar de la media  \n",
        "- $t_{\\alpha/2}$ determina el nivel de confianza  \n",
        "- El intervalo está centrado en $\\bar{X}$"
      ]
    },
    {
      "cell_type": "markdown",
      "metadata": {
        "id": "ce1e5636"
      },
      "source": [
        "**Ejemplo 3** Supongamos que tenemos los siguientes datos\n",
        "$$ datos = [45, 55, 67, 45, 68, 79, 98, 87, 84, 82] $$\n",
        "Calcular un intervalo de confianza para la media."
      ]
    },
    {
      "cell_type": "code",
      "execution_count": null,
      "metadata": {
        "id": "857083fb",
        "outputId": "7395bf65-6dd8-44ed-861c-979d12dbce3d"
      },
      "outputs": [
        {
          "name": "stdout",
          "output_type": "stream",
          "text": [
            "Media muestral: 71.00\n",
            "Error estandar: 5.75\n",
            "El intervalo de confianza del 95% es: (58.00052174294386, 83.99947825705614)\n"
          ]
        }
      ],
      "source": [
        "# Datos del ejemplo\n",
        "data = [45, 55, 67, 45, 68, 79, 98, 87, 84, 82]\n",
        "confidence = 0.95\n",
        "gl = len(data) - 1 # grados de liber\n",
        "\n",
        "# Media y error estandar\n",
        "mean = np.mean(data)\n",
        "error_est = st.sem(data)\n",
        "\n",
        "# Intervalo de confianza usando t de Student\n",
        "intervalo = st.t.interval(confidence, gl, loc = mean, scale = error_est)\n",
        "\n",
        "print(f\"Media muestral: {mean:.2f}\")\n",
        "print(f\"Error estandar: {error_est:.2f}\")\n",
        "print(f\"El intervalo de confianza del 95% es: {intervalo}\")\n"
      ]
    },
    {
      "cell_type": "markdown",
      "metadata": {
        "id": "cd5abb1e"
      },
      "source": [
        "**Ejemplo 4** Los artículos de cerámica utilizados sobre velas electricas sobrecargadas se rompen con diferentes presiones. Supongamos que los datos provienen de una distribución normal.\n",
        "\n",
        "La resistencia a la ruptura fue medida en una muestra de 100 artículos, y el promedio fue de $1750$ con un desviación estándar de 315.8\n",
        "\n",
        "**a)** Estimar con un nivel del confianza del $90\\%$ a la media poblacional de la presión de la ruptura.\n",
        "\n",
        "**b)** Estimar con un nivel del confianza del $90\\%$ a la varianza poblacional."
      ]
    },
    {
      "cell_type": "code",
      "execution_count": null,
      "metadata": {
        "id": "e21e14fe",
        "outputId": "3bff2248-3cf5-407c-abca-2611ec2f2b06"
      },
      "outputs": [
        {
          "name": "stdout",
          "output_type": "stream",
          "text": [
            "El intervalo de confianza del 90% es: (1698.0555224608725, 1801.9444775391275)\n",
            "El intervalo de confianza del 90% es: (80123.48643850331, 128146.71537457063)\n",
            "El intervalo de confianza del 90% es: (80123.48643850331, 128146.71537457063)\n"
          ]
        }
      ],
      "source": [
        "from scipy.stats import chi2\n",
        "# datos\n",
        "n = 100\n",
        "media_muestral = 1750\n",
        "desv_estandar_muestral = 315.8\n",
        "confianza = 0.90\n",
        "\n",
        "# a) Usar la normal ya que el tamaño de la muestra es grande\n",
        "error_est = desv_estandar_muestral / np.sqrt(n)\n",
        "error_est\n",
        "intervalo_media = st.norm.interval(confidence=confianza, loc = media_muestral, scale = error_est)\n",
        "print(f\"El intervalo de confianza del 90% es: {intervalo_media}\")\n",
        "\n",
        "# b) Intervalo de confianza para la varianza (usar chi-cuadrada)\n",
        "alpha = 1-confianza\n",
        "gl = n-1\n",
        "s2 = desv_estandar_muestral**2\n",
        "\n",
        "#Cuantiles de la chi-cuadrada\n",
        "chi2_inf = st.chi2.ppf(alpha / 2,df=gl)\n",
        "chi2_sup = st.chi2.ppf(1- alpha / 2,df=gl)\n",
        "\n",
        "# Intervalo de confianza\n",
        "intervalo_varianza = ((gl * s2) / chi2_sup, (gl * s2) / chi2_inf )\n",
        "print(f\"El intervalo de confianza del 90% es: {intervalo_varianza}\")\n",
        "\n",
        "#Otra forma\n",
        "chi2_low, chi2_high = chi2.interval(confianza,df=gl)\n",
        "intervalo_varianza1 = ((gl * s2) / chi2_high, (gl * s2) / chi2_low )\n",
        "print(f\"El intervalo de confianza del 90% es: {intervalo_varianza1}\")\n"
      ]
    },
    {
      "cell_type": "markdown",
      "metadata": {
        "id": "361d8548"
      },
      "source": [
        "**Ejemplo**  El artículo *\"Evaluation of a Ventilation Strategy to Prevent Barotrauma in Patients at High Risk for Acute Respiratory Distress Syndrome\"* reportó sobre un experimento con 120 pacientes con anestesistas en cuidados intensivos (UCI), los cuales fueron divididos al azar en dos grupos, donde cada uno esta compuesto por 60 pacientes.\n",
        "\n",
        "- Grupo A: promedio de permanencia = 14.1 horas\n",
        "- Grupo B: promedio de permanencia = 17.5 horas\n",
        "- Desviación estándar en ambos = 5.1 hrs\n",
        "\n",
        "Encontrar un intervalo del $95\\%$ de confianza para la diferecia de medias poblacionales: $(\\mu_A - \\mu_B)$  "
      ]
    },
    {
      "cell_type": "code",
      "execution_count": null,
      "metadata": {
        "id": "a7eb4c94",
        "outputId": "42a3025a-f2b2-4d6a-976b-7f374b16d56d"
      },
      "outputs": [
        {
          "name": "stdout",
          "output_type": "stream",
          "text": [
            "Diferencia de las medias: -3.40\n",
            "Intervalo de confianza del 95%: (-5.22,-1.58)\n"
          ]
        }
      ],
      "source": [
        "#Datos\n",
        "n1 = 60\n",
        "n2 = 60\n",
        "media1 = 14.1\n",
        "media2 = 17.5\n",
        "sigma = 5.1\n",
        "confianza = 0.95\n",
        "alpha = 1-confianza\n",
        "#gl = n1 + n2 -2\n",
        "\n",
        "#valor critico\n",
        "z = st.norm.ppf(1 - alpha / 2)\n",
        "\n",
        "#Error estandar\n",
        "error_est = sigma * np.sqrt(1/n1 + 1/n2)\n",
        "dif_medias = media1 - media2\n",
        "margen_error = z *error_est\n",
        "\n",
        "lim_inf = dif_medias - margen_error\n",
        "lim_sup = dif_medias + margen_error\n",
        "print(f\"Diferencia de las medias: {dif_medias:.2f}\")\n",
        "print(f\"Intervalo de confianza del 95%: ({lim_inf:.2f},{lim_sup:.2f})\")"
      ]
    },
    {
      "cell_type": "markdown",
      "source": [
        "### Intervalo de Confianza para la Diferencia de Medias $ \\mu_A - \\mu_B $"
      ],
      "metadata": {
        "id": "22cTWaG3gIiR"
      }
    },
    {
      "cell_type": "markdown",
      "source": [
        "Supuestos\n",
        "- Muestras independientes:\n",
        "  - $ X_1, \\ldots, X_n $ m.a. de $\\mathcal{N}(\\mu_A, \\sigma^2) \\\\ \\overline{X}_A \\sim \\mathcal{N}\\left(\\mu_A, \\frac{\\sigma^2}{n}\\right)$\n",
        "\n",
        "\n",
        "\n",
        "  - $ Y_1, \\ldots, Y_m $ m.a. de $ \\mathcal{N}(\\mu_B, \\sigma^2) \\\\ \\quad \\overline{X}_B \\sim \\mathcal{N}\\left(\\mu_B, \\frac{\\sigma^2}{m}\\right)$\n",
        "\n",
        "**Varianza poblacional $ \\sigma^2 $ *conocida* **\n",
        "\n",
        "${X}_A - {X}_B \\sim \\mathcal{N}\\left(\\mu_A - \\mu_B, \\sigma^2 \\left( \\frac{1}{n} + \\frac{1}{m} \\right) \\right)$\n",
        "\n",
        "Intervalo del (1-α)×100% de Confianza para $\\mu_A - \\mu_B$ es:\n",
        "$\\left( \\overline{X}A - \\overline{X}_B \\right) \\pm Z{1-\\alpha/2} \\cdot \\sigma \\sqrt{\\frac{1}{n} + \\frac{1}{m}}$\n",
        "\n",
        "** Varianza poblacional $ \\sigma^2 $ *desconocida* **\n",
        "\n",
        "$T = \\frac{(\\overline{X}_A - \\overline{X}_B) - (\\mu_A - \\mu_B)}{\\sqrt{\\frac{n + m}{nm}} \\cdot \\sqrt{\\frac{\\sum (X_i - \\overline{X}_A)^2 + \\sum (Y_i - \\overline{X}_B)^2}{n + m - 2}}} \\sim t(n + m - 2)$\n",
        "\n",
        "$ IC = (\\overline{X}A - \\overline{X}_B) \\pm t{1 - \\alpha/2}^{(n + m - 2)} \\cdot \\sqrt{\\frac{\\sum (X_i - \\overline{X}_A)^2 + \\sum (Y_i - \\overline{X}_B)^2}{n + m - 2}}$\n",
        "\n",
        "$IC \\implies$ proporción $ p $ de una Binomial\n",
        "\n",
        "$I = {P_o} \\pm z_{\\alpha/2} \\cdot \\sqrt{\\frac{{P_0}(1 - {P_0})}{n}}$\n",
        "\n"
      ],
      "metadata": {
        "id": "nZIgPibPgNvX"
      }
    },
    {
      "cell_type": "markdown",
      "source": [
        "### Propiedad de Invarianza"
      ],
      "metadata": {
        "id": "vt9_HftigoGB"
      }
    },
    {
      "cell_type": "markdown",
      "source": [
        "Si $\\hat{\\theta}$ es EMV de ${\\theta}$ pero nos interesa estimar una funcion de ${\\theta}$, digamos T(${\\theta}$)\n",
        "\n",
        "$\\hat{T(\\theta)} = T(\\hat \\theta)$\n",
        "\n",
        "si $\\hat{\\theta} = \\bar{x}$ es EMV de ${\\theta}$\n",
        "\n",
        "$\\implies {T(\\theta)} = \\theta ^ 2 \\implies \\hat{T(\\theta)} = (\\bar{x})^ 2$\n",
        "\n",
        "$ X_1, \\dots, X_n \\sim \\text{exp}(\\lambda)$\n",
        "\n",
        "#### Estimadores:\n",
        "\n",
        "$\\hat \\theta_1 = x_1$\n",
        "\n",
        "$\\hat \\theta_2 = \\frac {x_1 + x_2} {2}$\n",
        "\n",
        "$\\hat \\theta_3 = \\frac {x_1 + 2x_2} {3}$\n",
        "\n",
        "#### Error cuadrático medio\n",
        " $ECM (\\hat \\theta) = \\mathbb{E}[(\\hat \\theta - \\theta)^ 2]$\n",
        "\n",
        " $=Var(\\hat \\theta) + \\mathbb{E}[(\\hat \\theta - \\theta)]^ 2$  \n",
        "\n",
        "\n",
        "\n",
        "Ejemplo: Sea $ X_1, \\dots, X_n \\sim \\text{Poisson}(\\lambda)$\n",
        "\n",
        "a) Encontrar EMV\n",
        "\n",
        "b) ¿Es insesgado?\n",
        "\n",
        "c) ECM\n",
        "\n",
        "---\n",
        "\n",
        "a) $L(x_1, \\dots, x_n, \\theta) = \\prod_{i=1}^{n} \\frac{e^{-\\theta} \\theta^{x_i}}{x_i!}\n",
        "= \\frac{e^{-n\\theta} \\theta^{\\sum x_i}}{x_1! x_2! \\dots x_n!}$\n",
        "\n",
        "$ \\implies \\ln L(x_1, \\dots, x_n; \\theta)\n",
        "= \\ln \\left( \\frac{e^{-n\\theta} \\theta^{\\sum x_i}}{x_1! \\dots x_n!} \\right)\n",
        "= \\ln(e^{-n\\theta} \\text{ } \\theta^{\\sum x_i}) - \\ln(x_1! \\dots x_n!)$\n",
        "\n",
        "$= -n\\theta + \\sum_{}^n x_i \\ln(\\theta) - \\sum_{}^n \\ln(x_i!)$\n",
        "\n",
        "$ \\implies \\frac{\\partial \\ln L(x_1, \\dots, x_n; \\theta)}{\\partial \\theta} = -n + \\sum x_i \\cdot \\frac{1}{\\theta} = 0 $\n",
        "\n",
        "$\\implies \\frac{1}{\\theta} \\sum x_i = n\n",
        "\\implies \\frac{\\sum x_i}{n} = \\theta \\\\\n",
        "\\implies \\hat{\\theta} = \\bar{x}$\n",
        "\n",
        "---\n",
        "\n",
        "b) $\\mathbb{E}[\\hat{\\theta}] = \\mathbb{E}\\left[\\frac{\\sum x_i}{n}\\right]\n",
        "= \\frac{1}{n} \\mathbb{E}[\\sum x_i]\n",
        "= \\frac{\\sum \\mathbb{E}[x_i]}{n}\n",
        "= \\frac{\\sum_{}^n \\theta}{n}\n",
        "= \\frac{n \\theta}{n} = \\theta$\n",
        "\n",
        "---\n",
        "\n",
        "c) $\\text{ECM}(\\hat{\\theta}) = \\text{Var}(\\hat{\\theta})\n",
        "= \\text{Var}\\left( \\frac{\\sum x_i}{n} \\right)\n",
        "= \\frac{1}{n^2} \\text{Var}\\left( \\sum x_i \\right)\n",
        "= \\frac{\\sum \\text{Var}(x_i)}{n^2}\n",
        "= \\frac{\\sum \\theta}{n^2}\n",
        "= \\frac{n\\theta}{n^2} = \\frac{\\theta}{n}$\n",
        "\n",
        "${\\text{ECM}(\\hat{\\theta}) = \\frac{\\theta}{n}}$\n",
        "\n",
        "\n",
        "#### Def. El sesgo  B  de un estimador $ \\hat{\\theta} $\n",
        "\n",
        "$B = \\mathbb{E}[\\hat{\\theta}] - \\theta $\n",
        "\n",
        "1) Si $\\mathbb{E}[\\hat{\\theta}] > \\theta $, el estimador es *sesgado positivamente*  (a)\n",
        "\n",
        "2) Si $\\mathbb{E}[\\hat{\\theta}] < \\theta $, el estimador es *sesgado negativamente*  (b)\n",
        "\n",
        "#### Minimización del ECM\n",
        "\n",
        "Sea$X $ una variable aleatoria con segundo momento de orden finito.\n",
        "\n",
        "Definimos la función:\n",
        "$ g(u) = \\mathbb{E}[(X - u)^2] \\quad \\Leftarrow \\text{ECM} $\n",
        "\n",
        "Entonces:\n",
        "$ g(u) \\text{ se minimiza cuando } \\mathbb{E}[X] = u $\n",
        "\n",
        "#### Consecuencia:\n",
        "\n",
        "$ \\text{Var}(X) \\leq \\mathbb{E}[(X - u)^2]$\n",
        "\n",
        "---\n",
        "#### Estadísticas Suficientes\n",
        "\n",
        "Sea $ X_1, \\ldots, X_n $ una m.a. con densidad $ f(\\mathrel{\\cdot}; \\theta) $, $ \\theta $ puede ser un vector.\n",
        "\n",
        "Una estadística $ T = t(X_1, \\ldots, X_n) $ es una *estadística suficiente* ⟺  \n",
        "la distribución de $ X_1, \\ldots, X_n $ dado $ T = t $ no depende de $ \\theta $.\n",
        "\n",
        "$\n",
        "\\mathbb{P}(X_1 = t_1, X_2 = t_2, \\ldots, X_n = t_n \\mid T = t) \\text{ no depende de } \\theta\n",
        "$\n",
        "\n",
        "\n",
        "#### Teorema de Fisher-Neyman\n",
        "\n",
        "Si $ X_1, \\ldots, X_n $ es una m.a. con f.d. $ f(x; \\theta) $  \n",
        "Sea $ T = t(X_1, \\ldots, X_n) $ una estadística cuya f.d.p. sea $ g(t; \\theta) $  \n",
        "\n",
        "Entonces $ T $ es suficiente para $ \\theta $ si y sólo si:\n",
        "\n",
        "$\n",
        "L(X_1, \\ldots, X_n; \\theta) = H(X_1, \\ldots, X_n) \\cdot g(t(X_1, \\ldots, X_n), \\theta)\n",
        "$\n",
        "\n",
        "donde:\n",
        "\n",
        "- $ H(X_1, \\ldots, X_n) $ *no depende de* $ \\theta $\n",
        "\n",
        "\n",
        "#### Estimadores → UMVUE(Estimadores insesgados de varianza uniformemente mínima)\n",
        "\n",
        "Sea $ X_1, \\ldots, X_n $ una m.a. de $ f(\\mathrel{\\cdot}; \\theta) $ un estimador $ T^* = t(X_1, \\ldots, X_n) $  \n",
        "de $ T(\\theta) $ se define como un *UMVUE* de $ \\tau(\\theta) $ si y sólo si:\n",
        "\n",
        "1. $ \\mathbb{E}[T^*] = T(\\theta) $ (insesgado)  \n",
        "2. $ \\text{Var}(T^*) \\leq \\text{Var}(T) $ para cualquier otro estimador insesgado $ T = t(X_1, \\ldots, X_n) $ de $ T(\\theta) $\n",
        "\n",
        "---\n",
        "\n",
        "#### Desigualdad de Cramér–Rao\n",
        "\n",
        "Establece un límite inferior para la varianza de cualquier estimador\n",
        "\n",
        "$\\text{Var}(T) \\geq \\frac{[T'(\\theta)]^2}{n \\mathbb{E} \\left[ \\left( \\frac{\\partial \\ln f(x_i; \\theta)}{\\partial \\theta} \\right)^2 \\right]}$\n",
        "\n",
        "Si $ \\text{Var}(T) $ alcanza el límite inferior:  \n",
        "$\\Rightarrow \\text{estimador insesgado óptimo}$\n",
        "\n",
        "#### Intervalos de Confianza\n",
        "\n",
        "$\\hat{\\theta} = T(X_1, \\ldots, X_n) \\quad \\longleftarrow \\text{estimación puntual}$\n",
        "\n",
        "$\\mathbb{P}(a < \\theta < b) = \\delta \\in (0,1)$\n",
        "\n",
        "$a, b \\rightarrow \\text{cantidades pivotales}$\n",
        "\n",
        "#### Definición\n",
        "\n",
        "Sea $ X_1, \\ldots, X_n $ una m.a. con f.d. $f(x; \\theta) $. Sean  \n",
        "$ T_1 = t_1(X_1, \\ldots, X_n) $ y $ T_2 = t_2(X_1, \\ldots, X_n) $ dos estadísticos tales que $ T_1 \\leq T_2 $\n",
        "\n",
        "$\\mathbb{P}\\left( T_1 \\leq \\tau(\\theta) \\leq T_2 \\right) = \\delta$\n",
        "\n",
        "Al intervalo aleatorio $ (T_1, T_2) $ se le llama *intervalo del $ \\delta \\times 100\\% $* de confianza."
      ],
      "metadata": {
        "id": "IngFCiU_hCE_"
      }
    },
    {
      "cell_type": "markdown",
      "source": [
        "### Ejercicios\n"
      ],
      "metadata": {
        "id": "aWGTIdhmfGVx"
      }
    },
    {
      "cell_type": "markdown",
      "metadata": {
        "id": "1f620784"
      },
      "source": [
        "**Ejercicio 1** En una encuesta de una Universidad, 225 estudiantes son seleccionados al azar de los que toman cálculo y se les pregunta si cálculo es su materia favorita. 100 estudiantes responden que el cálculo es su materia favorita. Proporcione un intervalo de confianza del 95 %  para la proporción de todos los estudiantes que toman cálculo y que la consideran su materia favorita."
      ]
    },
    {
      "cell_type": "code",
      "execution_count": null,
      "metadata": {
        "id": "1764f0b8",
        "outputId": "99e96522-8bb0-45fc-c0c1-45fad3695274"
      },
      "outputs": [
        {
          "name": "stdout",
          "output_type": "stream",
          "text": [
            "Intervalo al 95%: [0.3795, 0.5094]\n"
          ]
        }
      ],
      "source": [
        "n1 = 225\n",
        "exitos1 = 100\n",
        "p_hat = exitos1 / n1\n",
        "confianza1 = 0.95\n",
        "z_valor1 = st.norm.ppf(1 - (1 - confianza1)/2)\n",
        "\n",
        "error_estandar1 = np.sqrt(p_hat * (1 - p_hat) / n1)\n",
        "margen_error1 = z_valor1 * error_estandar1\n",
        "\n",
        "n1 = 225\n",
        "exitos1 = 100\n",
        "p_hat = exitos1 / n1\n",
        "confianza1 = 0.95\n",
        "z_valor1 = st.norm.ppf(1 - (1 - confianza1)/2)\n",
        "\n",
        "error_estandar1 = np.sqrt(p_hat * (1 - p_hat) / n1)\n",
        "margen_error1 = z_valor1 * error_estandar1\n",
        "\n",
        "ic1a=(p_hat - margen_error1,p_hat + margen_error1)\n",
        "\n",
        "print(f\"Intervalo al 95%: [{ic1a[0]:.4f}, {ic1a[1]:.4f}]\")"
      ]
    },
    {
      "cell_type": "markdown",
      "metadata": {
        "id": "98912bff"
      },
      "source": [
        "**Ejercicio 2**\n",
        "\n",
        "Los datos $1.2,\\ 2.1,\\ 2.3,\\ 1.9,\\ 3.0,\\ 1.5,\\ 2.8,\\ 2.4,\\ 1.7,\\ 2.6,\\ 2.0,\\ 1.8,\\ 3.1,\\ 2.2,\\ 2.5$ se toman a partir de una distribución normal $N(\\mu,\\sigma^2)$ con $\\mu$ desconocida.\n",
        "\n",
        "**a)** Encuentra un intervalo de confianza al nivel de $90\\%$ para $\\mu$, dado que $\\sigma =2$.\n",
        "\n",
        "**b)** Encuentra un intervalo de confianza al nivel de $90\\%$ para $\\mu$.\n",
        "\n",
        "**c)** Encuentra un intervalo de confianza al nivel de $90\\%$ para $\\sigma^2$."
      ]
    },
    {
      "cell_type": "code",
      "execution_count": null,
      "metadata": {
        "id": "223a0a0a",
        "outputId": "953b54b2-8494-45dd-9d7b-9fdecec6cc47"
      },
      "outputs": [
        {
          "name": "stdout",
          "output_type": "stream",
          "text": [
            "\n",
            "a)\n",
            "   Intervalo: [1.3573, 3.0561]\n",
            "\n",
            "b)\n",
            "   Intervalo: [1.9591, 2.4542]\n",
            "\n",
            "c)\n",
            "   Intervalo: [0.1752, 0.6315]\n"
          ]
        }
      ],
      "source": [
        "datos2 = np.array([1.2, 2.1, 2.3, 1.9, 3.0, 1.5, 2.8, 2.4, 1.7, 2.6, 2.0, 1.8, 3.1, 2.2, 2.5])\n",
        "n2 = len(datos2)\n",
        "media2 = np.mean(datos2)\n",
        "s2 = np.std(datos2, ddof=1)\n",
        "confianza2 = 0.90\n",
        "\n",
        "# a)\n",
        "sigma_a = 2\n",
        "z_valor2a = st.norm.ppf(1 - (1 - confianza2)/2)\n",
        "error_estandar2a = sigma_a / np.sqrt(n2)\n",
        "margen_error2a = z_valor2a * error_estandar2a\n",
        "ic2a = (media2 - margen_error2a, media2 + margen_error2a)\n",
        "\n",
        "print(\"\\na)\")\n",
        "print(f\"   Intervalo: [{ic2a[0]:.4f}, {ic2a[1]:.4f}]\")\n",
        "\n",
        "# b)\n",
        "t_valor2b = st.t.ppf(1 - (1 - confianza2)/2, df=n2-1)\n",
        "error_estandar2b = s2 / np.sqrt(n2)\n",
        "margen_error2b = t_valor2b * error_estandar2b\n",
        "ic2b = (media2 - margen_error2b, media2 + margen_error2b)\n",
        "\n",
        "print(\"\\nb)\")\n",
        "print(f\"   Intervalo: [{ic2b[0]:.4f}, {ic2b[1]:.4f}]\")\n",
        "\n",
        "\n",
        "# Parte c: Intervalo para varianza\n",
        "chi2_inf2c = st.chi2.ppf((1 - confianza2)/2, df=n2-1)\n",
        "chi2_sup2c = st.chi2.ppf(1 - (1 - confianza2)/2, df=n2-1)\n",
        "ic2c = ((n2-1)*s2**2/chi2_sup2c, (n2-1)*s2**2/chi2_inf2c)\n",
        "\n",
        "print(\"\\nc)\")\n",
        "print(f\"   Intervalo: [{ic2c[0]:.4f}, {ic2c[1]:.4f}]\")"
      ]
    },
    {
      "cell_type": "markdown",
      "metadata": {
        "id": "55c9dfcd"
      },
      "source": [
        "**Ejercicio 3**\n",
        "\n",
        "Los ingresos semanales promedio de las personas que trabajan en varias industrias aparecieron en el *The New York Times 1988 Almanac*.  \n",
        "Esos ingresos para quienes trabajan en los servicios fueron de $\\$369$. Suponga que este resultado se basó en una muestra de 250 personas dedicadas a los servicios y que la desviación estándar de la muestra fue de $\\$50$. Calcula el intervalo de confianza del 95% para la media de la población de ingresos semanales de personas que trabajan en los servicios."
      ]
    },
    {
      "cell_type": "code",
      "execution_count": null,
      "metadata": {
        "id": "714359a4",
        "outputId": "75a4f7f0-ed7d-48bf-941b-3498304c313c"
      },
      "outputs": [
        {
          "name": "stdout",
          "output_type": "stream",
          "text": [
            "Intervalo de confianza del 95% es: (362.80204967695437, 375.19795032304563)\n"
          ]
        }
      ],
      "source": [
        "# Datos\n",
        "n3 = 250\n",
        "media_muestral3 = 369\n",
        "sigma3 = 50\n",
        "nivel_confianza3 = 0.95\n",
        "error_estandar3 = sigma3 / np.sqrt(n3)\n",
        "\n",
        "\n",
        "intervalo3 = st.norm.interval(confidence = nivel_confianza3, loc = media_muestral3, scale = error_estandar3)\n",
        "intervalo3= (float(intervalo3[0]), float(intervalo3[1]))\n",
        "print(f\"Intervalo de confianza del 95% es: {intervalo3}\")"
      ]
    },
    {
      "cell_type": "markdown",
      "metadata": {
        "id": "83cce3ed"
      },
      "source": [
        "**Ejercicio 4**\n",
        "\n",
        "En un estudio de préstamos a estudiantes, el Departamento de Educación informó que los beneficiarios del fondo Stafford Loan deberían un promedio de \\$12,658 al recibirse (*USA Today*, 5 de abril de 1995). Suponga que este promedio de deuda se basa en una muestra de 480 préstamos a estudiantes y que la desviación estándar de la población de las deudas al recibirse es \\$2,000.\n",
        "\n",
        "**a)** Determina un estimado de confianza del **90%** del promedio poblacional de la deuda.\n",
        "\n",
        "**b)** Determina un estimado de confianza del **95%** del promedio poblacional de la deuda.\n",
        "\n",
        "**c)** Determina un estimado de confianza del **99%** del promedio poblacional de la deuda.\n",
        "\n",
        "**d)** Describe lo que sucede con el **ancho del intervalo de confianza** a medida que se **aumenta el nivel de confianza**. ¿Parece razonable? Explica tu respuesta."
      ]
    },
    {
      "cell_type": "code",
      "execution_count": null,
      "metadata": {
        "id": "d3c7c313",
        "outputId": "40d2f0b7-d681-4c21-fa6c-548958e29e14"
      },
      "outputs": [
        {
          "name": "stdout",
          "output_type": "stream",
          "text": [
            "\n",
            "b) 90%:\n",
            "Intervalo de confianza del 90% es: (12507.846094120749, 12808.153905879251)\n",
            "\n",
            "b) 95%:\n",
            "Intervalo de confianza del 95% es: (12479.080585628284, 12836.919414371716)\n",
            "\n",
            "b) 99%:\n",
            "Intervalo de confianza del 99% es: (12422.860031027241, 12893.139968972759)\n",
            "\n",
            "d) A medida que aumenta el nivel de confianza, el intervalo se hace más amplio.\n",
            "   Esto es razonable porque para tener mayor certeza de capturar el parámetro\n",
            "   poblacional, necesitamos un rango más amplio de valores posibles.\n"
          ]
        }
      ],
      "source": [
        "# Datos\n",
        "n4 = 480\n",
        "media_muestral4 = 12658\n",
        "sigma4 = 2000\n",
        "nivel_confianza4_95 = 0.95\n",
        "nivel_confianza4_90 = 0.90\n",
        "nivel_confianza4_99 = 0.99\n",
        "error_estandar4 = sigma4 / np.sqrt(n4)\n",
        "\n",
        "# a) 90%\n",
        "intervalo4_90 = st.norm.interval(confidence = nivel_confianza4_90, loc = media_muestral4, scale = error_estandar4)\n",
        "intervalo4_90= (float(intervalo4_90[0]), float(intervalo4_90[1]))\n",
        "print(\"\\nb) 90%:\")\n",
        "print(f\"Intervalo de confianza del 90% es: {intervalo4_90}\")\n",
        "\n",
        "# b) 95%\n",
        "intervalo4_95 = st.norm.interval(confidence = nivel_confianza4_95, loc = media_muestral4, scale = error_estandar4)\n",
        "intervalo4_95= (float(intervalo4_95[0]), float(intervalo4_95[1]))\n",
        "print(\"\\nb) 95%:\")\n",
        "print(f\"Intervalo de confianza del 95% es: {intervalo4_95}\")\n",
        "\n",
        "# c) 99%\n",
        "intervalo4_99 = st.norm.interval(confidence = nivel_confianza4_99, loc = media_muestral4, scale = error_estandar4)\n",
        "intervalo4_99= (float(intervalo4_99[0]), float(intervalo4_99[1]))\n",
        "print(\"\\nb) 99%:\")\n",
        "print(f\"Intervalo de confianza del 99% es: {intervalo4_99}\")\n",
        "\n",
        "\n",
        "print(\"\\nd) A medida que aumenta el nivel de confianza, el intervalo se hace más amplio.\")\n",
        "print(\"   Esto es razonable porque para tener mayor certeza de capturar el parámetro\")\n",
        "print(\"   poblacional, necesitamos un rango más amplio de valores posibles.\")"
      ]
    },
    {
      "cell_type": "markdown",
      "metadata": {
        "id": "526ace95"
      },
      "source": [
        "**Ejercicio 5**\n",
        "\n",
        "La encuesta anual de calidad de automóviles, efectuada por *J. D. Power & Associates*, determinó que la cantidad promedio de defectos, en todas las marcas, por cada vehículo nuevo es **1.07**  (*The Wall Street Journal*, 27 de enero de 1994). Suponga que se toma una muestra de **30 automóviles nuevos** de determinada marca y se obtienen las siguientes cantidades de defectos por vehículo:\n",
        "$$ 0, 1, 1, 2, 1, 0, 2, 3, 2, 1, 0, 2, 0, 0, 2, 3, 0, 4, 3, 1, 1, 1, 0, 2, 0, 2, 0, 3, 1, 0 $$\n",
        "\n",
        "**a)** ¿Cuál es el promedio muestral de la cantidad de defectos por vehículo?\n",
        "\n",
        "**b)** ¿Cuál es la desviación estándar de la muestra?\n",
        "\n",
        "**c)** Determine un intervalo de confianza del 95% para la **media de defectos** por vehículo de esta marca.\n",
        "\n",
        "**d)** Un analista sugirió que se debería **revisar una muestra mayor** antes de comparar con el promedio general de J.D. Power (1.07). ¿Respalda usted esta idea? ¿Por qué?"
      ]
    },
    {
      "cell_type": "code",
      "execution_count": null,
      "metadata": {
        "id": "8a4622ab",
        "outputId": "a3449fe3-2f8a-4c23-fbe8-6011eb05130c"
      },
      "outputs": [
        {
          "name": "stdout",
          "output_type": "stream",
          "text": [
            "a) Promedio de defectos: 1.2667\n",
            "b) Desviación estándar: 1.1725\n",
            "\n",
            "c) Intervalo de confianza del 95% es: (0.8471072941905251, 1.686226039142808)\n",
            "\n",
            "d) Sí se recomienda una muestra mayor porque con n=30 el intervalo es bastante amplio.\n",
            "   Una muestra mayor reduciría el error estándar y proporcionaría una estimación más precisa.\n"
          ]
        }
      ],
      "source": [
        "defectos = np.array([0, 1, 1, 2, 1, 0, 2, 3, 2, 1, 0, 2, 0, 0, 2, 3, 0, 4, 3, 1, 1, 1, 0, 2, 0, 2, 0, 3, 1, 0])\n",
        "n5 = len(defectos)\n",
        "\n",
        "\n",
        "nivel_confianza5 = 0.95\n",
        "\n",
        "# a)\n",
        "media_muestral5 = np.mean(defectos)\n",
        "print(f\"a) Promedio de defectos: {media_muestral5:.4f}\")\n",
        "\n",
        "# b)\n",
        "sigma5 = np.std(defectos, ddof=1)\n",
        "print(f\"b) Desviación estándar: {sigma5:.4f}\")\n",
        "\n",
        "# c)\n",
        "error_estandar5 = sigma5 / np.sqrt(n5)\n",
        "intervalo5 = st.norm.interval(confidence = nivel_confianza5, loc = media_muestral5, scale = error_estandar5)\n",
        "intervalo5= (float(intervalo5[0]), float(intervalo5[1]))\n",
        "\n",
        "print(f\"\\nc) Intervalo de confianza del 95% es: {intervalo5}\")\n",
        "\n",
        "print(\"\\nd) Sí se recomienda una muestra mayor porque con n=30 el intervalo es bastante amplio.\")\n",
        "print(\"   Una muestra mayor reduciría el error estándar y proporcionaría una estimación más precisa.\")"
      ]
    },
    {
      "cell_type": "markdown",
      "metadata": {
        "id": "1185c4c1"
      },
      "source": [
        "**Ejercicio 6**\n",
        "\n",
        "Un artículo que apareció en el ejemplar de noviembre de 1983 de *Consumer Reports* comparó varios tipos de baterías.  \n",
        "Se informó que los siguientes datos provienen de una muestra de 20 baterías (en horas de duración):\n",
        "$$ [2200, 2290, 2390, 2410, 2480, 2500, 2580, 2700, 2030, 2100, 2190, 1600, 1740, 1900, 1930, 2000, 1510, 1470, 1770, 1710] $$\n",
        "Determine la media muestral, la desviación estándar muestral, y el intervalo de confianza del **90%** para la media poblacional."
      ]
    },
    {
      "cell_type": "code",
      "execution_count": null,
      "metadata": {
        "id": "bfd4c0d3",
        "outputId": "9f91996e-fe31-4f72-f9dc-e3dee148cfcb"
      },
      "outputs": [
        {
          "name": "stdout",
          "output_type": "stream",
          "text": [
            "Media muestral: 2075.00 \n",
            "Desviación estándar: 368.93\n",
            "Intervalo de confianza del 90% es: (1939.3067902385742, 2210.693209761426)\n"
          ]
        }
      ],
      "source": [
        "baterias = np.array([2200, 2290, 2390, 2410, 2480, 2500, 2580, 2700, 2030, 2100, 2190, 1600, 1740, 1900, 1930, 2000, 1510, 1470, 1770, 1710])\n",
        "n6 = len(baterias)\n",
        "media_muestral6 = np.mean(baterias)\n",
        "sigma6 = np.std(baterias, ddof=1)\n",
        "nivel_confianza6 = 0.90\n",
        "error_estandar6 = sigma6 / np.sqrt(n6)\n",
        "\n",
        "intervalo6 = st.norm.interval(confidence = nivel_confianza6, loc = media_muestral6, scale = error_estandar6)\n",
        "intervalo6= (float(intervalo6[0]), float(intervalo6[1]))\n",
        "\n",
        "print(f\"Media muestral: {media_muestral6:.2f} \")\n",
        "print(f\"Desviación estándar: {sigma6:.2f}\")\n",
        "print(f\"Intervalo de confianza del 90% es: {intervalo6}\")"
      ]
    },
    {
      "cell_type": "code",
      "execution_count": null,
      "metadata": {
        "id": "d4b8dbb6",
        "outputId": "098c3270-5c35-4907-f188-280dc18b96fa"
      },
      "outputs": [
        {
          "name": "stdout",
          "output_type": "stream",
          "text": [
            "Intervalo de confianza del 95% es: (362.80204967695437, 375.19795032304563)\n"
          ]
        }
      ],
      "source": [
        "# Datos\n",
        "n3 = 250\n",
        "media_muestral3 = 369\n",
        "sigma3 = 50\n",
        "nivel_confianza3 = 0.95\n",
        "error_estandar3 = sigma3 / np.sqrt(n3)\n",
        "\n",
        "\n",
        "intervalo3 = st.norm.interval(confidence = nivel_confianza3, loc = media_muestral3, scale = error_estandar3)\n",
        "intervalo3= (float(intervalo3[0]), float(intervalo3[1]))\n",
        "print(f\"Intervalo de confianza del 95% es: {intervalo3}\")"
      ]
    },
    {
      "cell_type": "markdown",
      "metadata": {
        "id": "d9f830d4"
      },
      "source": [
        "**Ejercicio 7**\n",
        "\n",
        "El toxafen es un insecticida que ha sido identificado como contaminante en el ecosistema de los Grandes Lagos.  \n",
        "Para investigar el efecto de la exposición al toxafen en animales, a grupos de ratas se les administró toxafen en su dieta.\n",
        "\n",
        "El artículo *\"Reproduction Study of Toxaphene in Rat\"* reporta **aumentos de peso (en gramos)** de ratas a las que se les administró una **dosis baja (4 ppm)** y de ratas de **control** cuya dieta no incluía el insecticida.\n",
        "\n",
        "- En el grupo **control**, una muestra de **23 ratas hembras** tuvo una media de **$\\bar{X_2} = 210$ g** y una desviación estándar de **32 g**.\n",
        "- En el grupo con **dosis baja**, una muestra de **20 ratas hembras** tuvo una media de **$\\bar{X_1} = 190$ g** y una desviación estándar de **54 g**.\n",
        "\n",
        "Encuentra un **intervalo de confianza del 90% para la diferencia de medias** poblacionales:  $\\mu_1 - \\mu_2$, donde:\n",
        "\n",
        "- $\\mu_1$ es la media poblacional de incremento de peso en el grupo con **dosis baja**.\n",
        "- $\\mu_2$ es la media poblacional de incremento de peso en el grupo **control**.\n",
        "\n",
        "¿Sugiere este intervalo que el toxafen **reduce** el incremento de peso en ratas?  \n",
        "¿Incluye el intervalo el valor 0? ¿Por qué es importante?"
      ]
    },
    {
      "cell_type": "code",
      "execution_count": null,
      "metadata": {
        "id": "9a0891d3",
        "outputId": "79dd9c3a-6b6e-477a-8b76-22ceaaeed7dc"
      },
      "outputs": [
        {
          "name": "stdout",
          "output_type": "stream",
          "text": [
            "Intervalo de confianza del 90%: [-42.43, 2.43] \n",
            "\n",
            "El intervalo es completamente negativo, lo que sugiere que el toxafen reduce\n",
            "significativamente el aumento de peso. El intervalo no incluye el 0, lo que\n",
            "indica que la diferencia es estadísticamente significativa al nivel del 90%.\n"
          ]
        }
      ],
      "source": [
        "# Grupo dosis baja\n",
        "n7a = 20\n",
        "media7a = 190\n",
        "s7a = 54\n",
        "\n",
        "# Grupo control\n",
        "n7b = 23\n",
        "media7b = 210\n",
        "s7b = 32\n",
        "\n",
        "confianza7 = 0.90\n",
        "\n",
        "# Varianza agrupada\n",
        "varianza_agrupada = ((n7a-1)*s7a**2 + (n7b-1)*s7b**2) / (n7a + n7b - 2)\n",
        "error_estandar7 = np.sqrt(varianza_agrupada * (1/n7a + 1/n7b))\n",
        "t_valor7 = st.t.ppf(1 - (1 - confianza7)/2, df=n7a+n7b-2)\n",
        "\n",
        "diferencia = media7a - media7b\n",
        "margen_error7 = t_valor7 * error_estandar7\n",
        "ic7 = (diferencia - margen_error7, diferencia + margen_error7)\n",
        "\n",
        "\n",
        "print(f\"Intervalo de confianza del 90%: [{ic7[0]:.2f}, {ic7[1]:.2f}] \\n\")\n",
        "print(\"El intervalo es completamente negativo, lo que sugiere que el toxafen reduce\")\n",
        "print(\"significativamente el aumento de peso. El intervalo no incluye el 0, lo que\")\n",
        "print(\"indica que la diferencia es estadísticamente significativa al nivel del 90%.\")"
      ]
    },
    {
      "cell_type": "markdown",
      "source": [],
      "metadata": {
        "id": "nIOJXE9weBAG"
      }
    },
    {
      "cell_type": "markdown",
      "source": [
        "## Pruebas de Hipótesis"
      ],
      "metadata": {
        "id": "CpJKy-K9hPtJ"
      }
    },
    {
      "cell_type": "markdown",
      "source": [
        "\n",
        "- *Hipótesis Nula (H₀):* Determina la distribución.\n",
        "- *Hipótesis Alternativa (H₁ o Hₐ):* La que no es nula.\n",
        "\n",
        "$Z = \\frac{\\bar{X} - \\mu_0}{\\sigma / \\sqrt{n}} \\sim \\mathcal{N}(0,1)$\n",
        "\n",
        "   - H₀: $ \\mu \\leq \\mu_0 $ vs H₁: $ \\mu > \\mu_0 $  \n",
        "   - H₀: $ \\mu \\geq \\mu_0 $ vs H₁: $ \\mu < \\mu_0 $  \n",
        "   - H₀: $ \\mu = \\mu_0 $ vs H₁: $ \\mu \\neq \\mu_0 $"
      ],
      "metadata": {
        "id": "osh-IKEMhTL3"
      }
    }
  ]
}